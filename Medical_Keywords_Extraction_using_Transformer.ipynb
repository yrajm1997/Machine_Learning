{
  "cells": [
    {
      "cell_type": "markdown",
      "metadata": {
        "id": "LJY-HzQzCiJx"
      },
      "source": [
        "# Medical Keywords Extraction using Transformer"
      ]
    },
    {
      "cell_type": "markdown",
      "metadata": {
        "id": "sNCzT95pcrIN"
      },
      "source": [
        "## Objectives"
      ]
    },
    {
      "cell_type": "markdown",
      "metadata": {
        "id": "IMBrLtAtcrIO"
      },
      "source": [
        "At the end of the experiment, you will be able to :\n",
        "\n",
        "* perform data preprocessing, EDA and feature extraction on the Medical Transcription dataset\n",
        "* build transformer components - positional embedding, encoder, decoder, etc\n",
        "* train a transformer model for keywords extraction\n",
        "* create function to perform inference using trained transformer\n",
        "* use the gradio library to generate a customizable UI for displaying the extracted keywords"
      ]
    },
    {
      "cell_type": "markdown",
      "metadata": {
        "id": "v6Xda9CM9el9"
      },
      "source": [
        "## Dataset description"
      ]
    },
    {
      "cell_type": "markdown",
      "metadata": {
        "id": "i98dvBWFQq4x"
      },
      "source": [
        "The dataset used in this project is Medical transcription dataset. It contains sample medical transcriptions for various medical specialties.\n",
        "\n",
        "The data is in CSV format with below features:\n",
        "\n",
        "- **description**\n",
        "\n",
        "- **medical_specialty**\n",
        "\n",
        "- **sample_name**\n",
        "\n",
        "- **transcription**\n",
        "\n",
        "- **keywords**"
      ]
    },
    {
      "cell_type": "markdown",
      "metadata": {
        "id": "4Pped-3NPaDV"
      },
      "source": [
        "## Information"
      ]
    },
    {
      "cell_type": "markdown",
      "metadata": {
        "id": "QuxYf07d62Oo"
      },
      "source": [
        "Medical transcriptions are textual records of patient-doctor interactions, medical procedures, clinical findings, and more. Extracting keywords from these transcriptions can provide valuable insights into a patient's health status, medical history, and treatment plans.\n",
        "\n",
        "* Significance:\n",
        "\n",
        "  - Data Summarization: Keyword extraction helps in summarizing lengthy medical transcriptions, making it easier for healthcare professionals to quickly understand the patient's medical history.\n",
        "\n",
        "  - Search and Retrieval: Extracted keywords can be used to index medical records, facilitating faster search and retrieval of relevant documents.\n",
        "\n",
        "  - Trend Analysis: By analyzing frequently occurring keywords, healthcare institutions can identify common ailments, treatment outcomes, and more.\n",
        "\n",
        "* Applications:\n",
        "\n",
        "  - Clinical Decision Support: Extracted keywords can be used to develop clinical decision support systems that provide real-time suggestions to healthcare professionals.\n",
        "  - Patient Monitoring: By continuously analyzing the keywords from a patient's medical transcriptions, healthcare systems can monitor the patient's health and predict potential health risks.\n",
        "  - Research: Medical researchers can use extracted keywords to identify trends, study disease outbreaks, and understand treatment efficacies.\n",
        "  - Billing and Insurance: Keywords can help in automating the medical coding process, which is essential for billing and insurance claims."
      ]
    },
    {
      "cell_type": "markdown",
      "metadata": {
        "id": "YN15WtbfwPkB"
      },
      "source": [
        "### Problem Statement"
      ]
    },
    {
      "cell_type": "markdown",
      "metadata": {
        "id": "R8_CoX7swR14"
      },
      "source": [
        "Build a transformer model for performing keywords extraction on medical transcription dataset."
      ]
    },
    {
      "cell_type": "markdown",
      "metadata": {
        "id": "Gt9VG5y7FLpv"
      },
      "source": [
        "### Import required packages"
      ]
    },
    {
      "cell_type": "code",
      "execution_count": null,
      "metadata": {
        "colab": {
          "base_uri": "https://localhost:8080/"
        },
        "id": "qV7FBip_FLpw",
        "outputId": "1b74f099-f3fe-4ba2-c01a-a82e3f6f0c41"
      },
      "outputs": [
        {
          "name": "stderr",
          "output_type": "stream",
          "text": [
            "[nltk_data] Downloading package stopwords to /root/nltk_data...\n",
            "[nltk_data]   Unzipping corpora/stopwords.zip.\n",
            "[nltk_data] Downloading package punkt to /root/nltk_data...\n",
            "[nltk_data]   Unzipping tokenizers/punkt.zip.\n"
          ]
        }
      ],
      "source": [
        "import numpy as np\n",
        "import pandas as pd\n",
        "import re\n",
        "import random\n",
        "import string\n",
        "from string import digits\n",
        "import seaborn as sns\n",
        "import matplotlib.pyplot as plt\n",
        "from matplotlib.gridspec import GridSpec\n",
        "import nltk\n",
        "nltk.download('stopwords')\n",
        "nltk.download('punkt')\n",
        "from nltk.corpus import stopwords\n",
        "from sklearn.model_selection import train_test_split\n",
        "\n",
        "import tensorflow as tf\n",
        "from tensorflow import keras\n",
        "from tensorflow.keras import layers\n",
        "from tensorflow.keras.models import Model\n",
        "from tensorflow.keras.preprocessing.text import Tokenizer, tokenizer_from_json\n",
        "from tensorflow.keras.preprocessing.sequence import pad_sequences\n",
        "\n",
        "import warnings\n",
        "pd.set_option(\"display.max_colwidth\", 200)\n",
        "warnings.filterwarnings(\"ignore\")"
      ]
    },
    {
      "cell_type": "code",
      "execution_count": null,
      "metadata": {
        "cellView": "form",
        "colab": {
          "base_uri": "https://localhost:8080/"
        },
        "id": "_LAPs1EOmaID",
        "outputId": "a8ea6085-2ae1-4bd2-87bc-3a8289d19616"
      },
      "outputs": [
        {
          "name": "stdout",
          "output_type": "stream",
          "text": [
            "Medical_transcription_dataset.csv\n"
          ]
        }
      ],
      "source": [
        "#@title Download the dataset\n",
        "!wget -q https://cdn.iisc.talentsprint.com/AIandMLOps/Datasets/Medical_transcription_dataset.csv\n",
        "!ls | grep \".csv\""
      ]
    },
    {
      "cell_type": "markdown",
      "metadata": {
        "id": "T3FkLI6wcaat"
      },
      "source": [
        "**Step 1: Read the Medical_transcription_dataset.csv dataset**"
      ]
    },
    {
      "cell_type": "code",
      "execution_count": null,
      "metadata": {
        "colab": {
          "base_uri": "https://localhost:8080/",
          "height": 233
        },
        "id": "zvi5Q_4GVZwM",
        "outputId": "bb8ca180-e458-44bc-8160-3288a05f06e5"
      },
      "outputs": [
        {
          "data": {
            "application/vnd.google.colaboratory.intrinsic+json": {
              "summary": "{\n  \"name\": \"df\",\n  \"rows\": 4999,\n  \"fields\": [\n    {\n      \"column\": \"Unnamed: 0\",\n      \"properties\": {\n        \"dtype\": \"number\",\n        \"std\": 1443,\n        \"min\": 0,\n        \"max\": 4998,\n        \"num_unique_values\": 4999,\n        \"samples\": [\n          84,\n          2470,\n          2804\n        ],\n        \"semantic_type\": \"\",\n        \"description\": \"\"\n      }\n    },\n    {\n      \"column\": \"description\",\n      \"properties\": {\n        \"dtype\": \"category\",\n        \"num_unique_values\": 2348,\n        \"samples\": [\n          \" MRI left shoulder.\",\n          \" Left heart catheterization with left ventriculography and selective coronary angiography.  Percutaneous transluminal coronary angioplasty and stent placement of the right coronary artery.\",\n          \" Iron deficiency anemia.  She underwent a bone marrow biopsy which showed a normal cellular marrow with trilineage hematopoiesis.\"\n        ],\n        \"semantic_type\": \"\",\n        \"description\": \"\"\n      }\n    },\n    {\n      \"column\": \"medical_specialty\",\n      \"properties\": {\n        \"dtype\": \"category\",\n        \"num_unique_values\": 40,\n        \"samples\": [\n          \" Ophthalmology\",\n          \" Pediatrics - Neonatal\",\n          \" Physical Medicine - Rehab\"\n        ],\n        \"semantic_type\": \"\",\n        \"description\": \"\"\n      }\n    },\n    {\n      \"column\": \"sample_name\",\n      \"properties\": {\n        \"dtype\": \"category\",\n        \"num_unique_values\": 2377,\n        \"samples\": [\n          \" Revocation Admission \",\n          \" Bilateral Hip Pain \",\n          \" Inguinal Hernia Repair - 4 \"\n        ],\n        \"semantic_type\": \"\",\n        \"description\": \"\"\n      }\n    },\n    {\n      \"column\": \"transcription\",\n      \"properties\": {\n        \"dtype\": \"category\",\n        \"num_unique_values\": 2357,\n        \"samples\": [\n          \"SUBJECTIVE:,  Patient presents with Mom and Dad for her 5-year 3-month well-child check.  Family has not concerns stating patient has been doing well overall since last visit.  Taking in a well-balanced diet consisting of milk and dairy products, fruits, vegetables, proteins and grains with minimal junk food and snack food.  No behavioral concerns.  Gets along well with peers as well as adults.  Is excited to start kindergarten this upcoming school year.  Does attend daycare.  Normal voiding and stooling pattern.  No concerns with hearing or vision.  Sees the dentist regularly.  Growth and development:  Denver II normal passing all developmental milestones per age in areas of fine motor, gross motor, personal and social interaction and speech and language development.  See Denver II form in the chart.,ALLERGIES:,  None.,MEDICATIONS: , None.,FAMILY SOCIAL HISTORY:,  Unchanged since last checkup.  Lives at home with mother, father and sibling.  No smoking in the home.,REVIEW OF SYSTEMS:,  As per HPI; otherwise negative.,OBJECTIVE:,Vital Signs:  Weight 43 pounds.  Height 42-1/4 inches.  Temperature 97.7.  Blood pressure 90/64.,General:  Well-developed, well-nourished, cooperative, alert and interactive 5-year -3month-old white female in no acute distress.,HEENT:  Atraumatic, normocephalic.  Pupils equal, round and reactive.  Sclerae clear.  Red reflex present bilaterally.  Extraocular muscles intact.  TMs clear bilaterally.  Oropharynx:  Mucous membranes moist and pink.  Good dentition.,Neck:  Supple, no lymphadenopathy.,Chest:  Clear to auscultation bilaterally.  No wheeze or crackles.  Good air exchange.,Cardiovascular:  Regular rate and rhythm.  No murmur.  Good pulses bilaterally.,Abdomen:  Soft, nontender.  Nondistended.  Positive bowel sounds.  No masses or organomegaly.,GU:  Tanner I female genitalia.  Femoral pulses equal bilaterally.  No rash.,Extremities:  Full range of motion.  No cyanosis, clubbing or edema.,Back:  Straight.  No scoliosis.,Integument:  Warm, dry and pink without lesions.,Neurological:  Alert.  Good muscle tone and strength.  Cranial nerves II-XII grossly intact.  DTRs 2+/4+ bilaterally.,ASSESSMENT/PLAN:,1. Well 5-year 3-month-old white female.,2. Anticipatory guidance for growth and diet development and safety issues as well as immunizations.  Will receive MMR, DTaP and IPV today.  Discussed risks and benefits as well as possible side effects and symptomatic treatment.  Gave 5-year well-child check handout to mom.  Completed school pre-participation physical.  Copy in the chart.  Completed vision and hearing screening.  Reviewed results with family.,3. Follow up in one year for next well-child check or as needed for acute care.\",\n          \"PREOPERATIVE DIAGNOSES: , Erythema of the right knee and leg, possible septic knee.,POSTOPERATIVE DIAGNOSES:,  Erythema of the right knee superficial and leg, right septic knee ruled out.,INDICATIONS: , Mr. ABC is a 52-year-old male who has had approximately eight days of erythema over his knee.  He has been to multiple institutions as an outpatient for this complaint.  He has had what appears to be prepatellar bursa aspirated with little to no success.  He has been treated with Kefzol and 1 g of Rocephin one point.  He also reports, in the emergency department today, an attempt was made to aspirate his actual knee joint which was unsuccessful.  Orthopedic Surgery was consulted at this time.  Considering the patient's physical exam, there is a portal that would prove to be outside of the erythema that would be useful for aspiration of the knee.  After discussion of risks and benefits, the patient elected to proceed with aspiration through the anterolateral portal of his knee joint.,PROCEDURE:  ,The patient's right anterolateral knee area was prepped with Betadine times two and a 20-gauge spinal needle was used to approach the knee joint approximately 3 cm anterior and 2 cm lateral to the superolateral pole of the patella.  The 20-gauge spinal needle was inserted and entered the knee joint.  Approximately, 4 cc of clear yellow fluid was aspirated.  The patient tolerated the procedure well.,DISPOSITION: , Based upon the appearance of this synovial fluid, we have a very low clinical suspicion of a septic joint.  We will send this fluid to the lab for cell count, crystal exam, as well as culture and Gram stain.  We will follow these results.  After discussion with the emergency department staff, it appears that they tend to try to treat his erythema which appears to be cellulitis with IV antibiotics.\",\n          \"REASON FOR CONSULT:,  Depression.,HPI:,  The patient is an 87-year-old white female admitted for low back pain status post hip fracture sustained a few days before Thanksgiving in 2006.  The patient was diagnosed and treated for a T9 compression fraction with vertebroplasty.  Soon after discharge, the patient was readmitted with severe mid low back pain and found to have a T8 compression fracture.  This was also treated with vertebroplasty.  The patient is now complaining of back pain that fluctuates at time, acknowledging her pain medication works but not all the time.  Her pain is in her upper back around her shoulder blades.  The patient says lying down with the heated pad lessens the pain and that any physical activity increases it.  MRI on January 29, 2007, was positive for possible meningioma to the left of anterior box.,The patient reports of many depressive symptoms, has lost all interest in things she used to do (playing cards, reading).  Has no energy to do things she likes, but does participate in physical therapy, cries often and what she believes for no reason.  Does not see any future for herself.  Reports not being able to concentrate on anything saying she gets distracted by thoughts of how she does not want to live anymore.  Admits to decreased appetite, feeling depressed, and always wanting to be alone.  Claims that before her initial hospitalization for her hip fracture, she was highly active, enjoyed living independently at Terrace.  Denies suicidal ideations and homicidal ideations, but that she did not mind dying, and denies any manic symptoms including decreased need to sleep, inflated self-worth, and impulsivity.  Denies auditory and visual hallucinations.  No paranoid, delusions, or other abnormalities of thought content.  Denies panic attacks, flashbacks, and other feelings of anxiety.  Does admit to feeling restless at times.  Is concerned with her physical appearance while in the hospital, i.e., her hair looking \\\"awful.\\\",PAST MEDICAL HISTORY:,  Hypertension, cataracts, hysterectomy, MI, osteoporosis, right total knee replacement in April 2004, hip fracture, and newly diagnosed diabetes.  No history of thyroid problems, seizures, strokes, or head injuries.,CURRENT MEDICATIONS:,  Norvasc 10 mg p.o. daily, aspirin 81 mg p.o. daily, Lipitor 20 mg p.o. daily, Klonopin 0.5 mg p.o. b.i.d., digoxin 0.125 mg p.o. daily, Lexapro 10 mg p.o. daily, TriCor 145 mg p.o. each bedtime, Lasix 20 mg p.o. daily, Ismo 20 mg p.o. daily, lidocaine patch, Zestril, Prinivil 40 mg p.o. daily, Lopressor 75 mg p.o. b.i.d., Starlix 120 mg p.o. t.i.d., Pamelor 25 mg p.o. each bedtime, polyethylene glycol 17 g p.o. every other day, potassium chloride 20 mEq p.o. t.i.d., Norco one tablet p.o. q.4h. p.r.n., Zofran 4 mg IV q.6h.,HOME MEDICATIONS:,  Unknown.,ALLERGIES:,  CODEINE (HALLUCINATIONS).,FAMILY MEDICAL HISTORY:,  Unremarkable.,PAST PSYCHIATRIC HISTORY:,  Unremarkable.  Never taken any psychiatric medications or have ever had a family member with psychiatric illness.,SOCIAL/DEVELOPMENTAL HISTORY:,  Unremarkable childhood.  Married for 40 plus years, widowed in 1981.  Worked as administrative assistant in UTMB Hospitals VP's office.  Two children.  Before admission, lived in the Terrace Independent Living Center.  Was happy and very active while living there.  Had friends in the Terrace and would not mind going back there after discharge.  Occasional glass of wine at dinner.  Denies ever using illicit drugs and tobacco.,MENTAL STATUS EXAM:,  The patient is an 87-year-old white female with appropriate appearance, wearing street clothes while lying in bed with her eyes tightly closed.  Slight decrease in motor activity.  Normal eye contact.  Speech, low volume and rate.  Good articulation and inflexion.  Normal concentration.  Mood, labile, tearful at times, depressed, then euthymic.  Affect, mood congruent, full range.  Thought process, logical and goal directed.  Thought content, no delusions, suicidal or homicidal ideations.  Perception, no auditory or visual hallucinations.  Sensorium, alert, and oriented x3.  Memory, fair.  Information and intelligence, average.  Judgment and insight, fair.,MINI MENTAL STATUS EXAM,:  A 28/30.  Could not remember two out of the three recalled words.,ASSESSMENT:,  The patient is an 87-year-old white female with recent history of hip fracture and two thoracic compression fractures.  The patient reports being high functioning prior to admission and says her depression symptoms have occurred while being in the hospital.,Axis I:  Major depression disorder.,Axis II:  Deferred.,Axis III:  Osteoporosis, hypertension, hip fracture, possible diabetes, meningioma, MI, and right total knee replacement.,Axis IV:  Lives independently at Terrace, difficulty walking, hospitalization.,Axis V:  45.,PLAN:,  Continue Lexapro 10 mg daily and Pamelor 25 mg each bedtime monitor for adverse effects of TCA and worsening of depressive symptoms.  Discussed about possible inpatient psychiatric care.,Thank you for the consultation.\"\n        ],\n        \"semantic_type\": \"\",\n        \"description\": \"\"\n      }\n    },\n    {\n      \"column\": \"keywords\",\n      \"properties\": {\n        \"dtype\": \"string\",\n        \"num_unique_values\": 3849,\n        \"samples\": [\n          \"surgery, extensor tendon laceration, bier block, pip joint, extensor tendon, tendon, repair, finger, laceration, extensor,\",\n          \"surgery, scrotal incision, right vas, bleeding, anesthesia, vasectomy\",\n          \"radiology, i-125 implantation, tumor, prostate, prostate brachytherapy, implantationNOTE,: Thesetranscribed medical transcription sample reports and examples are provided by various users andare for reference purpose only. MTHelpLine does not certify accuracy and quality of sample reports.These transcribed medical transcription sample reports may include some uncommon or unusual formats;this would be due to the preference of the dictating physician. All names and dates have beenchanged (or removed) to keep confidentiality. Any resemblance of any type of name or date orplace or anything else to real world is purely incidental.\"\n        ],\n        \"semantic_type\": \"\",\n        \"description\": \"\"\n      }\n    }\n  ]\n}",
              "type": "dataframe",
              "variable_name": "df"
            },
            "text/html": [
              "\n",
              "  <div id=\"df-c7cd621f-4bf0-47f7-b8ef-e35a49c32dbb\" class=\"colab-df-container\">\n",
              "    <div>\n",
              "<style scoped>\n",
              "    .dataframe tbody tr th:only-of-type {\n",
              "        vertical-align: middle;\n",
              "    }\n",
              "\n",
              "    .dataframe tbody tr th {\n",
              "        vertical-align: top;\n",
              "    }\n",
              "\n",
              "    .dataframe thead th {\n",
              "        text-align: right;\n",
              "    }\n",
              "</style>\n",
              "<table border=\"1\" class=\"dataframe\">\n",
              "  <thead>\n",
              "    <tr style=\"text-align: right;\">\n",
              "      <th></th>\n",
              "      <th>Unnamed: 0</th>\n",
              "      <th>description</th>\n",
              "      <th>medical_specialty</th>\n",
              "      <th>sample_name</th>\n",
              "      <th>transcription</th>\n",
              "      <th>keywords</th>\n",
              "    </tr>\n",
              "  </thead>\n",
              "  <tbody>\n",
              "    <tr>\n",
              "      <th>0</th>\n",
              "      <td>0</td>\n",
              "      <td>A 23-year-old white female presents with complaint of allergies.</td>\n",
              "      <td>Allergy / Immunology</td>\n",
              "      <td>Allergic Rhinitis</td>\n",
              "      <td>SUBJECTIVE:,  This 23-year-old white female presents with complaint of allergies.  She used to have allergies when she lived in Seattle but she thinks they are worse here.  In the past, she has tr...</td>\n",
              "      <td>allergy / immunology, allergic rhinitis, allergies, asthma, nasal sprays, rhinitis, nasal, erythematous, allegra, sprays, allergic,</td>\n",
              "    </tr>\n",
              "    <tr>\n",
              "      <th>1</th>\n",
              "      <td>1</td>\n",
              "      <td>Consult for laparoscopic gastric bypass.</td>\n",
              "      <td>Bariatrics</td>\n",
              "      <td>Laparoscopic Gastric Bypass Consult - 2</td>\n",
              "      <td>PAST MEDICAL HISTORY:, He has difficulty climbing stairs, difficulty with airline seats, tying shoes, used to public seating, and lifting objects off the floor.  He exercises three times a week at...</td>\n",
              "      <td>bariatrics, laparoscopic gastric bypass, weight loss programs, gastric bypass, atkin's diet, weight watcher's, body weight, laparoscopic gastric, weight loss, pounds, months, weight, laparoscopic,...</td>\n",
              "    </tr>\n",
              "  </tbody>\n",
              "</table>\n",
              "</div>\n",
              "    <div class=\"colab-df-buttons\">\n",
              "\n",
              "  <div class=\"colab-df-container\">\n",
              "    <button class=\"colab-df-convert\" onclick=\"convertToInteractive('df-c7cd621f-4bf0-47f7-b8ef-e35a49c32dbb')\"\n",
              "            title=\"Convert this dataframe to an interactive table.\"\n",
              "            style=\"display:none;\">\n",
              "\n",
              "  <svg xmlns=\"http://www.w3.org/2000/svg\" height=\"24px\" viewBox=\"0 -960 960 960\">\n",
              "    <path d=\"M120-120v-720h720v720H120Zm60-500h600v-160H180v160Zm220 220h160v-160H400v160Zm0 220h160v-160H400v160ZM180-400h160v-160H180v160Zm440 0h160v-160H620v160ZM180-180h160v-160H180v160Zm440 0h160v-160H620v160Z\"/>\n",
              "  </svg>\n",
              "    </button>\n",
              "\n",
              "  <style>\n",
              "    .colab-df-container {\n",
              "      display:flex;\n",
              "      gap: 12px;\n",
              "    }\n",
              "\n",
              "    .colab-df-convert {\n",
              "      background-color: #E8F0FE;\n",
              "      border: none;\n",
              "      border-radius: 50%;\n",
              "      cursor: pointer;\n",
              "      display: none;\n",
              "      fill: #1967D2;\n",
              "      height: 32px;\n",
              "      padding: 0 0 0 0;\n",
              "      width: 32px;\n",
              "    }\n",
              "\n",
              "    .colab-df-convert:hover {\n",
              "      background-color: #E2EBFA;\n",
              "      box-shadow: 0px 1px 2px rgba(60, 64, 67, 0.3), 0px 1px 3px 1px rgba(60, 64, 67, 0.15);\n",
              "      fill: #174EA6;\n",
              "    }\n",
              "\n",
              "    .colab-df-buttons div {\n",
              "      margin-bottom: 4px;\n",
              "    }\n",
              "\n",
              "    [theme=dark] .colab-df-convert {\n",
              "      background-color: #3B4455;\n",
              "      fill: #D2E3FC;\n",
              "    }\n",
              "\n",
              "    [theme=dark] .colab-df-convert:hover {\n",
              "      background-color: #434B5C;\n",
              "      box-shadow: 0px 1px 3px 1px rgba(0, 0, 0, 0.15);\n",
              "      filter: drop-shadow(0px 1px 2px rgba(0, 0, 0, 0.3));\n",
              "      fill: #FFFFFF;\n",
              "    }\n",
              "  </style>\n",
              "\n",
              "    <script>\n",
              "      const buttonEl =\n",
              "        document.querySelector('#df-c7cd621f-4bf0-47f7-b8ef-e35a49c32dbb button.colab-df-convert');\n",
              "      buttonEl.style.display =\n",
              "        google.colab.kernel.accessAllowed ? 'block' : 'none';\n",
              "\n",
              "      async function convertToInteractive(key) {\n",
              "        const element = document.querySelector('#df-c7cd621f-4bf0-47f7-b8ef-e35a49c32dbb');\n",
              "        const dataTable =\n",
              "          await google.colab.kernel.invokeFunction('convertToInteractive',\n",
              "                                                    [key], {});\n",
              "        if (!dataTable) return;\n",
              "\n",
              "        const docLinkHtml = 'Like what you see? Visit the ' +\n",
              "          '<a target=\"_blank\" href=https://colab.research.google.com/notebooks/data_table.ipynb>data table notebook</a>'\n",
              "          + ' to learn more about interactive tables.';\n",
              "        element.innerHTML = '';\n",
              "        dataTable['output_type'] = 'display_data';\n",
              "        await google.colab.output.renderOutput(dataTable, element);\n",
              "        const docLink = document.createElement('div');\n",
              "        docLink.innerHTML = docLinkHtml;\n",
              "        element.appendChild(docLink);\n",
              "      }\n",
              "    </script>\n",
              "  </div>\n",
              "\n",
              "\n",
              "<div id=\"df-95c58f5b-803a-4a8b-9cee-5fd2d6bf81ad\">\n",
              "  <button class=\"colab-df-quickchart\" onclick=\"quickchart('df-95c58f5b-803a-4a8b-9cee-5fd2d6bf81ad')\"\n",
              "            title=\"Suggest charts\"\n",
              "            style=\"display:none;\">\n",
              "\n",
              "<svg xmlns=\"http://www.w3.org/2000/svg\" height=\"24px\"viewBox=\"0 0 24 24\"\n",
              "     width=\"24px\">\n",
              "    <g>\n",
              "        <path d=\"M19 3H5c-1.1 0-2 .9-2 2v14c0 1.1.9 2 2 2h14c1.1 0 2-.9 2-2V5c0-1.1-.9-2-2-2zM9 17H7v-7h2v7zm4 0h-2V7h2v10zm4 0h-2v-4h2v4z\"/>\n",
              "    </g>\n",
              "</svg>\n",
              "  </button>\n",
              "\n",
              "<style>\n",
              "  .colab-df-quickchart {\n",
              "      --bg-color: #E8F0FE;\n",
              "      --fill-color: #1967D2;\n",
              "      --hover-bg-color: #E2EBFA;\n",
              "      --hover-fill-color: #174EA6;\n",
              "      --disabled-fill-color: #AAA;\n",
              "      --disabled-bg-color: #DDD;\n",
              "  }\n",
              "\n",
              "  [theme=dark] .colab-df-quickchart {\n",
              "      --bg-color: #3B4455;\n",
              "      --fill-color: #D2E3FC;\n",
              "      --hover-bg-color: #434B5C;\n",
              "      --hover-fill-color: #FFFFFF;\n",
              "      --disabled-bg-color: #3B4455;\n",
              "      --disabled-fill-color: #666;\n",
              "  }\n",
              "\n",
              "  .colab-df-quickchart {\n",
              "    background-color: var(--bg-color);\n",
              "    border: none;\n",
              "    border-radius: 50%;\n",
              "    cursor: pointer;\n",
              "    display: none;\n",
              "    fill: var(--fill-color);\n",
              "    height: 32px;\n",
              "    padding: 0;\n",
              "    width: 32px;\n",
              "  }\n",
              "\n",
              "  .colab-df-quickchart:hover {\n",
              "    background-color: var(--hover-bg-color);\n",
              "    box-shadow: 0 1px 2px rgba(60, 64, 67, 0.3), 0 1px 3px 1px rgba(60, 64, 67, 0.15);\n",
              "    fill: var(--button-hover-fill-color);\n",
              "  }\n",
              "\n",
              "  .colab-df-quickchart-complete:disabled,\n",
              "  .colab-df-quickchart-complete:disabled:hover {\n",
              "    background-color: var(--disabled-bg-color);\n",
              "    fill: var(--disabled-fill-color);\n",
              "    box-shadow: none;\n",
              "  }\n",
              "\n",
              "  .colab-df-spinner {\n",
              "    border: 2px solid var(--fill-color);\n",
              "    border-color: transparent;\n",
              "    border-bottom-color: var(--fill-color);\n",
              "    animation:\n",
              "      spin 1s steps(1) infinite;\n",
              "  }\n",
              "\n",
              "  @keyframes spin {\n",
              "    0% {\n",
              "      border-color: transparent;\n",
              "      border-bottom-color: var(--fill-color);\n",
              "      border-left-color: var(--fill-color);\n",
              "    }\n",
              "    20% {\n",
              "      border-color: transparent;\n",
              "      border-left-color: var(--fill-color);\n",
              "      border-top-color: var(--fill-color);\n",
              "    }\n",
              "    30% {\n",
              "      border-color: transparent;\n",
              "      border-left-color: var(--fill-color);\n",
              "      border-top-color: var(--fill-color);\n",
              "      border-right-color: var(--fill-color);\n",
              "    }\n",
              "    40% {\n",
              "      border-color: transparent;\n",
              "      border-right-color: var(--fill-color);\n",
              "      border-top-color: var(--fill-color);\n",
              "    }\n",
              "    60% {\n",
              "      border-color: transparent;\n",
              "      border-right-color: var(--fill-color);\n",
              "    }\n",
              "    80% {\n",
              "      border-color: transparent;\n",
              "      border-right-color: var(--fill-color);\n",
              "      border-bottom-color: var(--fill-color);\n",
              "    }\n",
              "    90% {\n",
              "      border-color: transparent;\n",
              "      border-bottom-color: var(--fill-color);\n",
              "    }\n",
              "  }\n",
              "</style>\n",
              "\n",
              "  <script>\n",
              "    async function quickchart(key) {\n",
              "      const quickchartButtonEl =\n",
              "        document.querySelector('#' + key + ' button');\n",
              "      quickchartButtonEl.disabled = true;  // To prevent multiple clicks.\n",
              "      quickchartButtonEl.classList.add('colab-df-spinner');\n",
              "      try {\n",
              "        const charts = await google.colab.kernel.invokeFunction(\n",
              "            'suggestCharts', [key], {});\n",
              "      } catch (error) {\n",
              "        console.error('Error during call to suggestCharts:', error);\n",
              "      }\n",
              "      quickchartButtonEl.classList.remove('colab-df-spinner');\n",
              "      quickchartButtonEl.classList.add('colab-df-quickchart-complete');\n",
              "    }\n",
              "    (() => {\n",
              "      let quickchartButtonEl =\n",
              "        document.querySelector('#df-95c58f5b-803a-4a8b-9cee-5fd2d6bf81ad button');\n",
              "      quickchartButtonEl.style.display =\n",
              "        google.colab.kernel.accessAllowed ? 'block' : 'none';\n",
              "    })();\n",
              "  </script>\n",
              "</div>\n",
              "\n",
              "    </div>\n",
              "  </div>\n"
            ],
            "text/plain": [
              "   Unnamed: 0  \\\n",
              "0           0   \n",
              "1           1   \n",
              "\n",
              "                                                         description  \\\n",
              "0   A 23-year-old white female presents with complaint of allergies.   \n",
              "1                           Consult for laparoscopic gastric bypass.   \n",
              "\n",
              "       medical_specialty                                sample_name  \\\n",
              "0   Allergy / Immunology                         Allergic Rhinitis    \n",
              "1             Bariatrics   Laparoscopic Gastric Bypass Consult - 2    \n",
              "\n",
              "                                                                                                                                                                                             transcription  \\\n",
              "0  SUBJECTIVE:,  This 23-year-old white female presents with complaint of allergies.  She used to have allergies when she lived in Seattle but she thinks they are worse here.  In the past, she has tr...   \n",
              "1  PAST MEDICAL HISTORY:, He has difficulty climbing stairs, difficulty with airline seats, tying shoes, used to public seating, and lifting objects off the floor.  He exercises three times a week at...   \n",
              "\n",
              "                                                                                                                                                                                                  keywords  \n",
              "0                                                                      allergy / immunology, allergic rhinitis, allergies, asthma, nasal sprays, rhinitis, nasal, erythematous, allegra, sprays, allergic,  \n",
              "1  bariatrics, laparoscopic gastric bypass, weight loss programs, gastric bypass, atkin's diet, weight watcher's, body weight, laparoscopic gastric, weight loss, pounds, months, weight, laparoscopic,...  "
            ]
          },
          "execution_count": 3,
          "metadata": {},
          "output_type": "execute_result"
        }
      ],
      "source": [
        "# Load the dataset\n",
        "df = pd.read_csv('Medical_transcription_dataset.csv')\n",
        "df.head(2)"
      ]
    },
    {
      "cell_type": "code",
      "execution_count": null,
      "metadata": {
        "colab": {
          "base_uri": "https://localhost:8080/"
        },
        "id": "_yoG2e_tmw51",
        "outputId": "5af7160d-0c4e-452c-8489-30698a32e88f"
      },
      "outputs": [
        {
          "data": {
            "text/plain": [
              "(4999, 6)"
            ]
          },
          "execution_count": 4,
          "metadata": {},
          "output_type": "execute_result"
        }
      ],
      "source": [
        "df.shape"
      ]
    },
    {
      "cell_type": "code",
      "execution_count": null,
      "metadata": {
        "colab": {
          "base_uri": "https://localhost:8080/",
          "height": 145
        },
        "id": "btMJQQ66m58A",
        "outputId": "b9c82f20-2eef-4f0e-8c82-726c12c23f9b"
      },
      "outputs": [
        {
          "data": {
            "application/vnd.google.colaboratory.intrinsic+json": {
              "type": "string"
            },
            "text/plain": [
              "'SUBJECTIVE:,  This 23-year-old white female presents with complaint of allergies.  She used to have allergies when she lived in Seattle but she thinks they are worse here.  In the past, she has tried Claritin, and Zyrtec.  Both worked for short time but then seemed to lose effectiveness.  She has used Allegra also.  She used that last summer and she began using it again two weeks ago.  It does not appear to be working very well.  She has used over-the-counter sprays but no prescription nasal sprays.  She does have asthma but doest not require daily medication for this and does not think it is flaring up.,MEDICATIONS: , Her only medication currently is Ortho Tri-Cyclen and the Allegra.,ALLERGIES: , She has no known medicine allergies.,OBJECTIVE:,Vitals:  Weight was 130 pounds and blood pressure 124/78.,HEENT:  Her throat was mildly erythematous without exudate.  Nasal mucosa was erythematous and swollen.  Only clear drainage was seen.  TMs were clear.,Neck:  Supple without adenopathy.,Lungs:  Clear.,ASSESSMENT:,  Allergic rhinitis.,PLAN:,1.  She will try Zyrtec instead of Allegra again.  Another option will be to use loratadine.  She does not think she has prescription coverage so that might be cheaper.,2.  Samples of Nasonex two sprays in each nostril given for three weeks.  A prescription was written as well.'"
            ]
          },
          "execution_count": 5,
          "metadata": {},
          "output_type": "execute_result"
        }
      ],
      "source": [
        "# A transcription text from dataset\n",
        "df['transcription'][0]"
      ]
    },
    {
      "cell_type": "code",
      "execution_count": null,
      "metadata": {
        "colab": {
          "base_uri": "https://localhost:8080/",
          "height": 36
        },
        "id": "gveyVSSQDO7E",
        "outputId": "11d70187-4df6-4f04-b4e8-e7d4c3459122"
      },
      "outputs": [
        {
          "data": {
            "application/vnd.google.colaboratory.intrinsic+json": {
              "type": "string"
            },
            "text/plain": [
              "'allergy / immunology, allergic rhinitis, allergies, asthma, nasal sprays, rhinitis, nasal, erythematous, allegra, sprays, allergic,'"
            ]
          },
          "execution_count": 6,
          "metadata": {},
          "output_type": "execute_result"
        }
      ],
      "source": [
        "# A keywords text from dataset\n",
        "df['keywords'][0]"
      ]
    },
    {
      "cell_type": "markdown",
      "metadata": {
        "id": "QvddL7X69NiB"
      },
      "source": [
        "### Pre-processing and EDA"
      ]
    },
    {
      "cell_type": "markdown",
      "metadata": {
        "id": "xgB7KCn88Vmj"
      },
      "source": [
        "**Step 2: Perform below operations on the dataset**\n",
        "\n",
        "- Remove unnecessary columns - 'Unnamed: 0'\n",
        "- Handle missing values\n",
        "- Remove rows from data where `keywords` is only single empty space ' $ $ '\n",
        "- Remove duplicates from data considering `transcription` and `keywords` columns\n"
      ]
    },
    {
      "cell_type": "markdown",
      "metadata": {
        "id": "0KpssAWUBiok"
      },
      "source": [
        "- **Remove unnecessary columns - 'Unnamed: 0'**"
      ]
    },
    {
      "cell_type": "code",
      "execution_count": null,
      "metadata": {
        "colab": {
          "base_uri": "https://localhost:8080/"
        },
        "id": "FNo5NyBhFpmf",
        "outputId": "98ce8d04-cfb5-444c-b2e4-c85d62785951"
      },
      "outputs": [
        {
          "data": {
            "text/plain": [
              "Index(['Unnamed: 0', 'description', 'medical_specialty', 'sample_name',\n",
              "       'transcription', 'keywords'],\n",
              "      dtype='object')"
            ]
          },
          "execution_count": 7,
          "metadata": {},
          "output_type": "execute_result"
        }
      ],
      "source": [
        "df.columns"
      ]
    },
    {
      "cell_type": "code",
      "execution_count": null,
      "metadata": {
        "colab": {
          "base_uri": "https://localhost:8080/",
          "height": 216
        },
        "id": "WRC3idXZBiPX",
        "outputId": "53e725f1-950a-4cfe-a656-c9523f839433"
      },
      "outputs": [
        {
          "data": {
            "application/vnd.google.colaboratory.intrinsic+json": {
              "summary": "{\n  \"name\": \"df\",\n  \"rows\": 4999,\n  \"fields\": [\n    {\n      \"column\": \"description\",\n      \"properties\": {\n        \"dtype\": \"category\",\n        \"num_unique_values\": 2348,\n        \"samples\": [\n          \" MRI left shoulder.\",\n          \" Left heart catheterization with left ventriculography and selective coronary angiography.  Percutaneous transluminal coronary angioplasty and stent placement of the right coronary artery.\",\n          \" Iron deficiency anemia.  She underwent a bone marrow biopsy which showed a normal cellular marrow with trilineage hematopoiesis.\"\n        ],\n        \"semantic_type\": \"\",\n        \"description\": \"\"\n      }\n    },\n    {\n      \"column\": \"medical_specialty\",\n      \"properties\": {\n        \"dtype\": \"category\",\n        \"num_unique_values\": 40,\n        \"samples\": [\n          \" Ophthalmology\",\n          \" Pediatrics - Neonatal\",\n          \" Physical Medicine - Rehab\"\n        ],\n        \"semantic_type\": \"\",\n        \"description\": \"\"\n      }\n    },\n    {\n      \"column\": \"sample_name\",\n      \"properties\": {\n        \"dtype\": \"category\",\n        \"num_unique_values\": 2377,\n        \"samples\": [\n          \" Revocation Admission \",\n          \" Bilateral Hip Pain \",\n          \" Inguinal Hernia Repair - 4 \"\n        ],\n        \"semantic_type\": \"\",\n        \"description\": \"\"\n      }\n    },\n    {\n      \"column\": \"transcription\",\n      \"properties\": {\n        \"dtype\": \"category\",\n        \"num_unique_values\": 2357,\n        \"samples\": [\n          \"SUBJECTIVE:,  Patient presents with Mom and Dad for her 5-year 3-month well-child check.  Family has not concerns stating patient has been doing well overall since last visit.  Taking in a well-balanced diet consisting of milk and dairy products, fruits, vegetables, proteins and grains with minimal junk food and snack food.  No behavioral concerns.  Gets along well with peers as well as adults.  Is excited to start kindergarten this upcoming school year.  Does attend daycare.  Normal voiding and stooling pattern.  No concerns with hearing or vision.  Sees the dentist regularly.  Growth and development:  Denver II normal passing all developmental milestones per age in areas of fine motor, gross motor, personal and social interaction and speech and language development.  See Denver II form in the chart.,ALLERGIES:,  None.,MEDICATIONS: , None.,FAMILY SOCIAL HISTORY:,  Unchanged since last checkup.  Lives at home with mother, father and sibling.  No smoking in the home.,REVIEW OF SYSTEMS:,  As per HPI; otherwise negative.,OBJECTIVE:,Vital Signs:  Weight 43 pounds.  Height 42-1/4 inches.  Temperature 97.7.  Blood pressure 90/64.,General:  Well-developed, well-nourished, cooperative, alert and interactive 5-year -3month-old white female in no acute distress.,HEENT:  Atraumatic, normocephalic.  Pupils equal, round and reactive.  Sclerae clear.  Red reflex present bilaterally.  Extraocular muscles intact.  TMs clear bilaterally.  Oropharynx:  Mucous membranes moist and pink.  Good dentition.,Neck:  Supple, no lymphadenopathy.,Chest:  Clear to auscultation bilaterally.  No wheeze or crackles.  Good air exchange.,Cardiovascular:  Regular rate and rhythm.  No murmur.  Good pulses bilaterally.,Abdomen:  Soft, nontender.  Nondistended.  Positive bowel sounds.  No masses or organomegaly.,GU:  Tanner I female genitalia.  Femoral pulses equal bilaterally.  No rash.,Extremities:  Full range of motion.  No cyanosis, clubbing or edema.,Back:  Straight.  No scoliosis.,Integument:  Warm, dry and pink without lesions.,Neurological:  Alert.  Good muscle tone and strength.  Cranial nerves II-XII grossly intact.  DTRs 2+/4+ bilaterally.,ASSESSMENT/PLAN:,1. Well 5-year 3-month-old white female.,2. Anticipatory guidance for growth and diet development and safety issues as well as immunizations.  Will receive MMR, DTaP and IPV today.  Discussed risks and benefits as well as possible side effects and symptomatic treatment.  Gave 5-year well-child check handout to mom.  Completed school pre-participation physical.  Copy in the chart.  Completed vision and hearing screening.  Reviewed results with family.,3. Follow up in one year for next well-child check or as needed for acute care.\",\n          \"PREOPERATIVE DIAGNOSES: , Erythema of the right knee and leg, possible septic knee.,POSTOPERATIVE DIAGNOSES:,  Erythema of the right knee superficial and leg, right septic knee ruled out.,INDICATIONS: , Mr. ABC is a 52-year-old male who has had approximately eight days of erythema over his knee.  He has been to multiple institutions as an outpatient for this complaint.  He has had what appears to be prepatellar bursa aspirated with little to no success.  He has been treated with Kefzol and 1 g of Rocephin one point.  He also reports, in the emergency department today, an attempt was made to aspirate his actual knee joint which was unsuccessful.  Orthopedic Surgery was consulted at this time.  Considering the patient's physical exam, there is a portal that would prove to be outside of the erythema that would be useful for aspiration of the knee.  After discussion of risks and benefits, the patient elected to proceed with aspiration through the anterolateral portal of his knee joint.,PROCEDURE:  ,The patient's right anterolateral knee area was prepped with Betadine times two and a 20-gauge spinal needle was used to approach the knee joint approximately 3 cm anterior and 2 cm lateral to the superolateral pole of the patella.  The 20-gauge spinal needle was inserted and entered the knee joint.  Approximately, 4 cc of clear yellow fluid was aspirated.  The patient tolerated the procedure well.,DISPOSITION: , Based upon the appearance of this synovial fluid, we have a very low clinical suspicion of a septic joint.  We will send this fluid to the lab for cell count, crystal exam, as well as culture and Gram stain.  We will follow these results.  After discussion with the emergency department staff, it appears that they tend to try to treat his erythema which appears to be cellulitis with IV antibiotics.\",\n          \"REASON FOR CONSULT:,  Depression.,HPI:,  The patient is an 87-year-old white female admitted for low back pain status post hip fracture sustained a few days before Thanksgiving in 2006.  The patient was diagnosed and treated for a T9 compression fraction with vertebroplasty.  Soon after discharge, the patient was readmitted with severe mid low back pain and found to have a T8 compression fracture.  This was also treated with vertebroplasty.  The patient is now complaining of back pain that fluctuates at time, acknowledging her pain medication works but not all the time.  Her pain is in her upper back around her shoulder blades.  The patient says lying down with the heated pad lessens the pain and that any physical activity increases it.  MRI on January 29, 2007, was positive for possible meningioma to the left of anterior box.,The patient reports of many depressive symptoms, has lost all interest in things she used to do (playing cards, reading).  Has no energy to do things she likes, but does participate in physical therapy, cries often and what she believes for no reason.  Does not see any future for herself.  Reports not being able to concentrate on anything saying she gets distracted by thoughts of how she does not want to live anymore.  Admits to decreased appetite, feeling depressed, and always wanting to be alone.  Claims that before her initial hospitalization for her hip fracture, she was highly active, enjoyed living independently at Terrace.  Denies suicidal ideations and homicidal ideations, but that she did not mind dying, and denies any manic symptoms including decreased need to sleep, inflated self-worth, and impulsivity.  Denies auditory and visual hallucinations.  No paranoid, delusions, or other abnormalities of thought content.  Denies panic attacks, flashbacks, and other feelings of anxiety.  Does admit to feeling restless at times.  Is concerned with her physical appearance while in the hospital, i.e., her hair looking \\\"awful.\\\",PAST MEDICAL HISTORY:,  Hypertension, cataracts, hysterectomy, MI, osteoporosis, right total knee replacement in April 2004, hip fracture, and newly diagnosed diabetes.  No history of thyroid problems, seizures, strokes, or head injuries.,CURRENT MEDICATIONS:,  Norvasc 10 mg p.o. daily, aspirin 81 mg p.o. daily, Lipitor 20 mg p.o. daily, Klonopin 0.5 mg p.o. b.i.d., digoxin 0.125 mg p.o. daily, Lexapro 10 mg p.o. daily, TriCor 145 mg p.o. each bedtime, Lasix 20 mg p.o. daily, Ismo 20 mg p.o. daily, lidocaine patch, Zestril, Prinivil 40 mg p.o. daily, Lopressor 75 mg p.o. b.i.d., Starlix 120 mg p.o. t.i.d., Pamelor 25 mg p.o. each bedtime, polyethylene glycol 17 g p.o. every other day, potassium chloride 20 mEq p.o. t.i.d., Norco one tablet p.o. q.4h. p.r.n., Zofran 4 mg IV q.6h.,HOME MEDICATIONS:,  Unknown.,ALLERGIES:,  CODEINE (HALLUCINATIONS).,FAMILY MEDICAL HISTORY:,  Unremarkable.,PAST PSYCHIATRIC HISTORY:,  Unremarkable.  Never taken any psychiatric medications or have ever had a family member with psychiatric illness.,SOCIAL/DEVELOPMENTAL HISTORY:,  Unremarkable childhood.  Married for 40 plus years, widowed in 1981.  Worked as administrative assistant in UTMB Hospitals VP's office.  Two children.  Before admission, lived in the Terrace Independent Living Center.  Was happy and very active while living there.  Had friends in the Terrace and would not mind going back there after discharge.  Occasional glass of wine at dinner.  Denies ever using illicit drugs and tobacco.,MENTAL STATUS EXAM:,  The patient is an 87-year-old white female with appropriate appearance, wearing street clothes while lying in bed with her eyes tightly closed.  Slight decrease in motor activity.  Normal eye contact.  Speech, low volume and rate.  Good articulation and inflexion.  Normal concentration.  Mood, labile, tearful at times, depressed, then euthymic.  Affect, mood congruent, full range.  Thought process, logical and goal directed.  Thought content, no delusions, suicidal or homicidal ideations.  Perception, no auditory or visual hallucinations.  Sensorium, alert, and oriented x3.  Memory, fair.  Information and intelligence, average.  Judgment and insight, fair.,MINI MENTAL STATUS EXAM,:  A 28/30.  Could not remember two out of the three recalled words.,ASSESSMENT:,  The patient is an 87-year-old white female with recent history of hip fracture and two thoracic compression fractures.  The patient reports being high functioning prior to admission and says her depression symptoms have occurred while being in the hospital.,Axis I:  Major depression disorder.,Axis II:  Deferred.,Axis III:  Osteoporosis, hypertension, hip fracture, possible diabetes, meningioma, MI, and right total knee replacement.,Axis IV:  Lives independently at Terrace, difficulty walking, hospitalization.,Axis V:  45.,PLAN:,  Continue Lexapro 10 mg daily and Pamelor 25 mg each bedtime monitor for adverse effects of TCA and worsening of depressive symptoms.  Discussed about possible inpatient psychiatric care.,Thank you for the consultation.\"\n        ],\n        \"semantic_type\": \"\",\n        \"description\": \"\"\n      }\n    },\n    {\n      \"column\": \"keywords\",\n      \"properties\": {\n        \"dtype\": \"string\",\n        \"num_unique_values\": 3849,\n        \"samples\": [\n          \"surgery, extensor tendon laceration, bier block, pip joint, extensor tendon, tendon, repair, finger, laceration, extensor,\",\n          \"surgery, scrotal incision, right vas, bleeding, anesthesia, vasectomy\",\n          \"radiology, i-125 implantation, tumor, prostate, prostate brachytherapy, implantationNOTE,: Thesetranscribed medical transcription sample reports and examples are provided by various users andare for reference purpose only. MTHelpLine does not certify accuracy and quality of sample reports.These transcribed medical transcription sample reports may include some uncommon or unusual formats;this would be due to the preference of the dictating physician. All names and dates have beenchanged (or removed) to keep confidentiality. Any resemblance of any type of name or date orplace or anything else to real world is purely incidental.\"\n        ],\n        \"semantic_type\": \"\",\n        \"description\": \"\"\n      }\n    }\n  ]\n}",
              "type": "dataframe",
              "variable_name": "df"
            },
            "text/html": [
              "\n",
              "  <div id=\"df-80b9bec8-d556-4bae-992f-0559da2f4b33\" class=\"colab-df-container\">\n",
              "    <div>\n",
              "<style scoped>\n",
              "    .dataframe tbody tr th:only-of-type {\n",
              "        vertical-align: middle;\n",
              "    }\n",
              "\n",
              "    .dataframe tbody tr th {\n",
              "        vertical-align: top;\n",
              "    }\n",
              "\n",
              "    .dataframe thead th {\n",
              "        text-align: right;\n",
              "    }\n",
              "</style>\n",
              "<table border=\"1\" class=\"dataframe\">\n",
              "  <thead>\n",
              "    <tr style=\"text-align: right;\">\n",
              "      <th></th>\n",
              "      <th>description</th>\n",
              "      <th>medical_specialty</th>\n",
              "      <th>sample_name</th>\n",
              "      <th>transcription</th>\n",
              "      <th>keywords</th>\n",
              "    </tr>\n",
              "  </thead>\n",
              "  <tbody>\n",
              "    <tr>\n",
              "      <th>0</th>\n",
              "      <td>A 23-year-old white female presents with complaint of allergies.</td>\n",
              "      <td>Allergy / Immunology</td>\n",
              "      <td>Allergic Rhinitis</td>\n",
              "      <td>SUBJECTIVE:,  This 23-year-old white female presents with complaint of allergies.  She used to have allergies when she lived in Seattle but she thinks they are worse here.  In the past, she has tr...</td>\n",
              "      <td>allergy / immunology, allergic rhinitis, allergies, asthma, nasal sprays, rhinitis, nasal, erythematous, allegra, sprays, allergic,</td>\n",
              "    </tr>\n",
              "    <tr>\n",
              "      <th>1</th>\n",
              "      <td>Consult for laparoscopic gastric bypass.</td>\n",
              "      <td>Bariatrics</td>\n",
              "      <td>Laparoscopic Gastric Bypass Consult - 2</td>\n",
              "      <td>PAST MEDICAL HISTORY:, He has difficulty climbing stairs, difficulty with airline seats, tying shoes, used to public seating, and lifting objects off the floor.  He exercises three times a week at...</td>\n",
              "      <td>bariatrics, laparoscopic gastric bypass, weight loss programs, gastric bypass, atkin's diet, weight watcher's, body weight, laparoscopic gastric, weight loss, pounds, months, weight, laparoscopic,...</td>\n",
              "    </tr>\n",
              "  </tbody>\n",
              "</table>\n",
              "</div>\n",
              "    <div class=\"colab-df-buttons\">\n",
              "\n",
              "  <div class=\"colab-df-container\">\n",
              "    <button class=\"colab-df-convert\" onclick=\"convertToInteractive('df-80b9bec8-d556-4bae-992f-0559da2f4b33')\"\n",
              "            title=\"Convert this dataframe to an interactive table.\"\n",
              "            style=\"display:none;\">\n",
              "\n",
              "  <svg xmlns=\"http://www.w3.org/2000/svg\" height=\"24px\" viewBox=\"0 -960 960 960\">\n",
              "    <path d=\"M120-120v-720h720v720H120Zm60-500h600v-160H180v160Zm220 220h160v-160H400v160Zm0 220h160v-160H400v160ZM180-400h160v-160H180v160Zm440 0h160v-160H620v160ZM180-180h160v-160H180v160Zm440 0h160v-160H620v160Z\"/>\n",
              "  </svg>\n",
              "    </button>\n",
              "\n",
              "  <style>\n",
              "    .colab-df-container {\n",
              "      display:flex;\n",
              "      gap: 12px;\n",
              "    }\n",
              "\n",
              "    .colab-df-convert {\n",
              "      background-color: #E8F0FE;\n",
              "      border: none;\n",
              "      border-radius: 50%;\n",
              "      cursor: pointer;\n",
              "      display: none;\n",
              "      fill: #1967D2;\n",
              "      height: 32px;\n",
              "      padding: 0 0 0 0;\n",
              "      width: 32px;\n",
              "    }\n",
              "\n",
              "    .colab-df-convert:hover {\n",
              "      background-color: #E2EBFA;\n",
              "      box-shadow: 0px 1px 2px rgba(60, 64, 67, 0.3), 0px 1px 3px 1px rgba(60, 64, 67, 0.15);\n",
              "      fill: #174EA6;\n",
              "    }\n",
              "\n",
              "    .colab-df-buttons div {\n",
              "      margin-bottom: 4px;\n",
              "    }\n",
              "\n",
              "    [theme=dark] .colab-df-convert {\n",
              "      background-color: #3B4455;\n",
              "      fill: #D2E3FC;\n",
              "    }\n",
              "\n",
              "    [theme=dark] .colab-df-convert:hover {\n",
              "      background-color: #434B5C;\n",
              "      box-shadow: 0px 1px 3px 1px rgba(0, 0, 0, 0.15);\n",
              "      filter: drop-shadow(0px 1px 2px rgba(0, 0, 0, 0.3));\n",
              "      fill: #FFFFFF;\n",
              "    }\n",
              "  </style>\n",
              "\n",
              "    <script>\n",
              "      const buttonEl =\n",
              "        document.querySelector('#df-80b9bec8-d556-4bae-992f-0559da2f4b33 button.colab-df-convert');\n",
              "      buttonEl.style.display =\n",
              "        google.colab.kernel.accessAllowed ? 'block' : 'none';\n",
              "\n",
              "      async function convertToInteractive(key) {\n",
              "        const element = document.querySelector('#df-80b9bec8-d556-4bae-992f-0559da2f4b33');\n",
              "        const dataTable =\n",
              "          await google.colab.kernel.invokeFunction('convertToInteractive',\n",
              "                                                    [key], {});\n",
              "        if (!dataTable) return;\n",
              "\n",
              "        const docLinkHtml = 'Like what you see? Visit the ' +\n",
              "          '<a target=\"_blank\" href=https://colab.research.google.com/notebooks/data_table.ipynb>data table notebook</a>'\n",
              "          + ' to learn more about interactive tables.';\n",
              "        element.innerHTML = '';\n",
              "        dataTable['output_type'] = 'display_data';\n",
              "        await google.colab.output.renderOutput(dataTable, element);\n",
              "        const docLink = document.createElement('div');\n",
              "        docLink.innerHTML = docLinkHtml;\n",
              "        element.appendChild(docLink);\n",
              "      }\n",
              "    </script>\n",
              "  </div>\n",
              "\n",
              "\n",
              "<div id=\"df-113e0e48-0434-47dd-9e65-9936ebea817c\">\n",
              "  <button class=\"colab-df-quickchart\" onclick=\"quickchart('df-113e0e48-0434-47dd-9e65-9936ebea817c')\"\n",
              "            title=\"Suggest charts\"\n",
              "            style=\"display:none;\">\n",
              "\n",
              "<svg xmlns=\"http://www.w3.org/2000/svg\" height=\"24px\"viewBox=\"0 0 24 24\"\n",
              "     width=\"24px\">\n",
              "    <g>\n",
              "        <path d=\"M19 3H5c-1.1 0-2 .9-2 2v14c0 1.1.9 2 2 2h14c1.1 0 2-.9 2-2V5c0-1.1-.9-2-2-2zM9 17H7v-7h2v7zm4 0h-2V7h2v10zm4 0h-2v-4h2v4z\"/>\n",
              "    </g>\n",
              "</svg>\n",
              "  </button>\n",
              "\n",
              "<style>\n",
              "  .colab-df-quickchart {\n",
              "      --bg-color: #E8F0FE;\n",
              "      --fill-color: #1967D2;\n",
              "      --hover-bg-color: #E2EBFA;\n",
              "      --hover-fill-color: #174EA6;\n",
              "      --disabled-fill-color: #AAA;\n",
              "      --disabled-bg-color: #DDD;\n",
              "  }\n",
              "\n",
              "  [theme=dark] .colab-df-quickchart {\n",
              "      --bg-color: #3B4455;\n",
              "      --fill-color: #D2E3FC;\n",
              "      --hover-bg-color: #434B5C;\n",
              "      --hover-fill-color: #FFFFFF;\n",
              "      --disabled-bg-color: #3B4455;\n",
              "      --disabled-fill-color: #666;\n",
              "  }\n",
              "\n",
              "  .colab-df-quickchart {\n",
              "    background-color: var(--bg-color);\n",
              "    border: none;\n",
              "    border-radius: 50%;\n",
              "    cursor: pointer;\n",
              "    display: none;\n",
              "    fill: var(--fill-color);\n",
              "    height: 32px;\n",
              "    padding: 0;\n",
              "    width: 32px;\n",
              "  }\n",
              "\n",
              "  .colab-df-quickchart:hover {\n",
              "    background-color: var(--hover-bg-color);\n",
              "    box-shadow: 0 1px 2px rgba(60, 64, 67, 0.3), 0 1px 3px 1px rgba(60, 64, 67, 0.15);\n",
              "    fill: var(--button-hover-fill-color);\n",
              "  }\n",
              "\n",
              "  .colab-df-quickchart-complete:disabled,\n",
              "  .colab-df-quickchart-complete:disabled:hover {\n",
              "    background-color: var(--disabled-bg-color);\n",
              "    fill: var(--disabled-fill-color);\n",
              "    box-shadow: none;\n",
              "  }\n",
              "\n",
              "  .colab-df-spinner {\n",
              "    border: 2px solid var(--fill-color);\n",
              "    border-color: transparent;\n",
              "    border-bottom-color: var(--fill-color);\n",
              "    animation:\n",
              "      spin 1s steps(1) infinite;\n",
              "  }\n",
              "\n",
              "  @keyframes spin {\n",
              "    0% {\n",
              "      border-color: transparent;\n",
              "      border-bottom-color: var(--fill-color);\n",
              "      border-left-color: var(--fill-color);\n",
              "    }\n",
              "    20% {\n",
              "      border-color: transparent;\n",
              "      border-left-color: var(--fill-color);\n",
              "      border-top-color: var(--fill-color);\n",
              "    }\n",
              "    30% {\n",
              "      border-color: transparent;\n",
              "      border-left-color: var(--fill-color);\n",
              "      border-top-color: var(--fill-color);\n",
              "      border-right-color: var(--fill-color);\n",
              "    }\n",
              "    40% {\n",
              "      border-color: transparent;\n",
              "      border-right-color: var(--fill-color);\n",
              "      border-top-color: var(--fill-color);\n",
              "    }\n",
              "    60% {\n",
              "      border-color: transparent;\n",
              "      border-right-color: var(--fill-color);\n",
              "    }\n",
              "    80% {\n",
              "      border-color: transparent;\n",
              "      border-right-color: var(--fill-color);\n",
              "      border-bottom-color: var(--fill-color);\n",
              "    }\n",
              "    90% {\n",
              "      border-color: transparent;\n",
              "      border-bottom-color: var(--fill-color);\n",
              "    }\n",
              "  }\n",
              "</style>\n",
              "\n",
              "  <script>\n",
              "    async function quickchart(key) {\n",
              "      const quickchartButtonEl =\n",
              "        document.querySelector('#' + key + ' button');\n",
              "      quickchartButtonEl.disabled = true;  // To prevent multiple clicks.\n",
              "      quickchartButtonEl.classList.add('colab-df-spinner');\n",
              "      try {\n",
              "        const charts = await google.colab.kernel.invokeFunction(\n",
              "            'suggestCharts', [key], {});\n",
              "      } catch (error) {\n",
              "        console.error('Error during call to suggestCharts:', error);\n",
              "      }\n",
              "      quickchartButtonEl.classList.remove('colab-df-spinner');\n",
              "      quickchartButtonEl.classList.add('colab-df-quickchart-complete');\n",
              "    }\n",
              "    (() => {\n",
              "      let quickchartButtonEl =\n",
              "        document.querySelector('#df-113e0e48-0434-47dd-9e65-9936ebea817c button');\n",
              "      quickchartButtonEl.style.display =\n",
              "        google.colab.kernel.accessAllowed ? 'block' : 'none';\n",
              "    })();\n",
              "  </script>\n",
              "</div>\n",
              "\n",
              "    </div>\n",
              "  </div>\n"
            ],
            "text/plain": [
              "                                                         description  \\\n",
              "0   A 23-year-old white female presents with complaint of allergies.   \n",
              "1                           Consult for laparoscopic gastric bypass.   \n",
              "\n",
              "       medical_specialty                                sample_name  \\\n",
              "0   Allergy / Immunology                         Allergic Rhinitis    \n",
              "1             Bariatrics   Laparoscopic Gastric Bypass Consult - 2    \n",
              "\n",
              "                                                                                                                                                                                             transcription  \\\n",
              "0  SUBJECTIVE:,  This 23-year-old white female presents with complaint of allergies.  She used to have allergies when she lived in Seattle but she thinks they are worse here.  In the past, she has tr...   \n",
              "1  PAST MEDICAL HISTORY:, He has difficulty climbing stairs, difficulty with airline seats, tying shoes, used to public seating, and lifting objects off the floor.  He exercises three times a week at...   \n",
              "\n",
              "                                                                                                                                                                                                  keywords  \n",
              "0                                                                      allergy / immunology, allergic rhinitis, allergies, asthma, nasal sprays, rhinitis, nasal, erythematous, allegra, sprays, allergic,  \n",
              "1  bariatrics, laparoscopic gastric bypass, weight loss programs, gastric bypass, atkin's diet, weight watcher's, body weight, laparoscopic gastric, weight loss, pounds, months, weight, laparoscopic,...  "
            ]
          },
          "execution_count": 8,
          "metadata": {},
          "output_type": "execute_result"
        }
      ],
      "source": [
        "df = df.drop(['Unnamed: 0'], axis=1)\n",
        "df.head(2)"
      ]
    },
    {
      "cell_type": "markdown",
      "metadata": {
        "id": "VKNf8eoL6fB3"
      },
      "source": [
        "- **Handle missing values**"
      ]
    },
    {
      "cell_type": "code",
      "execution_count": null,
      "metadata": {
        "colab": {
          "base_uri": "https://localhost:8080/",
          "height": 241
        },
        "id": "p4qHPRAfn0kB",
        "outputId": "3dfd6bf7-05a6-4ceb-ac01-be93e4341567"
      },
      "outputs": [
        {
          "data": {
            "text/html": [
              "<div>\n",
              "<style scoped>\n",
              "    .dataframe tbody tr th:only-of-type {\n",
              "        vertical-align: middle;\n",
              "    }\n",
              "\n",
              "    .dataframe tbody tr th {\n",
              "        vertical-align: top;\n",
              "    }\n",
              "\n",
              "    .dataframe thead th {\n",
              "        text-align: right;\n",
              "    }\n",
              "</style>\n",
              "<table border=\"1\" class=\"dataframe\">\n",
              "  <thead>\n",
              "    <tr style=\"text-align: right;\">\n",
              "      <th></th>\n",
              "      <th>0</th>\n",
              "    </tr>\n",
              "  </thead>\n",
              "  <tbody>\n",
              "    <tr>\n",
              "      <th>description</th>\n",
              "      <td>0</td>\n",
              "    </tr>\n",
              "    <tr>\n",
              "      <th>medical_specialty</th>\n",
              "      <td>0</td>\n",
              "    </tr>\n",
              "    <tr>\n",
              "      <th>sample_name</th>\n",
              "      <td>0</td>\n",
              "    </tr>\n",
              "    <tr>\n",
              "      <th>transcription</th>\n",
              "      <td>33</td>\n",
              "    </tr>\n",
              "    <tr>\n",
              "      <th>keywords</th>\n",
              "      <td>1068</td>\n",
              "    </tr>\n",
              "  </tbody>\n",
              "</table>\n",
              "</div><br><label><b>dtype:</b> int64</label>"
            ],
            "text/plain": [
              "description             0\n",
              "medical_specialty       0\n",
              "sample_name             0\n",
              "transcription          33\n",
              "keywords             1068\n",
              "dtype: int64"
            ]
          },
          "execution_count": 9,
          "metadata": {},
          "output_type": "execute_result"
        }
      ],
      "source": [
        "df.isna().sum()"
      ]
    },
    {
      "cell_type": "code",
      "execution_count": null,
      "metadata": {
        "colab": {
          "base_uri": "https://localhost:8080/"
        },
        "id": "llQVDnRPGasQ",
        "outputId": "51f3a389-c3a5-4eb6-eaf2-cb8d69929b44"
      },
      "outputs": [
        {
          "data": {
            "text/plain": [
              "(3898, 5)"
            ]
          },
          "execution_count": 10,
          "metadata": {},
          "output_type": "execute_result"
        }
      ],
      "source": [
        "# Drop missing values\n",
        "df = df.dropna()\n",
        "df.shape"
      ]
    },
    {
      "cell_type": "code",
      "execution_count": null,
      "metadata": {
        "colab": {
          "base_uri": "https://localhost:8080/",
          "height": 241
        },
        "id": "rFHoFd2rGr-o",
        "outputId": "19cfd300-7e40-464e-fe58-67c9693ea498"
      },
      "outputs": [
        {
          "data": {
            "text/html": [
              "<div>\n",
              "<style scoped>\n",
              "    .dataframe tbody tr th:only-of-type {\n",
              "        vertical-align: middle;\n",
              "    }\n",
              "\n",
              "    .dataframe tbody tr th {\n",
              "        vertical-align: top;\n",
              "    }\n",
              "\n",
              "    .dataframe thead th {\n",
              "        text-align: right;\n",
              "    }\n",
              "</style>\n",
              "<table border=\"1\" class=\"dataframe\">\n",
              "  <thead>\n",
              "    <tr style=\"text-align: right;\">\n",
              "      <th></th>\n",
              "      <th>0</th>\n",
              "    </tr>\n",
              "  </thead>\n",
              "  <tbody>\n",
              "    <tr>\n",
              "      <th>description</th>\n",
              "      <td>0</td>\n",
              "    </tr>\n",
              "    <tr>\n",
              "      <th>medical_specialty</th>\n",
              "      <td>0</td>\n",
              "    </tr>\n",
              "    <tr>\n",
              "      <th>sample_name</th>\n",
              "      <td>0</td>\n",
              "    </tr>\n",
              "    <tr>\n",
              "      <th>transcription</th>\n",
              "      <td>0</td>\n",
              "    </tr>\n",
              "    <tr>\n",
              "      <th>keywords</th>\n",
              "      <td>0</td>\n",
              "    </tr>\n",
              "  </tbody>\n",
              "</table>\n",
              "</div><br><label><b>dtype:</b> int64</label>"
            ],
            "text/plain": [
              "description          0\n",
              "medical_specialty    0\n",
              "sample_name          0\n",
              "transcription        0\n",
              "keywords             0\n",
              "dtype: int64"
            ]
          },
          "execution_count": 11,
          "metadata": {},
          "output_type": "execute_result"
        }
      ],
      "source": [
        "df.isna().sum()"
      ]
    },
    {
      "cell_type": "markdown",
      "metadata": {
        "id": "2D3fL4paH9UV"
      },
      "source": [
        "- **Remove rows from data where `keywords` is only single empty space ' '**"
      ]
    },
    {
      "cell_type": "code",
      "execution_count": null,
      "metadata": {
        "colab": {
          "base_uri": "https://localhost:8080/"
        },
        "id": "cCgDfhukIh-t",
        "outputId": "156cc0c5-bdf5-4f39-b39d-dfb25c520e20"
      },
      "outputs": [
        {
          "data": {
            "text/plain": [
              "(81, 5)"
            ]
          },
          "execution_count": 12,
          "metadata": {},
          "output_type": "execute_result"
        }
      ],
      "source": [
        "# Count of rows where keywords are ' '\n",
        "df[df['keywords'] == ' '].shape"
      ]
    },
    {
      "cell_type": "code",
      "execution_count": null,
      "metadata": {
        "colab": {
          "base_uri": "https://localhost:8080/"
        },
        "id": "8HwJHqC3Ne3j",
        "outputId": "58b56696-f9f4-4d2b-84e9-68168f2088c0"
      },
      "outputs": [
        {
          "data": {
            "text/plain": [
              "(3898, 5)"
            ]
          },
          "execution_count": 13,
          "metadata": {},
          "output_type": "execute_result"
        }
      ],
      "source": [
        "df.shape"
      ]
    },
    {
      "cell_type": "code",
      "execution_count": null,
      "metadata": {
        "id": "738XiGjaJ-4z"
      },
      "outputs": [],
      "source": [
        "# Remove rows where keywords are ' '\n",
        "idx_to_remove = df[df['keywords'] == ' '].index\n",
        "df = df.drop(index = idx_to_remove)"
      ]
    },
    {
      "cell_type": "code",
      "execution_count": null,
      "metadata": {
        "colab": {
          "base_uri": "https://localhost:8080/"
        },
        "id": "odJ9ZbEKNcyS",
        "outputId": "501f5383-9d0d-4819-8f86-31ddc094ef6c"
      },
      "outputs": [
        {
          "data": {
            "text/plain": [
              "(3817, 5)"
            ]
          },
          "execution_count": 15,
          "metadata": {},
          "output_type": "execute_result"
        }
      ],
      "source": [
        "df.shape"
      ]
    },
    {
      "cell_type": "code",
      "execution_count": null,
      "metadata": {
        "colab": {
          "base_uri": "https://localhost:8080/"
        },
        "id": "ecSZHMDoN3JS",
        "outputId": "f0ee482d-25ad-432a-802f-2fde30de4b4a"
      },
      "outputs": [
        {
          "data": {
            "text/plain": [
              "(0, 5)"
            ]
          },
          "execution_count": 16,
          "metadata": {},
          "output_type": "execute_result"
        }
      ],
      "source": [
        "df[df['keywords'] == ' '].shape"
      ]
    },
    {
      "cell_type": "markdown",
      "metadata": {
        "id": "YOe7SUKCY9Wv"
      },
      "source": [
        "- **Remove duplicates from data considering `transcription` and `keywords` columns**"
      ]
    },
    {
      "cell_type": "code",
      "execution_count": null,
      "metadata": {
        "colab": {
          "base_uri": "https://localhost:8080/"
        },
        "id": "HTrFn1dlZDAj",
        "outputId": "8b7837b9-1086-4a47-c792-136285dcfc26"
      },
      "outputs": [
        {
          "data": {
            "text/plain": [
              "0"
            ]
          },
          "execution_count": 17,
          "metadata": {},
          "output_type": "execute_result"
        }
      ],
      "source": [
        "# Check duplicates\n",
        "df.duplicated(subset=['transcription', 'keywords']).sum()"
      ]
    },
    {
      "cell_type": "code",
      "execution_count": null,
      "metadata": {
        "colab": {
          "base_uri": "https://localhost:8080/"
        },
        "id": "EfqsmO1jI9Te",
        "outputId": "4ec114be-8510-4848-e2ba-a0482a4a2af2"
      },
      "outputs": [
        {
          "data": {
            "text/plain": [
              "(3817, 5)"
            ]
          },
          "execution_count": 18,
          "metadata": {},
          "output_type": "execute_result"
        }
      ],
      "source": [
        "df.shape"
      ]
    },
    {
      "cell_type": "markdown",
      "metadata": {
        "id": "EA1d25HrzTGW"
      },
      "source": [
        "**Step 3: Display  all the categories of `medical_specialty` and their counts in the dataset**\n",
        "\n"
      ]
    },
    {
      "cell_type": "code",
      "execution_count": null,
      "metadata": {
        "colab": {
          "base_uri": "https://localhost:8080/"
        },
        "id": "C92ji6ZV9MWs",
        "outputId": "fe2bcf19-8ed2-4291-9c83-4a2d7c282d34"
      },
      "outputs": [
        {
          "name": "stdout",
          "output_type": "stream",
          "text": [
            "[' Allergy / Immunology' ' Bariatrics' ' Cardiovascular / Pulmonary'\n",
            " ' Dentistry' ' Urology' ' General Medicine' ' Surgery'\n",
            " ' Speech - Language' ' SOAP / Chart / Progress Notes' ' Sleep Medicine'\n",
            " ' Rheumatology' ' Radiology' ' Psychiatry / Psychology' ' Podiatry'\n",
            " ' Physical Medicine - Rehab' ' Pediatrics - Neonatal' ' Pain Management'\n",
            " ' Orthopedic' ' Ophthalmology' ' Office Notes' ' Obstetrics / Gynecology'\n",
            " ' Neurosurgery' ' Neurology' ' Nephrology' ' Letters'\n",
            " ' Lab Medicine - Pathology' ' IME-QME-Work Comp etc.'\n",
            " ' Hospice - Palliative Care' ' Hematology - Oncology' ' Gastroenterology'\n",
            " ' ENT - Otolaryngology' ' Endocrinology' ' Emergency Room Reports'\n",
            " ' Discharge Summary' ' Diets and Nutritions' ' Dermatology'\n",
            " ' Cosmetic / Plastic Surgery' ' Consult - History and Phy.'\n",
            " ' Chiropractic']\n"
          ]
        }
      ],
      "source": [
        "# Displaying the distinct categories of medical specialty\n",
        "print(df['medical_specialty'].unique())"
      ]
    },
    {
      "cell_type": "code",
      "execution_count": null,
      "metadata": {
        "colab": {
          "base_uri": "https://localhost:8080/"
        },
        "id": "kRxuMduGSWYB",
        "outputId": "a0165a0a-a1b2-449a-c223-f1af0202c1ea"
      },
      "outputs": [
        {
          "name": "stdout",
          "output_type": "stream",
          "text": [
            "39\n"
          ]
        }
      ],
      "source": [
        "# Total categories\n",
        "print(df['medical_specialty'].nunique())"
      ]
    },
    {
      "cell_type": "code",
      "execution_count": null,
      "metadata": {
        "colab": {
          "base_uri": "https://localhost:8080/"
        },
        "id": "YtIjY7ji9va5",
        "outputId": "9580d6ac-b2ea-4b94-f442-491f46c2dcba"
      },
      "outputs": [
        {
          "name": "stdout",
          "output_type": "stream",
          "text": [
            "medical_specialty\n",
            " Surgery                          1008\n",
            " Orthopedic                        296\n",
            " Cardiovascular / Pulmonary        276\n",
            " Radiology                         248\n",
            " Consult - History and Phy.        220\n",
            " Gastroenterology                  193\n",
            " Neurology                         162\n",
            " SOAP / Chart / Progress Notes     140\n",
            " Urology                           139\n",
            " General Medicine                  137\n",
            " Obstetrics / Gynecology           128\n",
            " ENT - Otolaryngology               83\n",
            " Neurosurgery                       79\n",
            " Ophthalmology                      79\n",
            " Discharge Summary                  76\n",
            " Nephrology                         63\n",
            " Hematology - Oncology              60\n",
            " Pain Management                    58\n",
            " Podiatry                           42\n",
            " Office Notes                       40\n",
            " Pediatrics - Neonatal              38\n",
            " Emergency Room Reports             29\n",
            " Cosmetic / Plastic Surgery         25\n",
            " Dentistry                          24\n",
            " Dermatology                        24\n",
            " Letters                            20\n",
            " Psychiatry / Psychology            19\n",
            " Sleep Medicine                     18\n",
            " Bariatrics                         18\n",
            " Endocrinology                      15\n",
            " Physical Medicine - Rehab          11\n",
            " Diets and Nutritions               10\n",
            " Lab Medicine - Pathology            8\n",
            " Speech - Language                   8\n",
            " Rheumatology                        7\n",
            " Hospice - Palliative Care           5\n",
            " IME-QME-Work Comp etc.              4\n",
            " Chiropractic                        4\n",
            " Allergy / Immunology                3\n",
            "Name: count, dtype: int64\n"
          ]
        }
      ],
      "source": [
        "# Displaying the distinct categories of medical specialty and the number of records belonging to each category\n",
        "print(df['medical_specialty'].value_counts())"
      ]
    },
    {
      "cell_type": "markdown",
      "metadata": {
        "id": "VyXtz0Mr0NVB"
      },
      "source": [
        "**Step 4: Create a pie plot depicting the percentage of `medical_specialty` distributions category-wise.**"
      ]
    },
    {
      "cell_type": "code",
      "execution_count": null,
      "metadata": {
        "colab": {
          "base_uri": "https://localhost:8080/",
          "height": 934
        },
        "id": "qrpJDoGx-CuF",
        "outputId": "be73926f-137d-49c0-97fa-d3242fdb0de5"
      },
      "outputs": [
        {
          "data": {
            "image/png": "[encoded data removed]",
            "text/plain": [
              "<Figure size 2500x2500 with 1 Axes>"
            ]
          },
          "metadata": {},
          "output_type": "display_data"
        }
      ],
      "source": [
        "targetCounts = df['medical_specialty'].value_counts()\n",
        "targetLabels  = targetCounts.index\n",
        "# Make square figures and axes\n",
        "plt.figure(1, figsize=(25,25))\n",
        "the_grid = GridSpec(2, 2)\n",
        "\n",
        "\n",
        "cmap = plt.get_cmap('coolwarm')\n",
        "colors = [cmap(i) for i in np.linspace(0, 1)]\n",
        "plt.subplot(the_grid[0, 1], aspect=1, title='MEDICAL SPECIALTY CATEGORY DISTRIBUTION')\n",
        "\n",
        "source_pie = plt.pie(targetCounts, labels=targetLabels, autopct='%1.1f%%', shadow=True, colors=colors)\n",
        "plt.show()"
      ]
    },
    {
      "cell_type": "markdown",
      "metadata": {
        "id": "YxjnEkqScZEJ"
      },
      "source": [
        "### Pre-process `transcription` and `keywords` text\n",
        "\n",
        "**Step 5: Create functions to perform below tasks:**\n",
        "\n",
        "- Convert transcription and keywords text to lowercase\n",
        "- Remove quotes from transcription and keywords text\n",
        "- Remove all the special characters/punctuations\n",
        "- Remove digits from transcription and keywords text\n",
        "- Remove extra spaces"
      ]
    },
    {
      "cell_type": "markdown",
      "metadata": {
        "id": "v0TfQlpjX7wu"
      },
      "source": [
        "- **Convert `transcription` and `keywords` text to lowercase**"
      ]
    },
    {
      "cell_type": "code",
      "execution_count": null,
      "metadata": {
        "id": "2hrcz_N2X_4o"
      },
      "outputs": [],
      "source": [
        "# Convert transcription and keywords text to lowercase\n",
        "df.transcription = df.transcription.apply(lambda x: str(x).lower())\n",
        "df.keywords = df.keywords.apply(lambda x: str(x).lower())"
      ]
    },
    {
      "cell_type": "markdown",
      "metadata": {
        "id": "uVwGZWVbYDpu"
      },
      "source": [
        "- **Remove quotes from `transcription` and `keywords` text**"
      ]
    },
    {
      "cell_type": "code",
      "execution_count": null,
      "metadata": {
        "id": "y3xdgaWoYO15"
      },
      "outputs": [],
      "source": [
        "# Remove quotes from transcription and keywords text\n",
        "df.transcription = df.transcription.apply(lambda x: re.sub(\"'\", '', x))\n",
        "df.keywords = df.keywords.apply(lambda x: re.sub(\"'\", '', x))"
      ]
    },
    {
      "cell_type": "markdown",
      "metadata": {
        "id": "qk1LsKqxYROe"
      },
      "source": [
        "- **Remove punctuations**"
      ]
    },
    {
      "cell_type": "code",
      "execution_count": null,
      "metadata": {
        "colab": {
          "base_uri": "https://localhost:8080/"
        },
        "id": "UjkHVu69YdHD",
        "outputId": "170426b9-198c-49bd-b124-22df7fa7567d"
      },
      "outputs": [
        {
          "name": "stdout",
          "output_type": "stream",
          "text": [
            "{'!', '>', '}', \"'\", '|', '[', '\\\\', '^', '-', '/', '_', ',', '*', '=', ':', '#', '~', '&', '%', ')', '+', '?', '`', '.', '\"', ';', ']', '$', '(', '@', '{', '<'}\n"
          ]
        }
      ],
      "source": [
        "# create a set of all special characters\n",
        "special_characters = set(string.punctuation)\n",
        "print(special_characters)"
      ]
    },
    {
      "cell_type": "code",
      "execution_count": null,
      "metadata": {
        "id": "G5JWyMHmYcIL"
      },
      "outputs": [],
      "source": [
        "# Remove punctuations\n",
        "df.transcription = df.transcription.apply(lambda x: ''.join(char1 for char1 in x if char1 not in special_characters))\n",
        "df.keywords = df.keywords.apply(lambda x: ''.join(char1 for char1 in x if char1 not in special_characters))"
      ]
    },
    {
      "cell_type": "markdown",
      "metadata": {
        "id": "vrBG3WtaZL6K"
      },
      "source": [
        "- **Remove digits from `transcription` and `keywords` text**"
      ]
    },
    {
      "cell_type": "code",
      "execution_count": null,
      "metadata": {
        "id": "k2fOQlyHZJ6O"
      },
      "outputs": [],
      "source": [
        "# Remove digits from transcription and keywords sentences\n",
        "df.transcription = df.transcription.apply(lambda x: re.sub(\"\\d\", '', x))\n",
        "df.keywords = df.keywords.apply(lambda x: re.sub(\"\\d\", '', x))"
      ]
    },
    {
      "cell_type": "markdown",
      "metadata": {
        "id": "TVegB3M5aDJL"
      },
      "source": [
        "- **Remove extra spaces**"
      ]
    },
    {
      "cell_type": "code",
      "execution_count": null,
      "metadata": {
        "id": "Y1OyJG10Wh-B"
      },
      "outputs": [],
      "source": [
        "# Remove extra spaces\n",
        "df.transcription = df.transcription.apply(lambda x: x.strip())\n",
        "df.keywords = df.keywords.apply(lambda x: x.strip())\n",
        "\n",
        "df.transcription = df.transcription.apply(lambda x: re.sub(\" +\", \" \", x))\n",
        "df.keywords = df.keywords.apply(lambda x: re.sub(\" +\", \" \", x))"
      ]
    },
    {
      "cell_type": "markdown",
      "metadata": {
        "id": "B7-PRe-Lb0mU"
      },
      "source": [
        "**Step 6: Remove the stopwords from `transcription` text**"
      ]
    },
    {
      "cell_type": "markdown",
      "metadata": {
        "id": "3p57xUIMi5_r"
      },
      "source": [
        "- **Remove stopwords**"
      ]
    },
    {
      "cell_type": "code",
      "execution_count": null,
      "metadata": {
        "colab": {
          "base_uri": "https://localhost:8080/"
        },
        "id": "mgIjbfZgEgNH",
        "outputId": "4e5c922b-7954-4d7d-ef65-71176f6c6249"
      },
      "outputs": [
        {
          "name": "stdout",
          "output_type": "stream",
          "text": [
            "['i', 'me', 'my', 'myself', 'we', 'our', 'ours', 'ourselves', 'you', \"you're\", \"you've\", \"you'll\", \"you'd\", 'your', 'yours', 'yourself', 'yourselves', 'he', 'him', 'his', 'himself', 'she', \"she's\", 'her', 'hers', 'herself', 'it', \"it's\", 'its', 'itself', 'they', 'them', 'their', 'theirs', 'themselves', 'what', 'which', 'who', 'whom', 'this', 'that', \"that'll\", 'these', 'those', 'am', 'is', 'are', 'was', 'were', 'be', 'been', 'being', 'have', 'has', 'had', 'having', 'do', 'does', 'did', 'doing', 'a', 'an', 'the', 'and', 'but', 'if', 'or', 'because', 'as', 'until', 'while', 'of', 'at', 'by', 'for', 'with', 'about', 'against', 'between', 'into', 'through', 'during', 'before', 'after', 'above', 'below', 'to', 'from', 'up', 'down', 'in', 'out', 'on', 'off', 'over', 'under', 'again', 'further', 'then', 'once', 'here', 'there', 'when', 'where', 'why', 'how', 'all', 'any', 'both', 'each', 'few', 'more', 'most', 'other', 'some', 'such', 'no', 'nor', 'not', 'only', 'own', 'same', 'so', 'than', 'too', 'very', 's', 't', 'can', 'will', 'just', 'don', \"don't\", 'should', \"should've\", 'now', 'd', 'll', 'm', 'o', 're', 've', 'y', 'ain', 'aren', \"aren't\", 'couldn', \"couldn't\", 'didn', \"didn't\", 'doesn', \"doesn't\", 'hadn', \"hadn't\", 'hasn', \"hasn't\", 'haven', \"haven't\", 'isn', \"isn't\", 'ma', 'mightn', \"mightn't\", 'mustn', \"mustn't\", 'needn', \"needn't\", 'shan', \"shan't\", 'shouldn', \"shouldn't\", 'wasn', \"wasn't\", 'weren', \"weren't\", 'won', \"won't\", 'wouldn', \"wouldn't\"]\n"
          ]
        }
      ],
      "source": [
        "# setting english stopwords\n",
        "stopword_list = nltk.corpus.stopwords.words('english')\n",
        "print(stopword_list)"
      ]
    },
    {
      "cell_type": "code",
      "execution_count": null,
      "metadata": {
        "id": "WJrIowuVVmDb"
      },
      "outputs": [],
      "source": [
        "# Function to remove the stopwords\n",
        "def remove_stopwords(text):\n",
        "    tmp = []\n",
        "    for word in text.split():\n",
        "        if word not in stopword_list:\n",
        "            tmp.append(word)\n",
        "\n",
        "    return ' '.join(tmp)"
      ]
    },
    {
      "cell_type": "code",
      "execution_count": null,
      "metadata": {
        "id": "tx1sxCTDNN_w"
      },
      "outputs": [],
      "source": [
        "# Remove stopwords from transcriptions\n",
        "df['transcription'] = df['transcription'].apply(lambda x: remove_stopwords(str(x)))"
      ]
    },
    {
      "cell_type": "markdown",
      "metadata": {
        "id": "pZbujV_ZyC7M"
      },
      "source": [
        "**Visualize the distribution of word counts in both `transcription` and `keywords` text.**\n"
      ]
    },
    {
      "cell_type": "code",
      "execution_count": null,
      "metadata": {
        "colab": {
          "base_uri": "https://localhost:8080/",
          "height": 472
        },
        "id": "p65AHp4ZNN_x",
        "outputId": "c6df2587-4c4c-4cca-b4a2-1708e5a8ac14"
      },
      "outputs": [
        {
          "data": {
            "image/png": "[encoded data removed]",
            "text/plain": [
              "<Figure size 640x480 with 2 Axes>"
            ]
          },
          "metadata": {},
          "output_type": "display_data"
        }
      ],
      "source": [
        "# Visualize the distribution of word counts\n",
        "\n",
        "transcript_word_count = []\n",
        "keywords_word_count = []\n",
        "\n",
        "# Sentence lengths for transcripts\n",
        "for i in df['transcription']:\n",
        "    transcript_word_count.append(len(i.split()))\n",
        "\n",
        "# Sentence lengths for keywords\n",
        "for i in df['keywords']:\n",
        "    keywords_word_count.append(len(i.split()))\n",
        "\n",
        "length_df = pd.DataFrame({'transcript': transcript_word_count, 'keywords': keywords_word_count})\n",
        "length_df.hist(bins = 30)\n",
        "plt.xlabel('Word count')\n",
        "plt.show()"
      ]
    },
    {
      "cell_type": "markdown",
      "metadata": {
        "id": "Z2CklO7-d1tH"
      },
      "source": [
        "### Select the maximum sequence length for both `transcription` and `keywords`"
      ]
    },
    {
      "cell_type": "code",
      "execution_count": null,
      "metadata": {
        "id": "FBvPpAp9KJtO"
      },
      "outputs": [],
      "source": [
        "# Fix the maximum length of the transcript to 250\n",
        "# Fix the maximum keywords length to 30\n",
        "\n",
        "max_len_transcript = 250\n",
        "max_len_keywords = 30"
      ]
    },
    {
      "cell_type": "markdown",
      "metadata": {
        "id": "5zPQnTSE3ftY"
      },
      "source": [
        "**Step 7: Add `'start'` and `'end'` to `keywords` text at the beginning and end respectively**\n",
        "\n",
        "- 'start' will represent the beginning of output sequence\n",
        "- 'end' will represent the end of output sequence"
      ]
    },
    {
      "cell_type": "code",
      "execution_count": null,
      "metadata": {
        "id": "W8W-aL32JIlL"
      },
      "outputs": [],
      "source": [
        "# Add 'start' and 'end' to keywords text\n",
        "\n",
        "df['keywords'] = df['keywords'].apply(lambda x: 'start ' + str(x) + ' end')"
      ]
    },
    {
      "cell_type": "code",
      "execution_count": null,
      "metadata": {
        "colab": {
          "base_uri": "https://localhost:8080/",
          "height": 115
        },
        "id": "Ri9CWguNJWXK",
        "outputId": "18d5e5f4-5564-4a60-9f4e-df930465e4e8"
      },
      "outputs": [
        {
          "data": {
            "application/vnd.google.colaboratory.intrinsic+json": {
              "summary": "{\n  \"name\": \"df\",\n  \"rows\": 3817,\n  \"fields\": [\n    {\n      \"column\": \"description\",\n      \"properties\": {\n        \"dtype\": \"category\",\n        \"num_unique_values\": 1809,\n        \"samples\": [\n          \" Lower quadrant pain with nausea, vomiting, and diarrhea.  CT abdomen without contrast and CT pelvis without contrast.  Noncontrast axial CT images of the abdomen and pelvis are obtained.\",\n          \" Orchiopexy & inguinal herniorrhaphy.\",\n          \" MRI Brain: Ventriculomegaly of the lateral, 3rd and 4th ventricles secondary to obstruction of the foramen of Magendie secondary to Cryptococcus (unencapsulated) in a non-immune suppressed, HIV negative, individual.\"\n        ],\n        \"semantic_type\": \"\",\n        \"description\": \"\"\n      }\n    },\n    {\n      \"column\": \"medical_specialty\",\n      \"properties\": {\n        \"dtype\": \"category\",\n        \"num_unique_values\": 39,\n        \"samples\": [\n          \" Discharge Summary\",\n          \" Cosmetic / Plastic Surgery\",\n          \" Urology\"\n        ],\n        \"semantic_type\": \"\",\n        \"description\": \"\"\n      }\n    },\n    {\n      \"column\": \"sample_name\",\n      \"properties\": {\n        \"dtype\": \"category\",\n        \"num_unique_values\": 1827,\n        \"samples\": [\n          \" Thoracotomy & Bronchoscopy \",\n          \" MRI Brain - Memory Loss \",\n          \" Ophthalmology - Letter - 2 \"\n        ],\n        \"semantic_type\": \"\",\n        \"description\": \"\"\n      }\n    },\n    {\n      \"column\": \"transcription\",\n      \"properties\": {\n        \"dtype\": \"category\",\n        \"num_unique_values\": 1823,\n        \"samples\": [\n          \"preoperative diagnosis acute appendicitispostoperative diagnosis ruptured appendicitisprocedure laparoscopic appendectomyindications procedure patient yearold boy less hour history apparent right lower quadrant abdominal pain associated vomiting fevers patient elevated white count exam ct scan consistent acute appendicitisdescription procedure patient taken operating room placed supine put general endotracheal anesthesia patients abdomen prepped draped usual sterile fashion periumbilical incision made fascia incised peritoneal cavity entered bluntly mm trocar scope passed peritoneal cavity insufflated fivemm ports placed left lower hypogastric areas visualization right lower quadrant appendix visualized stuck right anterior abdominal wall obvious site perforation leakage content pus proceeded take mesoappendix base base free placed gia stapler across base fired stapler removed appendix periumbilical port site irrigated suctioned right lower pelvic areas removed ports direct visualization closed periumbilical port site fascia vicryl skin incisions monocryl dressed steristrips patient extubated operating table taken back recovery room patient tolerated procedure well\",\n          \"chief complaint nauseapresent illness patient yearold status post gastric bypass surgery nearly one year ago lost pounds otherwise well yesterday evening around developed nausea right upper quadrant pain apparently wrapped around toward right side back feels like done overall malaise lowgrade temperature denies prior similar lesser symptoms last normal bowel movement yesterday denies outright chills blood per rectumpast medical history significant hypertension morbid obesity resolvedpast surgical history gastric bypass surgery december medications multivitamins calciumallergies none knownfamily history positive diabetes mellitus father deceasedsocial history denies tobacco alcohol sounds like data entry computer jobreview systems otherwise negativephysical examination temperature blood pressure respirations heart rate drowsy easily arousable appropriate conversation oriented person place situation normocephalic atraumatic sclerae anicteric mucous membranes somewhat tacky neck supple symmetric respirations unlabored clear regular rate rhythm abdomen soft diffuse right upper quadrant tenderness worse focally rebound guarding otherwise organomegaly masses abdominal hernias evident extremities symmetrical edema posterior tibial pulses palpable symmetric grossly nonfocal neurologicallystudies white blood cell count segs hematocrit electrolytes normal bilirubin ast alt alkphos lipase normal assessment choledocholithiasis cholecystitisplan admitted placed iv antibiotics get ultrasound morning need gallbladder probably intraoperative cholangiogram hopefully stone pass way due anatomy ercp would prove quite difficult impossible unless laparoscopic assisted dr x see later morning discuss plan patient understands\",\n          \"preoperative diagnoses nasopharyngeal mass right upper lid skin lesionpostoperative diagnoses nasopharyngeal tube mass right upper lid skin lesionprocedures performed functional endoscopic sinus surgery excision nasopharyngeal mass via endoscopic technique excision right upper lid skin lesion cm diameter adjacent tissue transfer closureanesthesia general endotrachealestimated blood loss less cccomplications noneindications procedure patient yearold caucasian female history nasopharyngeal mass discovered patients chief complaint nasal congestion chronic ear disease patient fiberoptic nasopharyngoscopy performed office demonstrated mass confirmed also ct scan patient also right upper lid skin lesion appears cholesterol granuloma numerous months appears growing size irregularly bordered risks complications consequences questions addressed patient written consent obtained procedureprocedure patient brought operating suite anesthesia placed operating table supine position patient turned degrees department anesthesia right upper eyelid skin lesion injected lidocaine epinephrine approximately cc total patients bilateral nasal passages packed cocainesoaked cottonoids solution cc total patient prepped draped usual sterile fashion right upper lid skin first cut around skin lesion utilizing superblade skin lesion grasped superior aspect skin lesion cut removed subcutaneous plane utilizing westcott scissors hemostatically controlled monopolar cauterization patients skin reapproximated running prolene suture mastisol along single steristrip place followed maxitrol ointment attention drawn nasopharynx cocainesoaked cottonoids removed nasal passages bilaterally zerodegree otoscope placed way patients nasopharynx patient severely deviated nasal septum right left appeared spur left inferior aspect also right posterior aspect nasopharyngeal mass appeared polypoid nature almost lymphoid tissue looking localized lidocaine epinephrine approximately cc total lesion removed right side xps blade torus tubarius noted left side polypoid lymphoid tissue involving area completely area taken xps blade prior taking lesion xps multiple biopsies taken straight biter cocainesoaked cottonoid placed back patients left nasal passage region nasopharynx attention drawn right side zerodegree otoscope placed patients right nasal passage way nasopharynx xps utilized take nasopharyngeal mass entirety involvement overlying torus tubarius patient hemostatically controlled suctioned bovie cauterization floseal placed followed bilateral merocels bacitracincoated ointment patients meroceles tied together patients forehead patient turned back anesthesia patient extubated operating room transferred recovery room stable condition patient tolerated procedure well sent home instructions followup approximately one week patient sent home prescription keflex mg one po bid tylenol one two po qh pain\"\n        ],\n        \"semantic_type\": \"\",\n        \"description\": \"\"\n      }\n    },\n    {\n      \"column\": \"keywords\",\n      \"properties\": {\n        \"dtype\": \"string\",\n        \"num_unique_values\": 3812,\n        \"samples\": [\n          \"start gastroenterology endoscopy olympus colonoscope snare polypectomy ge junction refractory dyspepsia colonic polyps diverticulosis coli chronic gastritis esophagogastroduodenoscopy snare biopsies dyspepsia gastritis diverticulosis polypectomy colonoscopy hematochezia polyps end\",\n          \"start neurology horners pupil mri brain otolaryngologic cerebral angiogram cerebral angiogram lateral medullary syndrome vertebral artery angiogram syndrome falling narrowing medullary vertebral cerebral end\",\n          \"start surgery pelvic pain hypermenorrhea endometriosis dilatation and curettage dc endometrial implants ablation cul de sac vulsellum tenaculum hank dilators laparoscopic ablation bierman needle pelvic end\"\n        ],\n        \"semantic_type\": \"\",\n        \"description\": \"\"\n      }\n    }\n  ]\n}",
              "type": "dataframe",
              "variable_name": "df"
            },
            "text/html": [
              "\n",
              "  <div id=\"df-e779bd05-2934-4e7e-9b32-e0d2f9497e90\" class=\"colab-df-container\">\n",
              "    <div>\n",
              "<style scoped>\n",
              "    .dataframe tbody tr th:only-of-type {\n",
              "        vertical-align: middle;\n",
              "    }\n",
              "\n",
              "    .dataframe tbody tr th {\n",
              "        vertical-align: top;\n",
              "    }\n",
              "\n",
              "    .dataframe thead th {\n",
              "        text-align: right;\n",
              "    }\n",
              "</style>\n",
              "<table border=\"1\" class=\"dataframe\">\n",
              "  <thead>\n",
              "    <tr style=\"text-align: right;\">\n",
              "      <th></th>\n",
              "      <th>description</th>\n",
              "      <th>medical_specialty</th>\n",
              "      <th>sample_name</th>\n",
              "      <th>transcription</th>\n",
              "      <th>keywords</th>\n",
              "    </tr>\n",
              "  </thead>\n",
              "  <tbody>\n",
              "    <tr>\n",
              "      <th>0</th>\n",
              "      <td>A 23-year-old white female presents with complaint of allergies.</td>\n",
              "      <td>Allergy / Immunology</td>\n",
              "      <td>Allergic Rhinitis</td>\n",
              "      <td>subjective yearold white female presents complaint allergies used allergies lived seattle thinks worse past tried claritin zyrtec worked short time seemed lose effectiveness used allegra also used...</td>\n",
              "      <td>start allergy immunology allergic rhinitis allergies asthma nasal sprays rhinitis nasal erythematous allegra sprays allergic end</td>\n",
              "    </tr>\n",
              "  </tbody>\n",
              "</table>\n",
              "</div>\n",
              "    <div class=\"colab-df-buttons\">\n",
              "\n",
              "  <div class=\"colab-df-container\">\n",
              "    <button class=\"colab-df-convert\" onclick=\"convertToInteractive('df-e779bd05-2934-4e7e-9b32-e0d2f9497e90')\"\n",
              "            title=\"Convert this dataframe to an interactive table.\"\n",
              "            style=\"display:none;\">\n",
              "\n",
              "  <svg xmlns=\"http://www.w3.org/2000/svg\" height=\"24px\" viewBox=\"0 -960 960 960\">\n",
              "    <path d=\"M120-120v-720h720v720H120Zm60-500h600v-160H180v160Zm220 220h160v-160H400v160Zm0 220h160v-160H400v160ZM180-400h160v-160H180v160Zm440 0h160v-160H620v160ZM180-180h160v-160H180v160Zm440 0h160v-160H620v160Z\"/>\n",
              "  </svg>\n",
              "    </button>\n",
              "\n",
              "  <style>\n",
              "    .colab-df-container {\n",
              "      display:flex;\n",
              "      gap: 12px;\n",
              "    }\n",
              "\n",
              "    .colab-df-convert {\n",
              "      background-color: #E8F0FE;\n",
              "      border: none;\n",
              "      border-radius: 50%;\n",
              "      cursor: pointer;\n",
              "      display: none;\n",
              "      fill: #1967D2;\n",
              "      height: 32px;\n",
              "      padding: 0 0 0 0;\n",
              "      width: 32px;\n",
              "    }\n",
              "\n",
              "    .colab-df-convert:hover {\n",
              "      background-color: #E2EBFA;\n",
              "      box-shadow: 0px 1px 2px rgba(60, 64, 67, 0.3), 0px 1px 3px 1px rgba(60, 64, 67, 0.15);\n",
              "      fill: #174EA6;\n",
              "    }\n",
              "\n",
              "    .colab-df-buttons div {\n",
              "      margin-bottom: 4px;\n",
              "    }\n",
              "\n",
              "    [theme=dark] .colab-df-convert {\n",
              "      background-color: #3B4455;\n",
              "      fill: #D2E3FC;\n",
              "    }\n",
              "\n",
              "    [theme=dark] .colab-df-convert:hover {\n",
              "      background-color: #434B5C;\n",
              "      box-shadow: 0px 1px 3px 1px rgba(0, 0, 0, 0.15);\n",
              "      filter: drop-shadow(0px 1px 2px rgba(0, 0, 0, 0.3));\n",
              "      fill: #FFFFFF;\n",
              "    }\n",
              "  </style>\n",
              "\n",
              "    <script>\n",
              "      const buttonEl =\n",
              "        document.querySelector('#df-e779bd05-2934-4e7e-9b32-e0d2f9497e90 button.colab-df-convert');\n",
              "      buttonEl.style.display =\n",
              "        google.colab.kernel.accessAllowed ? 'block' : 'none';\n",
              "\n",
              "      async function convertToInteractive(key) {\n",
              "        const element = document.querySelector('#df-e779bd05-2934-4e7e-9b32-e0d2f9497e90');\n",
              "        const dataTable =\n",
              "          await google.colab.kernel.invokeFunction('convertToInteractive',\n",
              "                                                    [key], {});\n",
              "        if (!dataTable) return;\n",
              "\n",
              "        const docLinkHtml = 'Like what you see? Visit the ' +\n",
              "          '<a target=\"_blank\" href=https://colab.research.google.com/notebooks/data_table.ipynb>data table notebook</a>'\n",
              "          + ' to learn more about interactive tables.';\n",
              "        element.innerHTML = '';\n",
              "        dataTable['output_type'] = 'display_data';\n",
              "        await google.colab.output.renderOutput(dataTable, element);\n",
              "        const docLink = document.createElement('div');\n",
              "        docLink.innerHTML = docLinkHtml;\n",
              "        element.appendChild(docLink);\n",
              "      }\n",
              "    </script>\n",
              "  </div>\n",
              "\n",
              "\n",
              "    </div>\n",
              "  </div>\n"
            ],
            "text/plain": [
              "                                                         description  \\\n",
              "0   A 23-year-old white female presents with complaint of allergies.   \n",
              "\n",
              "       medical_specialty          sample_name  \\\n",
              "0   Allergy / Immunology   Allergic Rhinitis    \n",
              "\n",
              "                                                                                                                                                                                             transcription  \\\n",
              "0  subjective yearold white female presents complaint allergies used allergies lived seattle thinks worse past tried claritin zyrtec worked short time seemed lose effectiveness used allegra also used...   \n",
              "\n",
              "                                                                                                                           keywords  \n",
              "0  start allergy immunology allergic rhinitis allergies asthma nasal sprays rhinitis nasal erythematous allegra sprays allergic end  "
            ]
          },
          "execution_count": 35,
          "metadata": {},
          "output_type": "execute_result"
        }
      ],
      "source": [
        "df.head(1)"
      ]
    },
    {
      "cell_type": "markdown",
      "metadata": {
        "id": "ajaAr2XgeCii"
      },
      "source": [
        "### Split data into training and testing set"
      ]
    },
    {
      "cell_type": "code",
      "execution_count": null,
      "metadata": {
        "colab": {
          "base_uri": "https://localhost:8080/"
        },
        "id": "Pb-27FbLeCij",
        "outputId": "62e068d7-90cd-407a-cf6d-a8e4daf599f4"
      },
      "outputs": [
        {
          "data": {
            "text/plain": [
              "((3435,), (382,), (3435,), (382,))"
            ]
          },
          "execution_count": 36,
          "metadata": {},
          "output_type": "execute_result"
        }
      ],
      "source": [
        "x_tr, x_val, y_tr, y_val = train_test_split(df['transcription'].astype(str), df['keywords'].astype(str),\n",
        "                                            test_size=0.1,\n",
        "                                            random_state=0,\n",
        "                                            shuffle=True)\n",
        "\n",
        "x_tr.shape, x_val.shape, y_tr.shape, y_val.shape"
      ]
    },
    {
      "cell_type": "markdown",
      "metadata": {
        "id": "I1QlCkyn6JKM"
      },
      "source": [
        "### Tokenization and padding"
      ]
    },
    {
      "cell_type": "markdown",
      "metadata": {
        "id": "iSk9rUrxbJky"
      },
      "source": [
        "**Step 8: Convert the `transcription` and `keywords` text to sequence of integer values, and make them of uniform length**\n",
        "\n",
        "- Use two tokenizers to tokenize transcription and keywords separately\n",
        "- Pad/Truncate both sequences as per their max sequence length specified in above steps\n",
        "    - use padding='post', truncating='post'\n",
        "    - for transcription, (use maxlen= max_len_transcript)\n",
        "    - for keywords, (use maxlen= max_len_keywords + 1)\n",
        "- For long keywords sequences, the 'end' token might get truncated\n",
        "    - replace the last token with the token index of 'end'\n",
        "- save the vocab size for both sequences"
      ]
    },
    {
      "cell_type": "code",
      "execution_count": null,
      "metadata": {
        "colab": {
          "base_uri": "https://localhost:8080/"
        },
        "id": "L5TPQusbeCil",
        "outputId": "7a07d1be-8b02-42b1-b652-d18a6ebf42f2"
      },
      "outputs": [
        {
          "data": {
            "text/plain": [
              "26900"
            ]
          },
          "execution_count": 37,
          "metadata": {},
          "output_type": "execute_result"
        }
      ],
      "source": [
        "# Instantiate tokenizer for transcripts and fit on training data\n",
        "x_tokenizer = Tokenizer()\n",
        "x_tokenizer.fit_on_texts(list(x_tr))\n",
        "\n",
        "# Convert transcript sequences into integer sequences for both train and val set\n",
        "x_tr = x_tokenizer.texts_to_sequences(x_tr)\n",
        "x_val = x_tokenizer.texts_to_sequences(x_val)\n",
        "\n",
        "# Add zero padding upto maximum length\n",
        "x_tr = pad_sequences(x_tr,  maxlen= max_len_transcript, padding='post', truncating='post')\n",
        "x_val = pad_sequences(x_val, maxlen= max_len_transcript, padding='post', truncating='post')\n",
        "\n",
        "# x vocab size\n",
        "x_voc_size = len(x_tokenizer.word_index) +1\n",
        "x_voc_size"
      ]
    },
    {
      "cell_type": "code",
      "execution_count": null,
      "metadata": {
        "colab": {
          "base_uri": "https://localhost:8080/"
        },
        "id": "LgbAwT5SdfRE",
        "outputId": "8a56c29e-ca68-4f93-b2bc-86a664ffd760"
      },
      "outputs": [
        {
          "data": {
            "text/plain": [
              "((3435, 250), (382, 250))"
            ]
          },
          "execution_count": 38,
          "metadata": {},
          "output_type": "execute_result"
        }
      ],
      "source": [
        "x_tr.shape, x_val.shape"
      ]
    },
    {
      "cell_type": "code",
      "execution_count": null,
      "metadata": {
        "colab": {
          "base_uri": "https://localhost:8080/"
        },
        "id": "20Ppbw4XeCim",
        "outputId": "1a547908-1d0a-4130-e56b-2df86dd77d48"
      },
      "outputs": [
        {
          "data": {
            "text/plain": [
              "5918"
            ]
          },
          "execution_count": 39,
          "metadata": {},
          "output_type": "execute_result"
        }
      ],
      "source": [
        "# Instantiate tokenizer for keywords and fit on training data\n",
        "y_tokenizer = Tokenizer()\n",
        "y_tokenizer.fit_on_texts(list(y_tr))\n",
        "\n",
        "# Convert keywords sequences into integer sequences for train and val set\n",
        "y_tr = y_tokenizer.texts_to_sequences(y_tr)\n",
        "y_val = y_tokenizer.texts_to_sequences(y_val)\n",
        "\n",
        "# Add zero padding upto maximum length\n",
        "y_tr = pad_sequences(y_tr, maxlen= max_len_keywords + 1, padding='post', truncating='post')\n",
        "y_val = pad_sequences(y_val, maxlen= max_len_keywords + 1, padding='post', truncating='post')\n",
        "\n",
        "# y vocab size\n",
        "y_voc_size = len(y_tokenizer.word_index) +1\n",
        "y_voc_size"
      ]
    },
    {
      "cell_type": "code",
      "execution_count": null,
      "metadata": {
        "colab": {
          "base_uri": "https://localhost:8080/"
        },
        "id": "W7oFf-qed7GA",
        "outputId": "1bcbcb12-1dd1-46d7-ca7a-423898cd7d46"
      },
      "outputs": [
        {
          "data": {
            "text/plain": [
              "((3435, 31), (382, 31))"
            ]
          },
          "execution_count": 40,
          "metadata": {},
          "output_type": "execute_result"
        }
      ],
      "source": [
        "y_tr.shape, y_val.shape"
      ]
    },
    {
      "cell_type": "markdown",
      "metadata": {
        "id": "HNOtw3f-k67g"
      },
      "source": [
        "- **For long keywords sequences, replace the last token with the token index of 'end'**"
      ]
    },
    {
      "cell_type": "code",
      "execution_count": null,
      "metadata": {
        "colab": {
          "base_uri": "https://localhost:8080/"
        },
        "id": "uPGFUtc85ZgC",
        "outputId": "1c145e67-6fe8-4f00-d09e-12c363466ef3"
      },
      "outputs": [
        {
          "data": {
            "text/plain": [
              "1"
            ]
          },
          "execution_count": 41,
          "metadata": {},
          "output_type": "execute_result"
        }
      ],
      "source": [
        "y_tokenizer.word_index['end']"
      ]
    },
    {
      "cell_type": "code",
      "execution_count": null,
      "metadata": {
        "id": "LNtAVcci5nY6"
      },
      "outputs": [],
      "source": [
        "# Replace the last token with the token index of 'end' for long sequences\n",
        "\n",
        "# Train set\n",
        "for i in range(len(y_tr)):\n",
        "    if y_tr[i][-1] != 0:\n",
        "        y_tr[i][-1] = y_tokenizer.word_index['end']\n",
        "\n",
        "# Validation set\n",
        "for i in range(len(y_val)):\n",
        "    if y_val[i][-1] != 0:\n",
        "        y_val[i][-1] = y_tokenizer.word_index['end']\n"
      ]
    },
    {
      "cell_type": "code",
      "execution_count": null,
      "metadata": {
        "colab": {
          "base_uri": "https://localhost:8080/"
        },
        "id": "HhscyGQe5VYr",
        "outputId": "c616bff2-cf83-424a-9c9e-93c7ea907079"
      },
      "outputs": [
        {
          "data": {
            "text/plain": [
              "array([   2,   37,   30,    4,   43,  375,  419, 1216,  765, 1216, 3225,\n",
              "        419,  462, 5373,  462, 5374,  937, 5375, 5376, 5377, 5378,    4,\n",
              "       5379,  264,  621, 2514,  561,  111, 3226,  375,    1], dtype=int32)"
            ]
          },
          "execution_count": 43,
          "metadata": {},
          "output_type": "execute_result"
        }
      ],
      "source": [
        "y_tr[0]"
      ]
    },
    {
      "cell_type": "code",
      "execution_count": null,
      "metadata": {
        "colab": {
          "base_uri": "https://localhost:8080/"
        },
        "id": "HT550VIr55fH",
        "outputId": "eeb54002-eccc-47fa-90ab-b5c9ada5cc5b"
      },
      "outputs": [
        {
          "data": {
            "text/plain": [
              "array([   2,   23,  304,   97,    3, 2193,  706, 5283, 5284,  100,  191,\n",
              "        439,  161,  191,  439,  161, 2972,  101,  439,  161,  191,  167,\n",
              "       5615, 1281,  161, 5615,  998,  191,    1,    0,    0], dtype=int32)"
            ]
          },
          "execution_count": 44,
          "metadata": {},
          "output_type": "execute_result"
        }
      ],
      "source": [
        "y_val[0]"
      ]
    },
    {
      "cell_type": "code",
      "execution_count": null,
      "metadata": {
        "colab": {
          "base_uri": "https://localhost:8080/"
        },
        "id": "gMaJyKnH6G2b",
        "outputId": "baba9cb2-422c-45e2-afc1-bc6a57641849"
      },
      "outputs": [
        {
          "name": "stdout",
          "output_type": "stream",
          "text": [
            "Decoder input sample: [   2   37   30    4   43  375  419 1216  765 1216 3225  419  462 5373\n",
            "  462 5374  937 5375 5376 5377 5378    4 5379  264  621 2514  561  111\n",
            " 3226  375]\n",
            "Decoder output sample: [  37   30    4   43  375  419 1216  765 1216 3225  419  462 5373  462\n",
            " 5374  937 5375 5376 5377 5378    4 5379  264  621 2514  561  111 3226\n",
            "  375    1]\n"
          ]
        }
      ],
      "source": [
        "print(f\"Decoder input sample: {y_tr[0][:-1]}\")\n",
        "print(f\"Decoder output sample: {y_tr[0][1:]}\")"
      ]
    },
    {
      "cell_type": "markdown",
      "metadata": {
        "id": "z804TTWnnpG5"
      },
      "source": [
        "### Positional Embedding\n",
        "\n",
        "**Step 9: Create a class, `PositionalEmbedding`**\n",
        "\n",
        "- Use `mask_zero=True`, while defining token embeddings layer\n",
        "\n",
        "- Make sure to make this layer a mask-generating layer by adding a method `compute_mask()`"
      ]
    },
    {
      "cell_type": "code",
      "execution_count": null,
      "metadata": {
        "id": "EJFVFHXcnrMv"
      },
      "outputs": [],
      "source": [
        "class PositionalEmbedding(layers.Layer):\n",
        "    def __init__(self, sequence_length, input_dim, output_dim, **kwargs):\n",
        "        # input_dim = (token) vocabulary size,  output_dim = embedding size\n",
        "        super().__init__(**kwargs)\n",
        "\n",
        "        self.token_embeddings = layers.Embedding(input_dim=input_dim, output_dim=output_dim, mask_zero=True)\n",
        "        self.position_embeddings = layers.Embedding(input_dim=sequence_length, output_dim=output_dim)\n",
        "        self.sequence_length = sequence_length\n",
        "        self.input_dim = input_dim\n",
        "        self.output_dim = output_dim\n",
        "\n",
        "    def call(self, inputs):   # inputs will be a batch of sequences (batch, seq_len)\n",
        "        length = tf.shape(inputs)[-1]     # lenght will just be sequence length\n",
        "        positions = tf.range(start=0, limit=length, delta=1) # indices for input to positional embedding\n",
        "        embedded_tokens = tf.reshape(self.token_embeddings(inputs), (-1, length, self.output_dim))\n",
        "        embedded_positions = tf.reshape(self.position_embeddings(positions), (-1, length, self.output_dim))\n",
        "        return layers.Add()([embedded_tokens, embedded_positions])     # ADD the embeddings\n",
        "\n",
        "    def compute_mask(self, inputs, mask=None):  # makes this layer a mask-generating layer, mask will get propagated to the next layer.\n",
        "        if mask is None:\n",
        "            return None\n",
        "        return tf.math.not_equal(inputs, 0)\n",
        "\n",
        "    # When using custom layers, this enables the layer to be reinstantiated from its config dict,\n",
        "    # which is useful during model saving and loading.\n",
        "    def get_config(self):\n",
        "        config = super(PositionalEmbedding, self).get_config()\n",
        "        config.update({\n",
        "            \"output_dim\": self.output_dim,\n",
        "            \"sequence_length\": self.sequence_length,\n",
        "            \"input_dim\": self.input_dim,\n",
        "        })\n",
        "        return config"
      ]
    },
    {
      "cell_type": "markdown",
      "metadata": {
        "id": "Nv61oM1lrOBa"
      },
      "source": [
        "### Encoder Block\n",
        "\n",
        "**Step 10: Create a class, `TransformerEncoder`**\n",
        "\n",
        "- While calling `attention` layer, do not use `attention_mask` parameter\n",
        "\n",
        "- In Feed forward network, add `Dropout(0.1)` layer after 2 dense layers\n",
        "\n",
        "- For skip connections, use `tf.keras.layers.Add()` instead of `'+'`"
      ]
    },
    {
      "cell_type": "code",
      "execution_count": null,
      "metadata": {
        "id": "Qjs4oJvlrRI1"
      },
      "outputs": [],
      "source": [
        "class TransformerEncoder(layers.Layer):\n",
        "    def __init__(self, embed_dim, dense_dim, num_heads, **kwargs):\n",
        "        super().__init__(**kwargs)\n",
        "        self.embed_dim = embed_dim    # Dimension of embedding\n",
        "        self.dense_dim = dense_dim    # No. of neurons in dense layer\n",
        "        self.num_heads = num_heads    # No. of heads for MultiHead Attention layer\n",
        "        self.attention = layers.MultiHeadAttention(num_heads=num_heads, key_dim=embed_dim)   # MultiHead Attention layer\n",
        "        self.dense_proj = keras.Sequential([layers.Dense(dense_dim, activation=\"relu\"),\n",
        "                                            layers.Dense(embed_dim),\n",
        "                                            layers.Dropout(0.1),])\n",
        "        self.layernorm_1 = layers.LayerNormalization()\n",
        "        self.layernorm_2 = layers.LayerNormalization()\n",
        "        self.add = layers.Add()\n",
        "\n",
        "    def call(self, inputs, mask=None):\n",
        "        if mask is not None:\n",
        "            mask = mask[:, tf.newaxis, :]\n",
        "            print(f\"**test: mask in not None. mask = {mask}\")\n",
        "\n",
        "        attention_output = self.attention(query=inputs,             # Query: inputs,\n",
        "                                          value=inputs,             # Value: inputs,\n",
        "                                          key=inputs,               # Keys: Same as Values by default\n",
        "                                          attention_mask=mask\n",
        "                                          )                         # Q: Can you see how this is self attention? A: all args are the same\n",
        "\n",
        "        proj_input = self.layernorm_1(self.add([inputs, attention_output]))\n",
        "\n",
        "        proj_output = self.dense_proj(proj_input)\n",
        "\n",
        "        return self.layernorm_2(self.add([proj_input, proj_output]))\n",
        "\n",
        "    def get_config(self):\n",
        "        config = super().get_config()\n",
        "        config.update({\n",
        "            \"embed_dim\": self.embed_dim,\n",
        "            \"num_heads\": self.num_heads,\n",
        "            \"dense_dim\": self.dense_dim,\n",
        "        })\n",
        "        return"
      ]
    },
    {
      "cell_type": "markdown",
      "metadata": {
        "id": "KbAVK3wyuRf1"
      },
      "source": [
        "### Decoder Block\n",
        "\n",
        "**Step 11: Create a class, `TransformerDecoder`**\n",
        "\n",
        "- Do not create any separate function to get causal attention mask, just pass `use_causal_mask = True` parameter while calling `attention_1` layer\n",
        "\n",
        "- While calling `attention_2` layer, do not use `attention_mask` parameter\n",
        "\n",
        "- In Feed forward network, add `Dropout(0.1)` layer after 2 dense layers\n",
        "\n",
        "- For skip connections, use `tf.keras.layers.Add()` instead of `'+'`"
      ]
    },
    {
      "cell_type": "code",
      "execution_count": null,
      "metadata": {
        "id": "6hXHINBbuTW4"
      },
      "outputs": [],
      "source": [
        "class TransformerDecoder(layers.Layer):\n",
        "    def __init__(self, embed_dim, dense_dim, num_heads, **kwargs):\n",
        "        # Define the layers. Let's point them out in the diagram\n",
        "        super().__init__(**kwargs)\n",
        "        self.embed_dim = embed_dim\n",
        "        self.dense_dim = dense_dim\n",
        "        self.num_heads = num_heads\n",
        "        # Now we have 2 MultiHead Attention layers - one for self attention and one for generalized attention\n",
        "        self.attention_1 = layers.MultiHeadAttention(num_heads=num_heads, key_dim=embed_dim)\n",
        "        self.attention_2 = layers.MultiHeadAttention(num_heads=num_heads, key_dim=embed_dim)\n",
        "        self.dense_proj = keras.Sequential([layers.Dense(dense_dim, activation=\"relu\"),\n",
        "                                            layers.Dense(embed_dim),\n",
        "                                            layers.Dropout(0.1),])\n",
        "        self.layernorm_1 = layers.LayerNormalization()\n",
        "        self.layernorm_2 = layers.LayerNormalization()\n",
        "        self.layernorm_3 = layers.LayerNormalization()\n",
        "        self.add = layers.Add()\n",
        "        self.supports_masking = True #ensures that the layer will propagate its input mask to its outputs;\n",
        "\n",
        "    def get_config(self):\n",
        "        config = super().get_config()\n",
        "        config.update({\n",
        "            \"embed_dim\": self.embed_dim,\n",
        "            \"num_heads\": self.num_heads,\n",
        "            \"dense_dim\": self.dense_dim,\n",
        "        })\n",
        "        return config\n",
        "\n",
        "\n",
        "    def call(self, inputs, encoder_outputs, mask=None): # two inputs: decoder i/p and encoder o/p\n",
        "\n",
        "        attention_output_1 = self.attention_1(query=inputs,\n",
        "                                              value=inputs,\n",
        "                                              key=inputs,\n",
        "                                              use_causal_mask = True)\n",
        "\n",
        "        attention_output_1 = self.layernorm_1(self.add([inputs, attention_output_1]))\n",
        "\n",
        "        attention_output_2 = self.attention_2(query=attention_output_1,\n",
        "                                              value=encoder_outputs,\n",
        "                                              key=encoder_outputs)\n",
        "\n",
        "        attention_output_2 = self.layernorm_2(self.add([attention_output_1, attention_output_2]))\n",
        "\n",
        "        proj_output = self.dense_proj(attention_output_2)\n",
        "\n",
        "        return self.layernorm_3(self.add([attention_output_2, proj_output]))"
      ]
    },
    {
      "cell_type": "markdown",
      "metadata": {
        "id": "AiaXYTIpw2k9"
      },
      "source": [
        "### Build Transformer model\n",
        "\n",
        "**Step 12: Create a transformer model with below points:**\n",
        "\n",
        "- Use the respective vocabulary size for PositionalEmbedding of encode and decoder inputs\n",
        "\n",
        "- Add `Dropout(0.1)` layers after both encoder and decoder PositionalEmbedding layers\n",
        "\n",
        "- Do not use `activation=\"softmax\"` for the last dense classification layer (You will be required to create a custom loss, and metric in the next stage.)\n",
        "\n",
        "- Add a stack of 4 encoder blocks and 4 decoder blocks to your transformer"
      ]
    },
    {
      "cell_type": "code",
      "execution_count": null,
      "metadata": {
        "colab": {
          "base_uri": "https://localhost:8080/",
          "height": 852
        },
        "id": "NMwhQQS6TrkR",
        "outputId": "ce14a853-c22f-465c-eb40-e682bcaa4716"
      },
      "outputs": [
        {
          "data": {
            "text/html": [
              "<pre style=\"white-space:pre;overflow-x:auto;line-height:normal;font-family:Menlo,'DejaVu Sans Mono',consolas,'Courier New',monospace\"><span style=\"font-weight: bold\">Model: \"functional_17\"</span>\n",
              "</pre>\n"
            ],
            "text/plain": [
              "\u001b[1mModel: \"functional_17\"\u001b[0m\n"
            ]
          },
          "metadata": {},
          "output_type": "display_data"
        },
        {
          "data": {
            "text/html": [
              "<pre style=\"white-space:pre;overflow-x:auto;line-height:normal;font-family:Menlo,'DejaVu Sans Mono',consolas,'Courier New',monospace\">┏━━━━━━━━━━━━━━━━━━━━━━━━━━━┳━━━━━━━━━━━━━━━━━━━━━━━━┳━━━━━━━━━━━━━━━━┳━━━━━━━━━━━━━━━━━━━━━━━━┓\n",
              "┃<span style=\"font-weight: bold\"> Layer (type)              </span>┃<span style=\"font-weight: bold\"> Output Shape           </span>┃<span style=\"font-weight: bold\">        Param # </span>┃<span style=\"font-weight: bold\"> Connected to           </span>┃\n",
              "┡━━━━━━━━━━━━━━━━━━━━━━━━━━━╇━━━━━━━━━━━━━━━━━━━━━━━━╇━━━━━━━━━━━━━━━━╇━━━━━━━━━━━━━━━━━━━━━━━━┩\n",
              "│ input_layer_10            │ (<span style=\"color: #00d7ff; text-decoration-color: #00d7ff\">None</span>, <span style=\"color: #00d7ff; text-decoration-color: #00d7ff\">None</span>)           │              <span style=\"color: #00af00; text-decoration-color: #00af00\">0</span> │ -                      │\n",
              "│ (<span style=\"color: #0087ff; text-decoration-color: #0087ff\">InputLayer</span>)              │                        │                │                        │\n",
              "├───────────────────────────┼────────────────────────┼────────────────┼────────────────────────┤\n",
              "│ positional_embedding_2    │ (<span style=\"color: #00d7ff; text-decoration-color: #00d7ff\">None</span>, <span style=\"color: #00d7ff; text-decoration-color: #00d7ff\">None</span>, <span style=\"color: #00af00; text-decoration-color: #00af00\">256</span>)      │      <span style=\"color: #00af00; text-decoration-color: #00af00\">6,950,400</span> │ input_layer_10[<span style=\"color: #00af00; text-decoration-color: #00af00\">0</span>][<span style=\"color: #00af00; text-decoration-color: #00af00\">0</span>]   │\n",
              "│ (<span style=\"color: #0087ff; text-decoration-color: #0087ff\">PositionalEmbedding</span>)     │                        │                │                        │\n",
              "├───────────────────────────┼────────────────────────┼────────────────┼────────────────────────┤\n",
              "│ dropout_23 (<span style=\"color: #0087ff; text-decoration-color: #0087ff\">Dropout</span>)      │ (<span style=\"color: #00d7ff; text-decoration-color: #00d7ff\">None</span>, <span style=\"color: #00d7ff; text-decoration-color: #00d7ff\">None</span>, <span style=\"color: #00af00; text-decoration-color: #00af00\">256</span>)      │              <span style=\"color: #00af00; text-decoration-color: #00af00\">0</span> │ positional_embedding_… │\n",
              "├───────────────────────────┼────────────────────────┼────────────────┼────────────────────────┤\n",
              "│ transformer_encoder_4     │ (<span style=\"color: #00d7ff; text-decoration-color: #00d7ff\">None</span>, <span style=\"color: #00d7ff; text-decoration-color: #00d7ff\">None</span>, <span style=\"color: #00af00; text-decoration-color: #00af00\">256</span>)      │      <span style=\"color: #00af00; text-decoration-color: #00af00\">3,155,456</span> │ dropout_23[<span style=\"color: #00af00; text-decoration-color: #00af00\">0</span>][<span style=\"color: #00af00; text-decoration-color: #00af00\">0</span>]       │\n",
              "│ (<span style=\"color: #0087ff; text-decoration-color: #0087ff\">TransformerEncoder</span>)      │                        │                │                        │\n",
              "├───────────────────────────┼────────────────────────┼────────────────┼────────────────────────┤\n",
              "│ input_layer_15            │ (<span style=\"color: #00d7ff; text-decoration-color: #00d7ff\">None</span>, <span style=\"color: #00d7ff; text-decoration-color: #00d7ff\">None</span>)           │              <span style=\"color: #00af00; text-decoration-color: #00af00\">0</span> │ -                      │\n",
              "│ (<span style=\"color: #0087ff; text-decoration-color: #0087ff\">InputLayer</span>)              │                        │                │                        │\n",
              "├───────────────────────────┼────────────────────────┼────────────────┼────────────────────────┤\n",
              "│ transformer_encoder_5     │ (<span style=\"color: #00d7ff; text-decoration-color: #00d7ff\">None</span>, <span style=\"color: #00d7ff; text-decoration-color: #00d7ff\">None</span>, <span style=\"color: #00af00; text-decoration-color: #00af00\">256</span>)      │      <span style=\"color: #00af00; text-decoration-color: #00af00\">3,155,456</span> │ transformer_encoder_4… │\n",
              "│ (<span style=\"color: #0087ff; text-decoration-color: #0087ff\">TransformerEncoder</span>)      │                        │                │                        │\n",
              "├───────────────────────────┼────────────────────────┼────────────────┼────────────────────────┤\n",
              "│ positional_embedding_3    │ (<span style=\"color: #00d7ff; text-decoration-color: #00d7ff\">None</span>, <span style=\"color: #00d7ff; text-decoration-color: #00d7ff\">None</span>, <span style=\"color: #00af00; text-decoration-color: #00af00\">256</span>)      │      <span style=\"color: #00af00; text-decoration-color: #00af00\">1,522,688</span> │ input_layer_15[<span style=\"color: #00af00; text-decoration-color: #00af00\">0</span>][<span style=\"color: #00af00; text-decoration-color: #00af00\">0</span>]   │\n",
              "│ (<span style=\"color: #0087ff; text-decoration-color: #0087ff\">PositionalEmbedding</span>)     │                        │                │                        │\n",
              "├───────────────────────────┼────────────────────────┼────────────────┼────────────────────────┤\n",
              "│ transformer_encoder_6     │ (<span style=\"color: #00d7ff; text-decoration-color: #00d7ff\">None</span>, <span style=\"color: #00d7ff; text-decoration-color: #00d7ff\">None</span>, <span style=\"color: #00af00; text-decoration-color: #00af00\">256</span>)      │      <span style=\"color: #00af00; text-decoration-color: #00af00\">3,155,456</span> │ transformer_encoder_5… │\n",
              "│ (<span style=\"color: #0087ff; text-decoration-color: #0087ff\">TransformerEncoder</span>)      │                        │                │                        │\n",
              "├───────────────────────────┼────────────────────────┼────────────────┼────────────────────────┤\n",
              "│ dropout_32 (<span style=\"color: #0087ff; text-decoration-color: #0087ff\">Dropout</span>)      │ (<span style=\"color: #00d7ff; text-decoration-color: #00d7ff\">None</span>, <span style=\"color: #00d7ff; text-decoration-color: #00d7ff\">None</span>, <span style=\"color: #00af00; text-decoration-color: #00af00\">256</span>)      │              <span style=\"color: #00af00; text-decoration-color: #00af00\">0</span> │ positional_embedding_… │\n",
              "├───────────────────────────┼────────────────────────┼────────────────┼────────────────────────┤\n",
              "│ transformer_encoder_7     │ (<span style=\"color: #00d7ff; text-decoration-color: #00d7ff\">None</span>, <span style=\"color: #00d7ff; text-decoration-color: #00d7ff\">None</span>, <span style=\"color: #00af00; text-decoration-color: #00af00\">256</span>)      │      <span style=\"color: #00af00; text-decoration-color: #00af00\">3,155,456</span> │ transformer_encoder_6… │\n",
              "│ (<span style=\"color: #0087ff; text-decoration-color: #0087ff\">TransformerEncoder</span>)      │                        │                │                        │\n",
              "├───────────────────────────┼────────────────────────┼────────────────┼────────────────────────┤\n",
              "│ transformer_decoder_4     │ (<span style=\"color: #00d7ff; text-decoration-color: #00d7ff\">None</span>, <span style=\"color: #00d7ff; text-decoration-color: #00d7ff\">None</span>, <span style=\"color: #00af00; text-decoration-color: #00af00\">256</span>)      │      <span style=\"color: #00af00; text-decoration-color: #00af00\">5,259,520</span> │ dropout_32[<span style=\"color: #00af00; text-decoration-color: #00af00\">0</span>][<span style=\"color: #00af00; text-decoration-color: #00af00\">0</span>],      │\n",
              "│ (<span style=\"color: #0087ff; text-decoration-color: #0087ff\">TransformerDecoder</span>)      │                        │                │ transformer_encoder_7… │\n",
              "├───────────────────────────┼────────────────────────┼────────────────┼────────────────────────┤\n",
              "│ transformer_decoder_5     │ (<span style=\"color: #00d7ff; text-decoration-color: #00d7ff\">None</span>, <span style=\"color: #00d7ff; text-decoration-color: #00d7ff\">None</span>, <span style=\"color: #00af00; text-decoration-color: #00af00\">256</span>)      │      <span style=\"color: #00af00; text-decoration-color: #00af00\">5,259,520</span> │ transformer_decoder_4… │\n",
              "│ (<span style=\"color: #0087ff; text-decoration-color: #0087ff\">TransformerDecoder</span>)      │                        │                │ transformer_encoder_7… │\n",
              "├───────────────────────────┼────────────────────────┼────────────────┼────────────────────────┤\n",
              "│ transformer_decoder_6     │ (<span style=\"color: #00d7ff; text-decoration-color: #00d7ff\">None</span>, <span style=\"color: #00d7ff; text-decoration-color: #00d7ff\">None</span>, <span style=\"color: #00af00; text-decoration-color: #00af00\">256</span>)      │      <span style=\"color: #00af00; text-decoration-color: #00af00\">5,259,520</span> │ transformer_decoder_5… │\n",
              "│ (<span style=\"color: #0087ff; text-decoration-color: #0087ff\">TransformerDecoder</span>)      │                        │                │ transformer_encoder_7… │\n",
              "├───────────────────────────┼────────────────────────┼────────────────┼────────────────────────┤\n",
              "│ transformer_decoder_7     │ (<span style=\"color: #00d7ff; text-decoration-color: #00d7ff\">None</span>, <span style=\"color: #00d7ff; text-decoration-color: #00d7ff\">None</span>, <span style=\"color: #00af00; text-decoration-color: #00af00\">256</span>)      │      <span style=\"color: #00af00; text-decoration-color: #00af00\">5,259,520</span> │ transformer_decoder_6… │\n",
              "│ (<span style=\"color: #0087ff; text-decoration-color: #0087ff\">TransformerDecoder</span>)      │                        │                │ transformer_encoder_7… │\n",
              "├───────────────────────────┼────────────────────────┼────────────────┼────────────────────────┤\n",
              "│ dropout_45 (<span style=\"color: #0087ff; text-decoration-color: #0087ff\">Dropout</span>)      │ (<span style=\"color: #00d7ff; text-decoration-color: #00d7ff\">None</span>, <span style=\"color: #00d7ff; text-decoration-color: #00d7ff\">None</span>, <span style=\"color: #00af00; text-decoration-color: #00af00\">256</span>)      │              <span style=\"color: #00af00; text-decoration-color: #00af00\">0</span> │ transformer_decoder_7… │\n",
              "├───────────────────────────┼────────────────────────┼────────────────┼────────────────────────┤\n",
              "│ dense_33 (<span style=\"color: #0087ff; text-decoration-color: #0087ff\">Dense</span>)          │ (<span style=\"color: #00d7ff; text-decoration-color: #00d7ff\">None</span>, <span style=\"color: #00d7ff; text-decoration-color: #00d7ff\">None</span>, <span style=\"color: #00af00; text-decoration-color: #00af00\">5918</span>)     │      <span style=\"color: #00af00; text-decoration-color: #00af00\">1,520,926</span> │ dropout_45[<span style=\"color: #00af00; text-decoration-color: #00af00\">0</span>][<span style=\"color: #00af00; text-decoration-color: #00af00\">0</span>]       │\n",
              "└───────────────────────────┴────────────────────────┴────────────────┴────────────────────────┘\n",
              "</pre>\n"
            ],
            "text/plain": [
              "┏━━━━━━━━━━━━━━━━━━━━━━━━━━━┳━━━━━━━━━━━━━━━━━━━━━━━━┳━━━━━━━━━━━━━━━━┳━━━━━━━━━━━━━━━━━━━━━━━━┓\n",
              "┃\u001b[1m \u001b[0m\u001b[1mLayer (type)             \u001b[0m\u001b[1m \u001b[0m┃\u001b[1m \u001b[0m\u001b[1mOutput Shape          \u001b[0m\u001b[1m \u001b[0m┃\u001b[1m \u001b[0m\u001b[1m       Param #\u001b[0m\u001b[1m \u001b[0m┃\u001b[1m \u001b[0m\u001b[1mConnected to          \u001b[0m\u001b[1m \u001b[0m┃\n",
              "┡━━━━━━━━━━━━━━━━━━━━━━━━━━━╇━━━━━━━━━━━━━━━━━━━━━━━━╇━━━━━━━━━━━━━━━━╇━━━━━━━━━━━━━━━━━━━━━━━━┩\n",
              "│ input_layer_10            │ (\u001b[38;5;45mNone\u001b[0m, \u001b[38;5;45mNone\u001b[0m)           │              \u001b[38;5;34m0\u001b[0m │ -                      │\n",
              "│ (\u001b[38;5;33mInputLayer\u001b[0m)              │                        │                │                        │\n",
              "├───────────────────────────┼────────────────────────┼────────────────┼────────────────────────┤\n",
              "│ positional_embedding_2    │ (\u001b[38;5;45mNone\u001b[0m, \u001b[38;5;45mNone\u001b[0m, \u001b[38;5;34m256\u001b[0m)      │      \u001b[38;5;34m6,950,400\u001b[0m │ input_layer_10[\u001b[38;5;34m0\u001b[0m][\u001b[38;5;34m0\u001b[0m]   │\n",
              "│ (\u001b[38;5;33mPositionalEmbedding\u001b[0m)     │                        │                │                        │\n",
              "├───────────────────────────┼────────────────────────┼────────────────┼────────────────────────┤\n",
              "│ dropout_23 (\u001b[38;5;33mDropout\u001b[0m)      │ (\u001b[38;5;45mNone\u001b[0m, \u001b[38;5;45mNone\u001b[0m, \u001b[38;5;34m256\u001b[0m)      │              \u001b[38;5;34m0\u001b[0m │ positional_embedding_… │\n",
              "├───────────────────────────┼────────────────────────┼────────────────┼────────────────────────┤\n",
              "│ transformer_encoder_4     │ (\u001b[38;5;45mNone\u001b[0m, \u001b[38;5;45mNone\u001b[0m, \u001b[38;5;34m256\u001b[0m)      │      \u001b[38;5;34m3,155,456\u001b[0m │ dropout_23[\u001b[38;5;34m0\u001b[0m][\u001b[38;5;34m0\u001b[0m]       │\n",
              "│ (\u001b[38;5;33mTransformerEncoder\u001b[0m)      │                        │                │                        │\n",
              "├───────────────────────────┼────────────────────────┼────────────────┼────────────────────────┤\n",
              "│ input_layer_15            │ (\u001b[38;5;45mNone\u001b[0m, \u001b[38;5;45mNone\u001b[0m)           │              \u001b[38;5;34m0\u001b[0m │ -                      │\n",
              "│ (\u001b[38;5;33mInputLayer\u001b[0m)              │                        │                │                        │\n",
              "├───────────────────────────┼────────────────────────┼────────────────┼────────────────────────┤\n",
              "│ transformer_encoder_5     │ (\u001b[38;5;45mNone\u001b[0m, \u001b[38;5;45mNone\u001b[0m, \u001b[38;5;34m256\u001b[0m)      │      \u001b[38;5;34m3,155,456\u001b[0m │ transformer_encoder_4… │\n",
              "│ (\u001b[38;5;33mTransformerEncoder\u001b[0m)      │                        │                │                        │\n",
              "├───────────────────────────┼────────────────────────┼────────────────┼────────────────────────┤\n",
              "│ positional_embedding_3    │ (\u001b[38;5;45mNone\u001b[0m, \u001b[38;5;45mNone\u001b[0m, \u001b[38;5;34m256\u001b[0m)      │      \u001b[38;5;34m1,522,688\u001b[0m │ input_layer_15[\u001b[38;5;34m0\u001b[0m][\u001b[38;5;34m0\u001b[0m]   │\n",
              "│ (\u001b[38;5;33mPositionalEmbedding\u001b[0m)     │                        │                │                        │\n",
              "├───────────────────────────┼────────────────────────┼────────────────┼────────────────────────┤\n",
              "│ transformer_encoder_6     │ (\u001b[38;5;45mNone\u001b[0m, \u001b[38;5;45mNone\u001b[0m, \u001b[38;5;34m256\u001b[0m)      │      \u001b[38;5;34m3,155,456\u001b[0m │ transformer_encoder_5… │\n",
              "│ (\u001b[38;5;33mTransformerEncoder\u001b[0m)      │                        │                │                        │\n",
              "├───────────────────────────┼────────────────────────┼────────────────┼────────────────────────┤\n",
              "│ dropout_32 (\u001b[38;5;33mDropout\u001b[0m)      │ (\u001b[38;5;45mNone\u001b[0m, \u001b[38;5;45mNone\u001b[0m, \u001b[38;5;34m256\u001b[0m)      │              \u001b[38;5;34m0\u001b[0m │ positional_embedding_… │\n",
              "├───────────────────────────┼────────────────────────┼────────────────┼────────────────────────┤\n",
              "│ transformer_encoder_7     │ (\u001b[38;5;45mNone\u001b[0m, \u001b[38;5;45mNone\u001b[0m, \u001b[38;5;34m256\u001b[0m)      │      \u001b[38;5;34m3,155,456\u001b[0m │ transformer_encoder_6… │\n",
              "│ (\u001b[38;5;33mTransformerEncoder\u001b[0m)      │                        │                │                        │\n",
              "├───────────────────────────┼────────────────────────┼────────────────┼────────────────────────┤\n",
              "│ transformer_decoder_4     │ (\u001b[38;5;45mNone\u001b[0m, \u001b[38;5;45mNone\u001b[0m, \u001b[38;5;34m256\u001b[0m)      │      \u001b[38;5;34m5,259,520\u001b[0m │ dropout_32[\u001b[38;5;34m0\u001b[0m][\u001b[38;5;34m0\u001b[0m],      │\n",
              "│ (\u001b[38;5;33mTransformerDecoder\u001b[0m)      │                        │                │ transformer_encoder_7… │\n",
              "├───────────────────────────┼────────────────────────┼────────────────┼────────────────────────┤\n",
              "│ transformer_decoder_5     │ (\u001b[38;5;45mNone\u001b[0m, \u001b[38;5;45mNone\u001b[0m, \u001b[38;5;34m256\u001b[0m)      │      \u001b[38;5;34m5,259,520\u001b[0m │ transformer_decoder_4… │\n",
              "│ (\u001b[38;5;33mTransformerDecoder\u001b[0m)      │                        │                │ transformer_encoder_7… │\n",
              "├───────────────────────────┼────────────────────────┼────────────────┼────────────────────────┤\n",
              "│ transformer_decoder_6     │ (\u001b[38;5;45mNone\u001b[0m, \u001b[38;5;45mNone\u001b[0m, \u001b[38;5;34m256\u001b[0m)      │      \u001b[38;5;34m5,259,520\u001b[0m │ transformer_decoder_5… │\n",
              "│ (\u001b[38;5;33mTransformerDecoder\u001b[0m)      │                        │                │ transformer_encoder_7… │\n",
              "├───────────────────────────┼────────────────────────┼────────────────┼────────────────────────┤\n",
              "│ transformer_decoder_7     │ (\u001b[38;5;45mNone\u001b[0m, \u001b[38;5;45mNone\u001b[0m, \u001b[38;5;34m256\u001b[0m)      │      \u001b[38;5;34m5,259,520\u001b[0m │ transformer_decoder_6… │\n",
              "│ (\u001b[38;5;33mTransformerDecoder\u001b[0m)      │                        │                │ transformer_encoder_7… │\n",
              "├───────────────────────────┼────────────────────────┼────────────────┼────────────────────────┤\n",
              "│ dropout_45 (\u001b[38;5;33mDropout\u001b[0m)      │ (\u001b[38;5;45mNone\u001b[0m, \u001b[38;5;45mNone\u001b[0m, \u001b[38;5;34m256\u001b[0m)      │              \u001b[38;5;34m0\u001b[0m │ transformer_decoder_7… │\n",
              "├───────────────────────────┼────────────────────────┼────────────────┼────────────────────────┤\n",
              "│ dense_33 (\u001b[38;5;33mDense\u001b[0m)          │ (\u001b[38;5;45mNone\u001b[0m, \u001b[38;5;45mNone\u001b[0m, \u001b[38;5;34m5918\u001b[0m)     │      \u001b[38;5;34m1,520,926\u001b[0m │ dropout_45[\u001b[38;5;34m0\u001b[0m][\u001b[38;5;34m0\u001b[0m]       │\n",
              "└───────────────────────────┴────────────────────────┴────────────────┴────────────────────────┘\n"
            ]
          },
          "metadata": {},
          "output_type": "display_data"
        },
        {
          "data": {
            "text/html": [
              "<pre style=\"white-space:pre;overflow-x:auto;line-height:normal;font-family:Menlo,'DejaVu Sans Mono',consolas,'Courier New',monospace\"><span style=\"font-weight: bold\"> Total params: </span><span style=\"color: #00af00; text-decoration-color: #00af00\">43,653,918</span> (166.53 MB)\n",
              "</pre>\n"
            ],
            "text/plain": [
              "\u001b[1m Total params: \u001b[0m\u001b[38;5;34m43,653,918\u001b[0m (166.53 MB)\n"
            ]
          },
          "metadata": {},
          "output_type": "display_data"
        },
        {
          "data": {
            "text/html": [
              "<pre style=\"white-space:pre;overflow-x:auto;line-height:normal;font-family:Menlo,'DejaVu Sans Mono',consolas,'Courier New',monospace\"><span style=\"font-weight: bold\"> Trainable params: </span><span style=\"color: #00af00; text-decoration-color: #00af00\">43,653,918</span> (166.53 MB)\n",
              "</pre>\n"
            ],
            "text/plain": [
              "\u001b[1m Trainable params: \u001b[0m\u001b[38;5;34m43,653,918\u001b[0m (166.53 MB)\n"
            ]
          },
          "metadata": {},
          "output_type": "display_data"
        },
        {
          "data": {
            "text/html": [
              "<pre style=\"white-space:pre;overflow-x:auto;line-height:normal;font-family:Menlo,'DejaVu Sans Mono',consolas,'Courier New',monospace\"><span style=\"font-weight: bold\"> Non-trainable params: </span><span style=\"color: #00af00; text-decoration-color: #00af00\">0</span> (0.00 B)\n",
              "</pre>\n"
            ],
            "text/plain": [
              "\u001b[1m Non-trainable params: \u001b[0m\u001b[38;5;34m0\u001b[0m (0.00 B)\n"
            ]
          },
          "metadata": {},
          "output_type": "display_data"
        }
      ],
      "source": [
        "# Create transformer model\n",
        "\n",
        "embed_dim = 256\n",
        "dense_dim = 2048\n",
        "num_heads = 8\n",
        "\n",
        "encoder_inputs = keras.Input(shape=(None,))\n",
        "x = PositionalEmbedding(max_len_transcript, x_voc_size, embed_dim)(encoder_inputs)\n",
        "x = layers.Dropout(0.1)(x)\n",
        "x = TransformerEncoder(embed_dim, dense_dim, num_heads)(x)\n",
        "x = TransformerEncoder(embed_dim, dense_dim, num_heads)(x)\n",
        "x = TransformerEncoder(embed_dim, dense_dim, num_heads)(x)\n",
        "encoder_outputs = TransformerEncoder(embed_dim, dense_dim, num_heads)(x)\n",
        "\n",
        "decoder_inputs = keras.Input(shape=(None,))\n",
        "x = PositionalEmbedding(max_len_keywords, y_voc_size, embed_dim)(decoder_inputs)\n",
        "x = layers.Dropout(0.1)(x)\n",
        "x = TransformerDecoder(embed_dim, dense_dim, num_heads)(x, encoder_outputs)\n",
        "x = TransformerDecoder(embed_dim, dense_dim, num_heads)(x, encoder_outputs)\n",
        "x = TransformerDecoder(embed_dim, dense_dim, num_heads)(x, encoder_outputs)\n",
        "x = TransformerDecoder(embed_dim, dense_dim, num_heads)(x, encoder_outputs)\n",
        "x = layers.Dropout(0.5)(x)\n",
        "\n",
        "decoder_outputs = layers.Dense(y_voc_size)(x)         #, activation=\"softmax\")(x)\n",
        "\n",
        "transformer = keras.Model([encoder_inputs, decoder_inputs], decoder_outputs)\n",
        "\n",
        "transformer.summary()"
      ]
    },
    {
      "cell_type": "markdown",
      "metadata": {
        "id": "DeBvxrOqAohp"
      },
      "source": [
        "## Model Compilation and Training"
      ]
    },
    {
      "cell_type": "markdown",
      "metadata": {
        "id": "1w-GHPylA0IU"
      },
      "source": [
        "**Step 13: Set up the optimizer**\n",
        "\n",
        "Refer [here](https://www.tensorflow.org/text/tutorials/transformer#set_up_the_optimizer) for the following steps:\n",
        "\n",
        "- Use the Adam optimizer with a custom learning rate scheduler\n",
        "\n",
        "- Instantiate the Adam optimizer with custom learning rate"
      ]
    },
    {
      "cell_type": "code",
      "execution_count": null,
      "metadata": {
        "id": "fe7-5dDu1wfz"
      },
      "outputs": [],
      "source": [
        "class CustomSchedule(tf.keras.optimizers.schedules.LearningRateSchedule):\n",
        "  def __init__(self, d_model, warmup_steps=4000):\n",
        "    super().__init__()\n",
        "\n",
        "    self.d_model = d_model\n",
        "    self.d_model = tf.cast(self.d_model, tf.float32)\n",
        "\n",
        "    self.warmup_steps = warmup_steps\n",
        "\n",
        "  def __call__(self, step):\n",
        "    step = tf.cast(step, dtype=tf.float32)\n",
        "    arg1 = tf.math.rsqrt(step)\n",
        "    arg2 = step * (self.warmup_steps ** -1.5)\n",
        "\n",
        "    return tf.math.rsqrt(self.d_model) * tf.math.minimum(arg1, arg2)"
      ]
    },
    {
      "cell_type": "code",
      "execution_count": null,
      "metadata": {
        "id": "x2-tkPW21y-r"
      },
      "outputs": [],
      "source": [
        "# Instantiate the Adam optimizer with custom learning rate\n",
        "\n",
        "learning_rate = CustomSchedule(embed_dim)\n",
        "\n",
        "optimizer = tf.keras.optimizers.Adam(learning_rate, beta_1=0.9, beta_2=0.98,\n",
        "                                     epsilon=1e-9)"
      ]
    },
    {
      "cell_type": "markdown",
      "metadata": {
        "id": "mMQ8zocJBWDj"
      },
      "source": [
        "**Step 14: Set up the loss and metrics**\n",
        "\n",
        "- Apply a padding mask while calculating the loss with cross-entropy loss function as demonstrated [here](https://www.tensorflow.org/text/tutorials/transformer#set_up_the_loss_and_metrics).  "
      ]
    },
    {
      "cell_type": "code",
      "execution_count": null,
      "metadata": {
        "id": "ts9shHt718CF"
      },
      "outputs": [],
      "source": [
        "def masked_loss(label, pred):\n",
        "  mask = label != 0\n",
        "  loss_object = tf.keras.losses.SparseCategoricalCrossentropy(\n",
        "    from_logits=True, reduction='none')\n",
        "  loss = loss_object(label, pred)\n",
        "\n",
        "  mask = tf.cast(mask, dtype=loss.dtype)\n",
        "  loss *= mask\n",
        "\n",
        "  loss = tf.reduce_sum(loss)/tf.reduce_sum(mask)\n",
        "  return loss\n",
        "\n",
        "\n",
        "def masked_accuracy(label, pred):\n",
        "  pred = tf.argmax(pred, axis=2)\n",
        "  label = tf.cast(label, pred.dtype)\n",
        "  match = label == pred\n",
        "\n",
        "  mask = label != 0\n",
        "\n",
        "  match = match & mask\n",
        "\n",
        "  match = tf.cast(match, dtype=tf.float32)\n",
        "  mask = tf.cast(mask, dtype=tf.float32)\n",
        "  return tf.reduce_sum(match)/tf.reduce_sum(mask)"
      ]
    },
    {
      "cell_type": "markdown",
      "metadata": {
        "id": "LXPo6NhRB42D"
      },
      "source": [
        "**Step 15: Compile transformer model with custom optimizer, loss, and metric & perform training**\n",
        "\n",
        "- Use [*transcription sequences*, and *keywords sequences(shifted right)*] as input to transformer\n",
        "\n",
        "- Train model using colab's GPU runtime with batch_size=32, and epochs=30. (It might take one minute per epoch with GPU)\n"
      ]
    },
    {
      "cell_type": "code",
      "execution_count": null,
      "metadata": {
        "id": "9pgKetun1_9U"
      },
      "outputs": [],
      "source": [
        "# Compile\n",
        "transformer.compile(loss=masked_loss,\n",
        "                    optimizer=optimizer,\n",
        "                    metrics=[masked_accuracy])"
      ]
    },
    {
      "cell_type": "code",
      "execution_count": null,
      "metadata": {
        "colab": {
          "base_uri": "https://localhost:8080/"
        },
        "id": "z4Hscihc3kEM",
        "outputId": "331bf200-9e05-4407-b950-335fe6000a11"
      },
      "outputs": [
        {
          "data": {
            "text/plain": [
              "(3435, 31)"
            ]
          },
          "execution_count": 54,
          "metadata": {},
          "output_type": "execute_result"
        }
      ],
      "source": [
        "y_tr.shape"
      ]
    },
    {
      "cell_type": "code",
      "execution_count": null,
      "metadata": {
        "colab": {
          "base_uri": "https://localhost:8080/"
        },
        "id": "5ES801Q26gUA",
        "outputId": "3760ca61-7031-43b3-9eca-55baf3a060da"
      },
      "outputs": [
        {
          "data": {
            "text/plain": [
              "((3435, 30), (3435, 30))"
            ]
          },
          "execution_count": 55,
          "metadata": {},
          "output_type": "execute_result"
        }
      ],
      "source": [
        "y_tr[:, :-1].shape, y_tr[:, 1:].shape"
      ]
    },
    {
      "cell_type": "code",
      "execution_count": null,
      "metadata": {
        "colab": {
          "base_uri": "https://localhost:8080/"
        },
        "id": "4aLKFC_8T5T8",
        "outputId": "e09684ac-422a-439d-b3fd-bba37a7d0f2e"
      },
      "outputs": [
        {
          "name": "stdout",
          "output_type": "stream",
          "text": [
            "Epoch 1/30\n",
            "\u001b[1m108/108\u001b[0m \u001b[32m━━━━━━━━━━━━━━━━━━━━\u001b[0m\u001b[37m\u001b[0m \u001b[1m145s\u001b[0m 803ms/step - loss: 8.6825 - masked_accuracy: 0.0124 - val_loss: 8.2781 - val_masked_accuracy: 0.0575\n",
            "Epoch 2/30\n",
            "\u001b[1m108/108\u001b[0m \u001b[32m━━━━━━━━━━━━━━━━━━━━\u001b[0m\u001b[37m\u001b[0m \u001b[1m77s\u001b[0m 478ms/step - loss: 8.2128 - masked_accuracy: 0.0584 - val_loss: 7.7947 - val_masked_accuracy: 0.0706\n",
            "Epoch 3/30\n",
            "\u001b[1m108/108\u001b[0m \u001b[32m━━━━━━━━━━━━━━━━━━━━\u001b[0m\u001b[37m\u001b[0m \u001b[1m84s\u001b[0m 495ms/step - loss: 7.7182 - masked_accuracy: 0.0743 - val_loss: 7.3144 - val_masked_accuracy: 0.0820\n",
            "Epoch 4/30\n",
            "\u001b[1m108/108\u001b[0m \u001b[32m━━━━━━━━━━━━━━━━━━━━\u001b[0m\u001b[37m\u001b[0m \u001b[1m82s\u001b[0m 494ms/step - loss: 7.2588 - masked_accuracy: 0.0871 - val_loss: 6.9006 - val_masked_accuracy: 0.1167\n",
            "Epoch 5/30\n",
            "\u001b[1m108/108\u001b[0m \u001b[32m━━━━━━━━━━━━━━━━━━━━\u001b[0m\u001b[37m\u001b[0m \u001b[1m81s\u001b[0m 488ms/step - loss: 6.8238 - masked_accuracy: 0.1210 - val_loss: 6.4743 - val_masked_accuracy: 0.1467\n",
            "Epoch 6/30\n",
            "\u001b[1m108/108\u001b[0m \u001b[32m━━━━━━━━━━━━━━━━━━━━\u001b[0m\u001b[37m\u001b[0m \u001b[1m82s\u001b[0m 489ms/step - loss: 6.3681 - masked_accuracy: 0.1447 - val_loss: 6.0307 - val_masked_accuracy: 0.1771\n",
            "Epoch 7/30\n",
            "\u001b[1m108/108\u001b[0m \u001b[32m━━━━━━━━━━━━━━━━━━━━\u001b[0m\u001b[37m\u001b[0m \u001b[1m83s\u001b[0m 495ms/step - loss: 5.8594 - masked_accuracy: 0.1840 - val_loss: 5.6470 - val_masked_accuracy: 0.2111\n",
            "Epoch 8/30\n",
            "\u001b[1m108/108\u001b[0m \u001b[32m━━━━━━━━━━━━━━━━━━━━\u001b[0m\u001b[37m\u001b[0m \u001b[1m82s\u001b[0m 495ms/step - loss: 5.4468 - masked_accuracy: 0.2131 - val_loss: 5.2255 - val_masked_accuracy: 0.2495\n",
            "Epoch 9/30\n",
            "\u001b[1m108/108\u001b[0m \u001b[32m━━━━━━━━━━━━━━━━━━━━\u001b[0m\u001b[37m\u001b[0m \u001b[1m81s\u001b[0m 488ms/step - loss: 4.9491 - masked_accuracy: 0.2593 - val_loss: 4.8757 - val_masked_accuracy: 0.2751\n",
            "Epoch 10/30\n",
            "\u001b[1m108/108\u001b[0m \u001b[32m━━━━━━━━━━━━━━━━━━━━\u001b[0m\u001b[37m\u001b[0m \u001b[1m83s\u001b[0m 495ms/step - loss: 4.5218 - masked_accuracy: 0.2989 - val_loss: 4.5294 - val_masked_accuracy: 0.3064\n",
            "Epoch 11/30\n",
            "\u001b[1m108/108\u001b[0m \u001b[32m━━━━━━━━━━━━━━━━━━━━\u001b[0m\u001b[37m\u001b[0m \u001b[1m52s\u001b[0m 483ms/step - loss: 4.1626 - masked_accuracy: 0.3371 - val_loss: 4.2439 - val_masked_accuracy: 0.3314\n",
            "Epoch 12/30\n",
            "\u001b[1m108/108\u001b[0m \u001b[32m━━━━━━━━━━━━━━━━━━━━\u001b[0m\u001b[37m\u001b[0m \u001b[1m84s\u001b[0m 499ms/step - loss: 3.7228 - masked_accuracy: 0.3901 - val_loss: 3.8980 - val_masked_accuracy: 0.3780\n",
            "Epoch 13/30\n",
            "\u001b[1m108/108\u001b[0m \u001b[32m━━━━━━━━━━━━━━━━━━━━\u001b[0m\u001b[37m\u001b[0m \u001b[1m52s\u001b[0m 483ms/step - loss: 3.3229 - masked_accuracy: 0.4390 - val_loss: 3.6324 - val_masked_accuracy: 0.4083\n",
            "Epoch 14/30\n",
            "\u001b[1m108/108\u001b[0m \u001b[32m━━━━━━━━━━━━━━━━━━━━\u001b[0m\u001b[37m\u001b[0m \u001b[1m84s\u001b[0m 499ms/step - loss: 2.9310 - masked_accuracy: 0.4966 - val_loss: 3.3240 - val_masked_accuracy: 0.4529\n",
            "Epoch 15/30\n",
            "\u001b[1m108/108\u001b[0m \u001b[32m━━━━━━━━━━━━━━━━━━━━\u001b[0m\u001b[37m\u001b[0m \u001b[1m81s\u001b[0m 487ms/step - loss: 2.5661 - masked_accuracy: 0.5462 - val_loss: 3.0797 - val_masked_accuracy: 0.4815\n",
            "Epoch 16/30\n",
            "\u001b[1m108/108\u001b[0m \u001b[32m━━━━━━━━━━━━━━━━━━━━\u001b[0m\u001b[37m\u001b[0m \u001b[1m51s\u001b[0m 477ms/step - loss: 2.2333 - masked_accuracy: 0.5984 - val_loss: 2.8452 - val_masked_accuracy: 0.4975\n",
            "Epoch 17/30\n",
            "\u001b[1m108/108\u001b[0m \u001b[32m━━━━━━━━━━━━━━━━━━━━\u001b[0m\u001b[37m\u001b[0m \u001b[1m84s\u001b[0m 492ms/step - loss: 1.9111 - masked_accuracy: 0.6454 - val_loss: 2.6032 - val_masked_accuracy: 0.5383\n",
            "Epoch 18/30\n",
            "\u001b[1m108/108\u001b[0m \u001b[32m━━━━━━━━━━━━━━━━━━━━\u001b[0m\u001b[37m\u001b[0m \u001b[1m81s\u001b[0m 487ms/step - loss: 1.5763 - masked_accuracy: 0.6982 - val_loss: 2.3965 - val_masked_accuracy: 0.5771\n",
            "Epoch 19/30\n",
            "\u001b[1m108/108\u001b[0m \u001b[32m━━━━━━━━━━━━━━━━━━━━\u001b[0m\u001b[37m\u001b[0m \u001b[1m51s\u001b[0m 476ms/step - loss: 1.3420 - masked_accuracy: 0.7404 - val_loss: 2.1994 - val_masked_accuracy: 0.6039\n",
            "Epoch 20/30\n",
            "\u001b[1m108/108\u001b[0m \u001b[32m━━━━━━━━━━━━━━━━━━━━\u001b[0m\u001b[37m\u001b[0m \u001b[1m84s\u001b[0m 491ms/step - loss: 1.1326 - masked_accuracy: 0.7776 - val_loss: 2.0247 - val_masked_accuracy: 0.6395\n",
            "Epoch 21/30\n",
            "\u001b[1m108/108\u001b[0m \u001b[32m━━━━━━━━━━━━━━━━━━━━\u001b[0m\u001b[37m\u001b[0m \u001b[1m82s\u001b[0m 492ms/step - loss: 0.9627 - masked_accuracy: 0.8078 - val_loss: 1.9114 - val_masked_accuracy: 0.6625\n",
            "Epoch 22/30\n",
            "\u001b[1m108/108\u001b[0m \u001b[32m━━━━━━━━━━━━━━━━━━━━\u001b[0m\u001b[37m\u001b[0m \u001b[1m81s\u001b[0m 488ms/step - loss: 0.8202 - masked_accuracy: 0.8306 - val_loss: 1.8319 - val_masked_accuracy: 0.6724\n",
            "Epoch 23/30\n",
            "\u001b[1m108/108\u001b[0m \u001b[32m━━━━━━━━━━━━━━━━━━━━\u001b[0m\u001b[37m\u001b[0m \u001b[1m82s\u001b[0m 493ms/step - loss: 0.7173 - masked_accuracy: 0.8463 - val_loss: 1.7189 - val_masked_accuracy: 0.6923\n",
            "Epoch 24/30\n",
            "\u001b[1m108/108\u001b[0m \u001b[32m━━━━━━━━━━━━━━━━━━━━\u001b[0m\u001b[37m\u001b[0m \u001b[1m82s\u001b[0m 494ms/step - loss: 0.6281 - masked_accuracy: 0.8630 - val_loss: 1.6608 - val_masked_accuracy: 0.7081\n",
            "Epoch 25/30\n",
            "\u001b[1m108/108\u001b[0m \u001b[32m━━━━━━━━━━━━━━━━━━━━\u001b[0m\u001b[37m\u001b[0m \u001b[1m82s\u001b[0m 492ms/step - loss: 0.5766 - masked_accuracy: 0.8710 - val_loss: 1.6379 - val_masked_accuracy: 0.7190\n",
            "Epoch 26/30\n",
            "\u001b[1m108/108\u001b[0m \u001b[32m━━━━━━━━━━━━━━━━━━━━\u001b[0m\u001b[37m\u001b[0m \u001b[1m81s\u001b[0m 487ms/step - loss: 0.5333 - masked_accuracy: 0.8751 - val_loss: 1.6181 - val_masked_accuracy: 0.7195\n",
            "Epoch 27/30\n",
            "\u001b[1m108/108\u001b[0m \u001b[32m━━━━━━━━━━━━━━━━━━━━\u001b[0m\u001b[37m\u001b[0m \u001b[1m82s\u001b[0m 486ms/step - loss: 0.5068 - masked_accuracy: 0.8810 - val_loss: 1.5444 - val_masked_accuracy: 0.7339\n",
            "Epoch 28/30\n",
            "\u001b[1m108/108\u001b[0m \u001b[32m━━━━━━━━━━━━━━━━━━━━\u001b[0m\u001b[37m\u001b[0m \u001b[1m82s\u001b[0m 492ms/step - loss: 0.4747 - masked_accuracy: 0.8855 - val_loss: 1.5386 - val_masked_accuracy: 0.7505\n",
            "Epoch 29/30\n",
            "\u001b[1m108/108\u001b[0m \u001b[32m━━━━━━━━━━━━━━━━━━━━\u001b[0m\u001b[37m\u001b[0m \u001b[1m82s\u001b[0m 493ms/step - loss: 0.4734 - masked_accuracy: 0.8819 - val_loss: 1.5284 - val_masked_accuracy: 0.7498\n",
            "Epoch 30/30\n",
            "\u001b[1m108/108\u001b[0m \u001b[32m━━━━━━━━━━━━━━━━━━━━\u001b[0m\u001b[37m\u001b[0m \u001b[1m52s\u001b[0m 479ms/step - loss: 0.4575 - masked_accuracy: 0.8868 - val_loss: 1.4842 - val_masked_accuracy: 0.7546\n"
          ]
        },
        {
          "data": {
            "text/plain": [
              "<keras.src.callbacks.history.History at 0x7f6817fb65c0>"
            ]
          },
          "execution_count": 56,
          "metadata": {},
          "output_type": "execute_result"
        }
      ],
      "source": [
        "# Train\n",
        "transformer.fit([x_tr, y_tr[:,:-1]], y_tr[:, 1:],\n",
        "                epochs=30,\n",
        "                batch_size=32,\n",
        "                validation_data=([x_val, y_val[:,:-1]], y_val[:,1:]))"
      ]
    },
    {
      "cell_type": "markdown",
      "metadata": {
        "id": "gZkETV7giEuE"
      },
      "source": [
        "### Save model weights"
      ]
    },
    {
      "cell_type": "code",
      "execution_count": null,
      "metadata": {
        "id": "r3DV-yQihsNV"
      },
      "outputs": [],
      "source": [
        "!mkdir my_model_weights"
      ]
    },
    {
      "cell_type": "code",
      "execution_count": null,
      "metadata": {
        "id": "u1Wfb5WJf_GC"
      },
      "outputs": [],
      "source": [
        "# Save model weights\n",
        "# It will create a '.weights.h5' file which can be downloaded into your system from colab\n",
        "\n",
        "transformer.save_weights('my_model_weights/my_weights.weights.h5')"
      ]
    },
    {
      "cell_type": "code",
      "execution_count": null,
      "metadata": {
        "colab": {
          "base_uri": "https://localhost:8080/"
        },
        "id": "E9-Un2VAh6px",
        "outputId": "721a22b4-fdf7-47ed-a720-36b27dcb7b01"
      },
      "outputs": [
        {
          "name": "stdout",
          "output_type": "stream",
          "text": [
            "  adding: my_model_weights/ (stored 0%)\n",
            "  adding: my_model_weights/my_weights.weights.h5 (deflated 9%)\n"
          ]
        }
      ],
      "source": [
        "# OR\n",
        "# Make a zip file, which also can be downloaded into your system from colab\n",
        "\n",
        "!zip -r 'my_model_weights.zip' 'my_model_weights'"
      ]
    },
    {
      "cell_type": "markdown",
      "metadata": {
        "id": "z0wjnHjRCU9C"
      },
      "source": [
        "### Load model weights\n",
        "\n",
        "Whenever you need to use this trained model:\n",
        "* use the model architecture to create exact same model\n",
        "* then load the trained weights directly using below code"
      ]
    },
    {
      "cell_type": "code",
      "execution_count": null,
      "metadata": {
        "id": "BoKEsIbqhWLi"
      },
      "outputs": [],
      "source": [
        "# To load model weights\n",
        "#transformer.load_weights('my_model_weights/my_weights.weights.h5')"
      ]
    },
    {
      "cell_type": "markdown",
      "metadata": {
        "id": "cxKpqCbzSW6z"
      },
      "source": [
        "## Run Inference\n",
        "\n",
        "**Step 16: Create a function to extract keywords, given transcription text as input**\n",
        "\n",
        "- Encode the input sentence using the Transcription tokenizer. This is the encoder input\n",
        "- Initialize decoder input with the 'start' token\n",
        "- The decoder then outputs the predictions by looking at the encoder output and its own output (self-attention).\n",
        "- Concatenate the predicted token to the decoder input and pass it to the decoder repeatedly\n",
        "- Make decoder predict the next token based on the previous tokens it has predicted"
      ]
    },
    {
      "cell_type": "code",
      "execution_count": null,
      "metadata": {
        "id": "lC282zeaCdtx"
      },
      "outputs": [],
      "source": [
        "def extract_keywords(sentence, transformer=transformer):\n",
        "\n",
        "    \"\"\" Takes an input sentence, and transformer. Returns extracted keywords. \"\"\"\n",
        "\n",
        "    # Convert input sentence into integer sequence (Note that tokenizer.texts_to_sequences() take list of text as input)\n",
        "    ip_tokens = x_tokenizer.texts_to_sequences([sentence])\n",
        "\n",
        "    # Add zero padding upto maximum length transcription\n",
        "    ip_tok_seq = pad_sequences(ip_tokens,  maxlen= max_len_transcript, padding='post', truncating='post')\n",
        "\n",
        "    # Create a decoder sequence with 'start' token index\n",
        "    dec_tok_seq = np.array([y_tokenizer.word_index['start']])\n",
        "\n",
        "    # Variable to store the output text string\n",
        "    keyword_sentence = ''\n",
        "\n",
        "    for i in range(max_len_keywords):\n",
        "\n",
        "        # Get output logits from transformer\n",
        "        pred = transformer([ip_tok_seq.reshape(1,-1), dec_tok_seq.reshape(1, -1)], training=False)\n",
        "        pred = pred[:, -1:, :]\n",
        "\n",
        "        # Select the index with max value from 'pred' to get the output token index\n",
        "        max_index = tf.argmax(pred, axis=-1)\n",
        "        token = max_index.numpy()[0][0]\n",
        "\n",
        "        # Convert output token to word\n",
        "        word = y_tokenizer.index_word[token]\n",
        "\n",
        "        # End the loop if word is 'end'\n",
        "        if word == 'end':\n",
        "            break\n",
        "\n",
        "        # Append 'token' to dec_tok_seq\n",
        "        dec_tok_seq = np.append(dec_tok_seq, token)\n",
        "\n",
        "        # Append 'word' to decoded sentence\n",
        "        keyword_sentence += ' ' + word\n",
        "\n",
        "    return keyword_sentence.strip()\n"
      ]
    },
    {
      "cell_type": "code",
      "execution_count": null,
      "metadata": {
        "colab": {
          "base_uri": "https://localhost:8080/",
          "height": 36
        },
        "id": "iOn8Cj9Za0jo",
        "outputId": "c7583d39-0025-4d10-d022-3706ce72a799"
      },
      "outputs": [
        {
          "data": {
            "application/vnd.google.colaboratory.intrinsic+json": {
              "type": "string"
            },
            "text/plain": [
              "'start allergy immunology allergic rhinitis allergies asthma nasal sprays rhinitis nasal erythematous allegra sprays allergic end'"
            ]
          },
          "execution_count": 93,
          "metadata": {},
          "output_type": "execute_result"
        }
      ],
      "source": [
        "df['keywords'].iloc[0]"
      ]
    },
    {
      "cell_type": "code",
      "execution_count": null,
      "metadata": {
        "colab": {
          "base_uri": "https://localhost:8080/",
          "height": 36
        },
        "id": "uYf0QKUz4HbW",
        "outputId": "c85d62a1-ca16-48e7-ef41-5b7f3b5ff1f7"
      },
      "outputs": [
        {
          "data": {
            "application/vnd.google.colaboratory.intrinsic+json": {
              "type": "string"
            },
            "text/plain": [
              "'soap chart progress notes allergic rhinitis allergies asthma nasal sprays rhinitis nasal erythematous allegra sprays allergic'"
            ]
          },
          "execution_count": 105,
          "metadata": {},
          "output_type": "execute_result"
        }
      ],
      "source": [
        "# Predicted keywords sample\n",
        "extract_keywords(df['transcription'].iloc[0], transformer)"
      ]
    },
    {
      "cell_type": "code",
      "execution_count": null,
      "metadata": {
        "colab": {
          "base_uri": "https://localhost:8080/"
        },
        "id": "iXg_s9pub0su",
        "outputId": "ec540b5c-5c4b-4213-f212-cc4fad0ea0d3"
      },
      "outputs": [
        {
          "data": {
            "text/plain": [
              "((3435,), (382,), (3435,), (382,))"
            ]
          },
          "execution_count": 96,
          "metadata": {},
          "output_type": "execute_result"
        }
      ],
      "source": [
        "# Split text data\n",
        "x_tr_sen, x_val_sen, y_tr_lab, y_val_lab = train_test_split(df['transcription'].astype(str), df['keywords'].astype(str),\n",
        "                                                            test_size=0.1,\n",
        "                                                            random_state=0,\n",
        "                                                            shuffle=True)\n",
        "\n",
        "x_tr_sen.shape, x_val_sen.shape, y_tr_lab.shape, y_val_lab.shape"
      ]
    },
    {
      "cell_type": "code",
      "execution_count": null,
      "metadata": {
        "colab": {
          "base_uri": "https://localhost:8080/"
        },
        "id": "QBf2v9SocE0V",
        "outputId": "bdef132b-99f1-427f-d446-ac04cdc949e1"
      },
      "outputs": [
        {
          "name": "stdout",
          "output_type": "stream",
          "text": [
            "Transcript: subjective followup dietary consultation polycystic ovarian syndrome hyperlipidemia patient reports resumed food record keeping feels like given greater control physical activity level remained high struggle times midafternoon enough food eat well evening dinnerobjective vital signs weight pounds food records reviewedassessment patient experienced weight loss pounds last month commended efforts reviewed food records identifying done nice job keeping calorie count last two three weeks discussed value difficulty resume however suspended record keeping also discussed reflection getting many fruits vegetables regular basis identified ways preventing feeling sluggish problems low blood sugar middle afternoon routinely planning afternoon snack prevent symptoms likely around pm also discussed strategies evening snacking help put definition boundaries snackingplan recommended patient routinely include afternoon snack around pm helpful snack includes protein nuts lowfat cheese also encouraged continue record keeping food choices calorie points also recommended maintain high level physical activity plan follow patient one month ongoing support minute consultation\n",
            "Original keywords: start consult history and phy dietary consultation calorie count calorie points consultation food choices food record hyperlipidemia lowfat cheese many fruits and vegetables physical activity polycystic ovarian syndrome snack dietary polycystic food afternoon end\n",
            "Predicted keywords: consult history and phy dietary consultation calorie count calorie points consultation food journal diabetic exercising exchanges regularly\n",
            "\n",
            "\n",
            "Transcript: admitting diagnoses left renal cell carcinoma left renal cystdischarge diagnosis left renal cell carcinoma left renal cystsecondary diagnoses chronic obstructive pulmonary disease coronary artery diseaseprocedures roboticassisted laparoscopic left renal cyst decortication cystoscopyhistory present illness mr abc yearold male diagnosed left renal cell carcinoma multiple renal cysts undergone mri abdomen june revealing enhancing mass upper pole left kidney consistent history renal cell carcinoma note enhancing solid masses seen mri discussion multiple management strategies patient including left partial nephrectomy left radical nephrectomy left renal cyst decortication patient likely undergo latter procedurehospital course patient admitted undergo left renal cyst decortication well cystoscopy intraoperatively approximately four enlarged renal cysts six smaller renal cysts initially removed contents aspirated careful dissection cyst wall performed multiple specimens cyst wall sent pathology approximately one liter cystic fluid drained procedure renal bed inspected hemostasis appear adequate complications procedure single jp drain left place additionally patient underwent flexible cystoscopy revealed gross strictures abnormalities penile prostatic urethra furthermore gross lesions encountered bladder patient left transfer pacu subsequently hospital floorthe patients postoperative course relatively uneventful diet activity gradually advanced without complication postoperative day passing flatus bowel movements jacksonpratt drain discontinued postoperative day day discharge foley catheter removed morning discharge patient subsequently passed voiding trial without difficultly time discharge afebrile vital signs indicated hemodynamic stability evidence infection patient instructed follow dr xyz pm given prescription pain medications well laxativedisposition homedischarge condition goodmedications please see attached medication listinstructions patient instructed contact dr xyzs office fever greater intractable pain nausea vomiting concernsfollowup patient follow dr xyz postoperative check pm made aware appointment\n",
            "Original keywords: start nephrology decortication cystoscopy pain nausea vomiting renal cyst decortication renal cell carcinoma robotic assisted renal cyst renal robotic laparoscopic nephrectomy cysts cell carcinoma discharge end\n",
            "Predicted keywords: discharge summary decortication cystoscopy pain nausea vomiting renal cell carcinoma robotic assisted renal cell carcinoma robotic laparoscopic nephrectomy cysts cell carcinoma robotic laparoscopic nephrectomy cysts cell carcinoma robotic laparoscopic\n",
            "\n",
            "\n",
            "Transcript: problem rectal bleeding positive celiac sprue panelhistory patient yearold irishgreek female ever since elementary school noted diarrhea constipation cramping nausea vomiting bloating belching abdominal discomfort change bowel habits noted symptoms getting increasingly worse went evaluation finally tested celiac sprue found positive tissue transglutaminase well antiendomysial antibody glutenfree diet approximately one week symptoms remarkably improved actually none symptoms since starting glutenfree diet noted intermittent rectal bleeding constipation toilet tissue feels remarkably better starting glutenfree dietallergies known drug allergiesoperations status post tonsillectomy well ear tubesillnesses questionable kidney stonemedications nonehabits tobacco ethanolsocial history lives currently works dental officefamily history notable mother good health father joint problems questionable celiac disease well two sisters one brother one sister interestingly inflammatory arthritisreview systems notable fever fatigue blurred vision rash itching gi symptoms discussed hpi actually resolved started glutenfree diet also notes headaches anxiety heat cold intolerance excessive thirst urination please see symptoms summary sheet dated april physical examination general welldeveloped pleasant female blood pressure pulse weighs pounds anicteric sclerae pink conjunctivae perrla ent mmm neck supple lungs clear auscultation\n",
            "Original keywords: start gastroenterology bleeding abdominal discomfort belching bloating bowel celiac sprue change in bowel habits constipation cramping diarrhea glutenfree nausea rectal vomiting inflammatory arthritis rectal bleeding gi inflammatory sprue celiac gluten diet end\n",
            "Predicted keywords: consult history and phy bleeding abdominal discomfort belching bloating bowel celiac sprue change in bowel habits constipation cramping diarrhea glutenfree nausea rectal bleeding gi bleeding gi inflammatory arthritis rectal\n",
            "\n",
            "\n",
            "Transcript: preoperative diagnosis left breast mass abnormal mammogrampostoperative diagnosis left breast mass abnormal mammogramprocedure performed needlelocalized excisional biopsy left breastanesthesia local sedationcomplications nonespecimen breast massdisposition patient tolerated procedure well transferred recovery stable conditionintraoperative findings patient nonpalpable left breast mass excised sent radiology confirmation mass specimenbrief history patient yearold female presented dr xs office abnormal mammogram showing suspicious area left breast microcalcifications nonpalpable mass patient scheduled needlelocalized left breast biopsyprocedure informed consent risks benefits procedure explained patient patient brought operating suite iv sedation given patient prepped draped normal sterile fashion next curvilinear incision madeafter anesthetizing skin marcaine lidocaine mixture incision made blade scalpel lesion needle grasped allis clamp using blade scalpel specimen colonized sent radiology confirmation next hemostasis obtained using electrobovie cautery skin closed monocryl suture running subcuticular fashion steristrips sterile dressings applied patient tolerated procedure well sent recovery stable condition\n",
            "Original keywords: start surgery needle localized excisional biopsy excisional biopsy abnormal mammogram breast mass breast radiology biopsy mammogram needle end\n",
            "Predicted keywords: surgery needle localized excisional biopsy excisional biopsy abnormal mammogram breast mass breast radiology biopsy mammogram breast mass mammogram breast mass\n",
            "\n",
            "\n",
            "Transcript: reason examination face asleepcomparison examination nonetechnique multiple axial images obtained brain mm sections acquired mm sections acquired without injection intravenous contrast reformatted sagittal coronal images obtaineddiscussion acute intracranial abnormalities appreciated evidence hydrocephalus midline shift space occupying lesions abnormal fluid collections cortical based abnormalities appreciated sinuses clear acute bony abnormalities identifiedpreliminary report given emergency room conclusion exam dr xyzimpression acute intracranial abnormalities appreciated\n",
            "Original keywords: start neurology ct scan multiple axial images asleep brain coronal coronal images hydrocephalus intracranial intravenous contrast sagittal without contrast ct scan contrast abnormalities end\n",
            "Predicted keywords: neurology ct scan multiple axial images asleep brain coronal images hydrocephalus intracranial hemorrhage intracranial hemorrhage motor vehicle collision axial ct scan contrast ct images parietal\n",
            "\n",
            "\n",
            "Transcript: preoperative diagnosis senile cataract oxpostoperative diagnosis senile cataract oxprocedure phacoemulsification posterior chamber intraocular lens ox model snat acrysof natural lens xxx dioptersindications xxyearold woman decreased vision oxprocedure risks benefits cataract surgery discussed length patient including bleeding infection retinal detachment reoperation diplopia ptosis loss vision loss eye informed consent obtained day surgery received several sets drops xxx eye including phenylephrine mydriacyl cyclogyl ocuflox acular taken operating room sedated via iv sedation lidocaine jelly placed xxx eye retrobulbar anesthesia performed using mixture lidocaine marcaine xxx eye prepped using betadine solution covered sterile drapes leaving xxx eye exposed lieberman lid speculum placed provide exposure thornton fixation ring superblade used create paracentesis approximately depending upon side handedness assuming superior incision oclock lidocaine injected paracentesis nonpreserved lidocaine injected viscoat injected paracentesis fill anterior chamber thornton fixation ring mm keratome blade used create twostep fullthickness clear corneal incision superiorly cystitome utrata forceps used create continuous capsulorrhexis anterior lens capsule bss hydrodissection cannula used perform gentle hydrodissection phacoemulsification performed remove nucleus performed remove remaining cortical material provisc injected fill capsular bag anterior chamber xxx diopter snat acrysof natural lens intraocular lens injected capsular bag kuglen hook used rotate proper position capsular bag performed remove remaining viscoelastic material eye bss gauge cannula used hydrate wound wounds checked found watertight lid speculum drapes carefully removed several drops ocuflox placed xxx eye eye covered eye shield patient taken recovery area good condition complications\n",
            "Original keywords: start ophthalmology phacoemulsification acrysof acrysof natural lens acular kuglen hook ocuflox provisc snat senile cataract thornton fixation ring bleeding capsular bag decreased vision diopters diplopia infection loss of the eye loss of vision ptosis retinal detachment lid speculum thornton fixation anterior chamber intraocular lens intraocular chamber lidocaine end\n",
            "Predicted keywords: ophthalmology phacoemulsification acrysof acrysof natural lens acular kuglen hook ocuflox provisc snat senile cataract thornton fixation ring bleeding capsular bag decreased vision diopters diplopia infection loss of the eye\n",
            "\n",
            "\n",
            "Transcript: indication iron deficiency anemiaprocedure colonoscopy terminal ileum examinationpostoperative diagnosis normal examinationwithdrawal time minutesscope cfhalmedications fentanyl mcg versed mgprocedure detail following preprocedure patient assessment procedure goals risks including bleeding perforation missed polyp rate well side effects medications alternatives reviewed questions answered pause preprocedure performedfollowing titrated intravenous sedation flexible video endoscope introduced rectum advanced cecum without difficulty ileocecal valve looked normal preparation fair allowing examination mucosa washing cleaning tap water scope terminal ileum intubated ileocecal valve cm extent terminal ileum mucosa looked normalthen scope withdrawn examining mucosa carefully including retroflexed views rectum polyp diverticulum bleeding source identifiedthe patient assessed upon completion procedure okay discharge criteria met recommendations follow primary care physician\n",
            "Original keywords: start surgery polyp endoscope mucosa iron deficiency anemia ileocecal valve terminal ileum colonoscopy anemia rectum ileum end\n",
            "Predicted keywords: surgery polyp endoscope mucosa iron deficiency anemia ileocecal valve terminal ileum colonoscopy anemia rectum ileum\n",
            "\n",
            "\n",
            "Transcript: pitocin started quickly allow delivery quickly possible patient rapidly became complete began push additional decelerations babys heart rate suspicions cord around neck variable decelerations occurring late contraction phase baby station occiput anterior position lowforceps delivery performed tucker forceps using gentle traction baby delivered single maternal pushing effort retraction forceps baby little bit depressed birth cord around neck cord cut baby delivered tension responded quickly stimulus given apgar minute minutes female infant seemed weigh pounds officially weighed yet cord gases sent placenta sent pathology cervix placenta rectum seemed intact seconddegree episiotomy repaired vicryl blood loss mlbecause hole dura plan keep patient horizontal day foley catheter left place continuing attended anesthesiologist manage epidural catheter babys father present delivery one patients sisters relieved pleased good outcome\n",
            "Original keywords: start obstetrics gynecology labor delivery pitocin tucker forceps apnea cerebrospinal fluid contraction epidural episiotomy fetal heart tones baby was delivered babys heart rate heart rate catheter placenta cordnote thesetranscribed medical transcription sample reports and examples are provided by various users andare for reference purpose only mthelpline does not certify accuracy and quality of sample reportsthese transcribed medical transcription sample reports may include some uncommon or unusual formatsthis would be due to the preference of the dictating physician all names and dates have beenchanged or removed to keep confidentiality any resemblance of any type of name or date orplace or anything else to real world is purely incidental end\n",
            "Predicted keywords: obstetrics gynecology labor delivery pitocin tucker forceps apnea cerebrospinal fluid contraction epidural episiotomy fetal heart tones baby was delivered babys heart rate catheter placenta cordnote thesetranscribed medical transcription sample\n",
            "\n",
            "\n",
            "Transcript: preoperative diagnoses nasal septal deviation bilateral internal nasal valve collapse bilateral external nasal valve collapsepostoperative diagnoses nasal septal deviation bilateral internal nasal valve collapse bilateral external nasal valve collapseprocedures revision septoplasty repair internal nasal valve collapse using auricular cartilage repair bilateral external nasal valve collapse using auricular cartilage harvest right auricular cartilageanesthesia general endotracheal anesthesiaestimated blood loss approximately mliv fluids include liter crystalloid fluidurine output nonefindings include significantly deviated septum postoperative changes significant septal spur along floor also evidence bilateral internal well external nasal valve collapseindications patient pleasant yearold gentleman undergone previous septorhinoplasty significant trauma presents significant upper airway resistance nasal obstruction unable tolerate cpap machine therefore repair abovementioned deformities including internal external nasal valve collapse well straightening deviated septum risks benefits procedure discussed included limited bleeding infection septal perforation need surgeries external deformity desired proceed surgerydescription procedure detail patient taken operating room laid supine upon table induction general endotracheal anesthesia nose decongested using afrinsoaked pledgets followed injection lidocaine epinephrine submucoperichondrial planes bilaterally examination revealed significant deviation nasal septum bony cartilaginous junction well large septal spur along floor caudal septum appeared adequate position evidence previous caudal septal graft right nares decided leave place following evaluation nose hemitransfixion incision made left revealing large septal spur consisting primarily floor left nostril creating nearly picture vestibular stenosis side carefully mucoperichondrial flaps elevated excised using osteotome taking care preserve cm dorsal caudal strap nasal septum keep attached nasal spine carefully bony cartilaginous junction identified small piece bone spur carefully removed following noted cartilaginous region satisfactory quantity well quality perform adequate grafting procedures therefore attention turned harvesting rightsided auricular cartilage done region adequately prepped draped sterile fashion postauricular incision using blade area submucoperichondrial plane elevated order preserve nice lining identifiable portion cartilage taking care preserve ridge helix times carefully harvested area injected previously lidocaine epinephrine following cartilage removed placed saline noted fashioned bilateral spreader graft alar rim graft well small piece crush used placed along top dorsal irregularity spreader grafts sutured place using submucoperichondrial pockets external septorhinoplasty approach performed reflection skin soft tissue envelope performed adequately revealing straight septum significant narrowing appeared detached perhaps ipsilateral cartilages rather previous surgery secured place pockets using pds suture mattress fashion two places following attention turned placing alar rim grafts pockets created along caudal aspect lower lateral cartilage along alar margin subsequently alar rim grafts placed extended way piriform aperture sutured place using selfabsorbing gut suture lower lateral cartilage inherent asymmetry may related previous surgery asymmetry dome however left place desire changes tip region adequate support endodermal suture placed reenforce region using pds suture following area closed using mattress plain gut keith needle followed application fastabsorbing gut close hemitransfixion incision carefully skin subcutaneous tissue envelopes reflected curvilinear incision closed using vicryl followed interrupted prolene sutures marginal incisions closed using fastabsorbing gut doyle splints placed secured using nylon suture ointment also placed following nasopharynx suctioned abnormalities noted everything appeared nice position therefore external splint placed application steristrips patient tolerated procedure well awakened operating room extubated taken recovery room stable condition\n",
            "Original keywords: start surgery nasal septal deviation nasal septal auricular cartilage nasal nasal obstruction nasal valve septoplasty submucoperichondrial upper airway internal nasal valve external nasal valve hemitransfixion incision revision septoplasty septal spur valve collapse auricular cartilage collapse septum valve end\n",
            "Predicted keywords: surgery nasal septal deviation nasal septal auricular cartilage nasal nasal nasal valve septoplasty submucous internal nasal valve external nasal valve external nasal valve septoplasty submucous external nasal valve septoplasty\n",
            "\n",
            "\n",
            "Transcript: preoperative diagnosis cleft soft palatepostoperative diagnosis cleft soft palateprocedures repair cleft soft palate cpt excise accessory ear tag right earanesthesia generaldescription procedure patient placed supine operating room table anesthesia administered time taken ensure correct patient procedure site face prepped draped sterile fashion right ear tag examined first small piece skin cartilaginous material protruding tragus lesion excised injected bupivacaine epinephrine excised using ellipticalstyle incision dissection carried subcutaneous tissue remove cartilaginous attachment tragus done wound cauterized closed using interrupted monocryl attention turned towards palate dingman mouthgag inserted palate injected bupivacaine epinephrine giving minutes take effect palate incised along margins anterior oral mucosa lifted held demonstrating underlying levator muscle muscle freed attachments junction hard palate swept approximated across midline zplasties designed would opposing zplasties nasal mucosa compared oral mucosa nasal mucosa sutured first using interrupted vicryl next muscle reapproximated using interrupted vicryl attempt overlap muscle midline addition remnant uvula tissue found sutured place would add extra bulk nasal surface palate following oral layer mucosa repaired using opposing zplasty compared nasal layer also sutured place using interrupted vicryl anterior posterior open edges palatal sewn together patient tolerated procedure well suction blood mucus performed end case patient tolerated procedure wellimmediate complications nonedisposition satisfactory condition recovery\n",
            "Original keywords: start surgery repair tragus oral mucosa nasal mucosa ear tag soft palate palate cleft soft end\n",
            "Predicted keywords: surgery repair tragus oral mucosa nasal mucosa ear tag soft palate palate palate cleft soft\n",
            "\n",
            "\n"
          ]
        }
      ],
      "source": [
        "# Prediction on training set\n",
        "\n",
        "for i in range(10):\n",
        "\n",
        "    try:\n",
        "        print(\"Transcript:\", x_tr_sen.iloc[i])\n",
        "        print(\"Original keywords:\", y_tr_lab.iloc[i])\n",
        "        print(\"Predicted keywords:\", extract_keywords(x_tr_sen.iloc[i], transformer))\n",
        "        print(\"\\n\")\n",
        "    except:\n",
        "        pass"
      ]
    },
    {
      "cell_type": "code",
      "execution_count": null,
      "metadata": {
        "colab": {
          "base_uri": "https://localhost:8080/"
        },
        "id": "4a-dMvPsVxjw",
        "outputId": "8496ca98-9df1-458f-a4ef-b186920e6bfd"
      },
      "outputs": [
        {
          "name": "stdout",
          "output_type": "stream",
          "text": [
            "Transcript: operation lumbar epidural steroid injection intralaminar approach seated positionanesthesia\n",
            "Original keywords: start pain management loss of resistance technique methylprednisolone acetate lumbar epidural steroid injection epidural steroid injection tuohy needle steroid injection epidural space intralaminar approach injection intralaminar saline epidural end\n",
            "Predicted keywords: pain management epidural space lumbar epidural steroid injection tuohy needle steroid injection bovie pain trigger\n",
            "\n",
            "\n",
            "Transcript: reason admission intraperitoneal chemotherapyhistory pleasant yearold hypertensive nondiabetic africanamerican female history peritoneal mesothelioma patient received prior intravenous chemotherapy due increasing renal insufficiency difficulties hydration elected change intraperitoneal therapy first course intraperitoneal cisplatin difficultly tolerated therefore last hospitalization ip chemo switched taxol patient since last visit done relatively well acute problems basically chronic difficulties decrease appetite although weight stable fever chills sweats activity remains good continued difficulty depression associated type bipolar disease recent ct scan chest abdomen report showed following findings chest small hiatal hernia calcification region mitral valve one mildly enlarged mediastinal lymph node several areas groundglass opacity noted lower lungs subtle nonspecific pulmonary masses noted abdomen abnormalities liver pancreas spleen left adrenal gland right adrenal gland x mm right adrenal adenoma noted bilateral renal masses present optimally evaluated due noncontrast study hyperdense focus lower pole left kidney felt probably represent hemorrhagic renal cyst unchanged february measured mm minimal left pelviciliac right left peritoneal catheters noted unremarkable mesenteric nodes seen similar appearance previous study felt somewhat conspicuous due opacified bowel adjacent conglomerate omental mass decreased volume compared previous study measuring x cm pelvis small amount ascites right pelvis extending inferior right paracolic gutter suspicious osseous lesions notedcurrent medications norco per one two po qh prn pain atenolol mg po bid levoxyl mcg po daily phenergan mg po qh prn nausea lorazepam mg every hours needed anxiety ventolin hfa puffs qh prn plavix mg po daily norvasc mg po daily cymbalta mg po daily restoril mg bedtime needed sleepallergies patient states occasion lorazepam dose produce hallucinations difficulty tolerating ativanphysical examinationvital signs patients height cm weight kg bsa sq vital signs reveal blood pressure heart rate per minute regular sinus rhythm temperature degrees respiratory rate spo room airgeneral normally developed well nourished cooperative oriented person place time distress time anictericheent eom full pupils equal round reactive light accommodation disc margins unremarkable ocular fields mouth pharynx within normal limits tms glistening bilaterally external auditory canals unremarkableneck supple nontender without adenopathy trachea midline bruits jugular venous distentionchest clear percussion auscultation bilaterallyheart regular rate rhythm without murmur gallop rubbreasts unremarkableabdomen slightly protuberant bowel tones present normal palpable mass hepatosplenomegalyextremities within normal limitsneurological nonfocaldiagnostic impression intraperitoneal mesothelioma partial remission noted ct scan abdomen presumed left lower pole kidney hemorrhagic cyst history hypertension type bipolar diseaseplan patient appropriate laboratory studies done left renal ultrasound requested delineate possible hemorrhagic cyst lower left pole left kidney interventional radiology access ports abdomen receive chemotherapy intraperitoneally plan use intraperitoneal taxol\n",
            "Original keywords: start hematology oncology chemo taxol intraperitoneal mesothelioma peritoneal mesothelioma intravenous chemotherapy adrenal gland hemorrhagic cyst peritoneal intraperitoneal hemorrhagic mesothelioma chemotherapy end\n",
            "Predicted keywords: discharge summary pelvic pain endometriosis astramorph total abdominal hysterectomy enlarged fibroid metzenbaum scissors liver bed abdomen pelvis ovary uterus protocol adhesions interloop bowel pelvis abdomen\n",
            "\n",
            "\n",
            "Transcript: history present illness mr abc yearold gentleman markedly abnormal stress test earlier today office severe chest pain minutes exercise standard bruce horizontal st depressions moderate apical ischemia stress imaging required sublingual nitroglycerin total please see also admission history physical full detailsthe patient underwent cardiac catheterization today showed mildtomoderate left main distal disease moderate proximal lad severe midlad lesion midleft circumflex lesion normal lv function mild luminal irregularities right coronary artery moderate stenosis seen mid distal right pdai discussed results patient relating rest anginal symptoms well nocturnal anginal symptoms especially given severity mid left anterior descending lesion markedly abnormal stress test felt best suited transfer pci discussed case dr x medical center kindly accepted patient transfercondition transfer stable guarded patient painfree timemedications transfer aspirin mg day metoprolol mg day hold relative bradycardia apparently history nexium mg day zocor mg day fasting lipid profile pending time dictation see ldl may plavix mg po x giving tonightother medical history inclusive obstructive sleep apnea unable tolerate positive pressure ventilation gerd arthritisdisposition patient wife requested agreeable transfer medical center enclosing cd rom images\n",
            "Original keywords: start consult history and phy standard bruce nitroglycerin abnormal stress test st depressions anginal symptoms stress test lad anginal stress end\n",
            "Predicted keywords: cardiovascular pulmonary standard bruce protocol st segment cervix hypodense proximal wall motion distal lad focal calcified plaque coronary artery disease cardiac function function test lad stress test stress test\n",
            "\n",
            "\n",
            "Transcript: cc rle weaknesshx yo rhm found slumped steering wheel fed ex truck driving cyanotic pulseless according witnesses emt evaluation revealed ventricular fibrillation given epinephrine lidocaine bretylium electrically defibrillated intubated field upon arrival local er cardiac rhythm deteriorated required counter shocks defibrillation joules per shock epinephrine lidocaine effect given intracardiac epinephrine subsequent electrical defibrillation placed atrial fibrillation taken emergently cardiac catherization found normal coronary arteries admitted intensive care unit required intraortic balloon pump pressure support via right gorin blood pressure gradually improved balloon pump discontinued recovery complicated acute renal failure liver failure initail ck ckmb fraction normal patient experienced cp underwent cardiac catherization time found single occlusion distal lad association inferior hypokinesis subsequent ck ckmb elevated patient amnestic event days following event transferred uihc cardiac electrophysiology studymeds nifedipine asa amiodarone capoten isordil tylenol darvocet prn reglan prn coumadin kcl slntg prn caco valium prn nubain prnpmh hypercholesterolemiafhx father alive age ho tias mother died age chf afib cad maternal grandfather died mi ho svt maternal grandmother ho svtshx married children driver fed ex denied tobaccoetohillicit drug useexam bp hr rr afebrilems ao person place time euthymic appropriate affectcn unremarkablemotor hip flexion hip extension knee flexion knee extension plantar flexion extension inversion eversion full strength thoughout buesensory decreased ppviblttemp anterior aspect thigh leg femoral nerve distributioncoord poor slowed hks right due weaknessstation drift romberg signgait difficulty bearing weight rlereflexes throughout bue patellae archilles plantar responses flexor bilaterallycourse mri pelvis revealed increased weighted signal within right iliopsoas suggestive hematoma intraosseous lipoma incidentally notice right sacrum neuropsychologic assessment showed moderately compromised anterograde verbal memory temporal orientation retrograde recall expectations findings consistent mesial temporal dysfunction secondary anoxic injury mild lieu history underwent implantation medtronic internal cardiac difibrillator cardiac electrophysiology study found inducible ventricular tachycardia fibrillation suffered mild moderate permanent rle weakness especially involving quadriceps femoral nerve compression present long warrant decompression emgncv studies revealed severe axonal degeneration\n",
            "Original keywords: start consult history and phy cardiac electrophysiology study iliopsoas hematoma rle weakness balloon pump femoral nerve cardiac catherization hematoma iliopsoas catherization epinephrine fibrillation cardiac end\n",
            "Predicted keywords: radiology cardiac electrophysiology study iliopsoas hematoma rle weakness balloon cardiac catherization hematoma subarachnoid hemorrhage mediastinum cuff tear cardiac cardiac cardiac\n",
            "\n",
            "\n",
            "Transcript: preoperative dx dermatochalasis mechanical ptosis brow ptosispostoperative dx sameprocedure upper lid blepharoplasty direct brow liftanesthesia local sedationindications surgery preoperative evaluation patient found visually significant symptomatic dermatochalasis brow ptosis causing mechanical ptosis visual field obstruction visual field testing showed superior hemifield loss right superior hemifield loss left field losses resolved upper eyelid taping simulates expected surgical correction photodocumentation also showed upper eyelids resting upper eyelashes well decrease effective superior marginal reflex distance risks benefits limitations alternatives expected improvement symptoms visual field loss discussed preoperative evaluationdescription procedure day surgery surgical site procedure verified physician patient informed consent signed witnessed emla cream applied eyelids eyebrow region minutes provide skin anesthesia two drops topical proparacaine eye drops placed ocular surface skin cleaned alcohol prep pads patient received ml lidocaine epinephrine marcaine mixture upper lid ml local also given brow region along entire length pressure applied site minutes patient prepped draped normal sterile fashion oculoplastic surgerythe desired amount redundant brow tissue excised carefully marked surgical marking pen side contour outline created provide greater temporal lift care taken preserve natural contour brow shape consistent patient’s desired features using blade initial incision placed inside superior row brow hairs parallel follicle growth orientation incision extended nasal temporal fashion nasal portion incision carried muscle becoming progressively shallower toward tail incision line dimensions redundant tissue measured horizontally vertically redundant tissue removed sharply westcott scissors hemostasis maintained hand held cautery andor electrocautery closure carried multiple layers deepest muscularsubcutaneous tissue closed transparent nylon horizontal mattress fashion intermediate layer closed vicryl similarly skin closed nylon running lock fashion iced saline gauze pads placed incision sites completed brow repair portion caseusing surgical marking pen vertical line drawn superior punctum eyebrow angled line drawn ala nares lateral canthus edge extending tail brow lines served relative boundary horizontal length blepharoplasty incision desired amount redundant tissue excised carefully pinched together forceps tissue outlined surgical marking pen care taken avoid excessive skin removal near brow region surgical ruler used ensure symmetry skin superficial orbicularis incised blade first upper lid layer removed westcott scissorshemostasis achieved hightemp hand held pen cautery remaining orbicularis septum grasped superiorly inferiorly side incision tented upward high temp cautery pen used incise layers horizontal fashion preapeuronotic fat identified amount central preaponeurotic fat removed cautery amount nasal fat pad removed fashion care taken disturb levator aponeurosis symmetric amount fat removed side iced gauze saline placed site entire procedure repeated fellow eyelid skin hooks placed either side incision skin closed continuous running fashion nylon erythromycin ophthalmic ointment placed incision site ocular surface saline gauze cold packs placed upper lids patient taken surgical suite good conditiondischarge recovery area results surgery discussed patient family specific instructions resume po oral medications including anticoagulantsantiplatelets given written instructions restrictions eyelid surgery reviewed patient family member instructions antibiotic ointment use reviewed incision sites checked prior release patient released home driver vital signs deemed stable\n",
            "Original keywords: start ophthalmology dermatochalasis erythromycin ophthalmic saline gauze blepharoplasty brow ptosis cold packs direct brow lift follicle growth hemifield loss marginal reflex mechanical ptosis ocular surface superficial orbicularis visual field surgical marking pen direct brow redundant tissue incision sites incision brow ptosis surgical end\n",
            "Predicted keywords: surgery frozen section fullthickness skin grafting squamous cell carcinoma eyelid orbicularis skin grafting extremities frozen section thoracotomy examination fullthickness skin graft nasal cavity fallopian tubes\n",
            "\n",
            "\n",
            "Transcript: preoperative diagnosis prostate cancerpostoperative diagnosis prostate canceroperation performed radical retropubic nervesparing prostatectomy without lymph node dissectionestimated blood loss mlreplacement ml cell saver crystalloidcomplications noneindications surgery yearold man needle biopsy proven gleason adenocarcinoma one solitary place right side prostate due healthy comorbid conditions elected undergo surgical treatment radical retropubic prostatectomy potential complications include limited infection bleeding incontinence impotence injury adjacent viscera deep venous thrombosisprocedure detail prophylactic antibiotic given preoperative holding area patient transferred operating room epidural anesthesia general endotracheal anesthesia administered dr without difficulty patient shaved prepped draped using usual sterile technique sterile french foley catheter placed clear urine drained midline infraumbilical incision performed using scalpel blade rectus fascia subcutaneous space opened using bovie transversalis fascia opened midline retropubic space paravesical space developed bluntly bookwalter retractor placed area obturator lymph nodes carefully inspected suspicious adenopathy detected given patients low gleason score low psa solitary core biopsy positive decision made perform bilateral lymphadenectomy endopelvic fascia opened bilaterally using metzenbaum scissors opening enlarged using sharp dissection small perforating veins prostate lateral pelvic wall controlled using bipolar coagulation device dorsal aspect prostate bunched using silk sutures deep dorsal vein complex bunched using allis also ligated using vicryl suture figureofeight fashion prostate retracted cephalad deep dorsal vein complex transected superficially using bovie deeper near urethra dorsal vein complex transected using metzenbaum scissors urethra could easily identified nearly twothird urethra anteriorly posteriorly opened using metzenbaum scissors exposed blue foley catheter anastomotic sutures placed urethral stump using monocryl suture six placed evenly spaced anteriorly posteriorly foley catheter removed allowed better traction prostate laterally lateral pelvic fascia opened bilaterally effectively released neurovascular bundle apex base prostate continued dissection lateral pelvic fascia deeply opened plane perirectal fat prostate dissected laterally medially opening perirectal fat floor urethra posteriorly rectourethralis muscle transected distal prostate maximal length ureteral stump preserved prostate carefully lifted cephalad using gentle traction fine forceps prostate easily dissected perirectal fat using sharp dissection absolutely traction neurovascular bundle evident point time dissection carried easily seminal vesicles could visualized prostate pedicles controlled easily using multiple medium clips separate small bundles side bladder neck dissected using bladder neck dissection method unfortunately bladder neck fiber could preserved due patients anatomy prostate separated bladder area bladder neck dissection carried posteriorly develop plane bladder seminal vesicles developed without difficulty vas deferens identified hemoclipped transected seminal vesicles sides quite large decision made completely dissect tip extended quite deeply pelvis twothirds seminal vesicles able removed tip left behind using bipolar gyrus coagulation device seminal vesicles clamped tip sealed cautery transected performed left side right side completely freed prostate prostate sent permanent section opening bladder neck reduced using two separate vicryl sutures mucosa bladder neck everted using chromic sutures small amount bleeding around area posterior bladder wall controlled using suture ligature ureteral orifice could seen easily bladder neck opening completely away everting sutures previously placed anastomotic suture urethral stump placed corresponding position bladder neck performed using french needle french foley catheter inserted sutures sequentially tied ml sterile water inflated balloon bladder anastomosis urethra performed without difficulty french blake drain placed left pelvis exiting right inguinal region instrument counts lap counts latex verified twice prior closure rectus fascia closed running fashion using pds subcutaneous space closed using vicryl sutures skin reapproximated using metallic clips patient tolerated procedure well transferred recovery room stable condition\n",
            "Original keywords: start urology prostate cancer foley catheter gleason psa prostate adenocarcinoma bladder neck core biopsy figureofeight lymph node dissection nervesparing prostatectomy rectus fascia retropubic bladder neck dissection dorsal vein complex nerve sparing perirectal fat seminal vesicles sutures bladder urethra posteriorly seminal vesicles fascia neck dissection end\n",
            "Predicted keywords: surgery prostate cancer foley catheter metzenbaum scissors prostate adenocarcinoma bladder lymphadenectomy pelvic lymph node dissection perivesical prostatectomy retropubic urethra radical retropubic prostatectomy lymph node dissection dorsal vein complex radical\n",
            "\n",
            "\n",
            "Transcript: history patient yearold male involved fight approximately hour prior ed presentation punched guy times face might mouth punched drinking glass breaking lacerating right hand three lacerations right hand wound cleaned thoroughly tap water one navy corpsman tried use superglue gauze repair however continues bleed evaluationpast medication history significant asthma acnecurrent medications accutane takes medicationstetanus status uptodatesocial history nonsmoker drinking alcohol today history alcohol drug abusereview systems otherwise well febrile illness motor sensory complaints sort paresthesias handphysical exam general apparent distress alert oriented x mental status clear appropriate vitals signs temperature heart rate respirations blood pressure oxygen saturation room air pulse oximetry normal extremities right hand three lacerations mcp joint right hand irregular shaped fifth mcp fourth third half wound similarly lacerations total approximately cm length see foreign bodies capillary refills less seconds radial pulses intact full range motion gross deformities significant amount edema associated dorsum handstudies xrays shows open fracture bony abnormalityemergency department course patient anesthetized xylocaine wounds thoroughly irrigated tap water least liters repaired simple sutures ethilon total sutures simple one horizontal mattress patient given augmentin mg po due possibility human bite woundassessment right hand lacerations simple x repaired described signs bony abnormality foreign bodyplan patient given augmentin mg po bid days given prescription vicoprofen unable tolerate tylenol due accutane take po every hours needed follow suture removal days develop signs infection come immediately reevaluation discharged stable condition\n",
            "Original keywords: start office notes accutane hand laceration laceration hand end\n",
            "Predicted keywords: general medicine accutane hand laceration hand\n",
            "\n",
            "\n",
            "Transcript: indications atrial fibrillation coronary diseasestress technique patient infused dobutamine maximum heart rate ecg exhibits atrial fibrillationimage technique patient injected millicuries thallous chloride subsequently imaged gated tomographic spect systemimage analysis noted images limited slightly patients obesity weight pounds normal lv myocardial perfusion lv systolic ejection fraction normal normal global regional wall motionconclusions basic rhythm atrial fibrillation change dobutamine stress maximum heart rate normal lv myocardial perfusion normal lv systolic ejection fraction normal global regional wall motion\n",
            "Original keywords: start radiology dobutamine stress test atrial fibrillation lv myocardial perfusion lv systolic ejection fraction coronary disease dobutamine ejection fraction gated tomographic spect system thallous chloride wall motion stress fibrillation atrial end\n",
            "Predicted keywords: cardiovascular pulmonary dobutamine stress test atrial fibrillation lv myocardial perfusion lv systolic ejection fraction coronary artery disease dobutamine ejection fraction gated tomographic spect system myocardial perfusion thallous chloride wall\n",
            "\n",
            "\n",
            "Transcript: exam coronary artery cta calcium scoring cardiac functionhistory chest paintechnique findings coronary artery cta performed siemens dualsource ct scanner postprocessing vitrea workstation ml ultravist utilized intravenous contrast agent patient receive nitroglycerin sublingually prior contrasthistory significant high cholesterol overweight chest pain family historypatients total calcium score agatston places patient th percentile agethe lad moderate area stenosis midportion due focal calcified plaque distal lad unreadable proximal normal mid distal right coronary artery well delineated due beamhardening artifact circumflex diminutive size along proximal portion distal readablecardiac wall motion within normal limits gross pulmonary artery abnormality however well delineated full report placed patients chart report saved pacs\n",
            "Original keywords: start cardiovascular pulmonary coronary artery cta calcium scoring cardiac function coronary artery ct scoring lad midportion cta calcium cardiac coronary artery angiography end\n",
            "Predicted keywords: radiology coronary artery ct angiography vitrea workstation cardiac wall motion proximal lad distal lad focal calcified plaque coronary artery disease cardiac function calcium scoring wall motion distal vessel calcified\n",
            "\n",
            "\n",
            "Transcript: chief complaint jaw painhistory present illness yearold male started toothache left lower side mouth radiating jaw towards left ear triage nurse reported believe tooth regular dental appointments seen dentist since new toothache began patient denies facial swelling headache swelling throat sore throat difficulty swallowing liquids solids neck pain lymph node swelling patient denies fever chills denies problems complaintsreview systems constitutional fever chills fatigue weakness heent headache neck pain eye pain vision change rhinorrhea sinus congestion pressure pain sore throat throat swelling patient toothache left lower side radiates towards left ear previously described patient ear pain hearing change pressure ear cardiovascular chest pain respirations shortness breath gastrointestinal nausea vomiting abdominal pain musculoskeletal back pain skin rashes lesions neurologic vision hearing change speech change hematologiclymphatic lymph node swellingpast medical history nonepast surgical history nonecurrent medications noneallergies known drug allergiessocial history patient smokes marijuana patient smoke cigarettesphysical examination vital signs temperature oral blood pressure pulse respirations oxygen saturation room air interpreted normal constitutional patient well nourished well developed patient appears healthy patient calm comfortable acute distress looks well patient pleasant cooperative heent head atraumatic normocephalic nontender eyes normal clear cornea conjunctivae bilaterally nose normal without rhinorrhea audible congestion tenderness sinuses ears normal without sign infection erythema swelling canals tympanic membranes intact normal without erythema bulging air fluid levels bubbles behind mouth patient dental fracture tooth patient states fracture couple months old patient obvious dental caries gums normal without erythema swelling evidence infection fluctuance suggestion abscess slight tenderness tooth oropharynx normal without sign infection erythema exudate lesion swelling mucous membranes moist floor mouth normal without tenderness swelling suggestion abscess pre post auricular lymphadenopathy either neck supple nontender full range motion meningismus cervical lymphadenopathy jvd carotid artery vertebral artery bruits cardiovascular heart regular rate rhythm without murmur rub gallop respirations clear auscultation bilaterally shortness breath gastrointestinal abdomen normal nontender musculoskeletal abnormalities noted back arms legs patient normal use extremities skin rashes lesions neurologic cranial nerves ii xii intact patient normal speech normal ambulation psychiatric patient alert oriented x normal mood affect evidence clinical intoxification hematologiclymphatic lymphadenitis palpateddiagnoses acute left jaw pain dental fracture ellis type ii fracture elevated blood pressurecondition upon disposition stabledisposition homeplan patient follow dentist dr x three five days reevaluation patient encouraged take motrin mg qh needed pain patient given prescription vicodin breakthrough uncontrolled pain given precautions drowsiness driving use medication patient also given prescription pen v patient given discharge instructions toothache asked return emergency room worsening condition develop problems symptoms concern\n",
            "Original keywords: start emergency room reports jaw pain dental appointment ellis type ii fracture ellis type dental fracture toothache tenderness pressure erythema end\n",
            "Predicted keywords: consult history and phy jaw pain dental appointment ellis type dental fracture ellis type dental fracture toothache tenderness pressure erythema\n",
            "\n",
            "\n"
          ]
        }
      ],
      "source": [
        "# Prediction on validation set\n",
        "\n",
        "for i in range(10):\n",
        "\n",
        "    try:\n",
        "        print(\"Transcript:\", x_val_sen.iloc[i])\n",
        "        print(\"Original keywords:\", y_val_lab.iloc[i])\n",
        "        print(\"Predicted keywords:\", extract_keywords(x_val_sen.iloc[i], transformer))\n",
        "        print(\"\\n\")\n",
        "    except:\n",
        "        pass"
      ]
    },
    {
      "cell_type": "markdown",
      "metadata": {
        "id": "DXQYvbik134w"
      },
      "source": [
        "## Gradio Implementation"
      ]
    },
    {
      "cell_type": "markdown",
      "metadata": {
        "id": "f9LGFxtQjwxv"
      },
      "source": [
        "Gradio is an open-source python library that allows us to quickly create easy-to-use, customizable UI components for our ML model, any API, or any arbitrary function in just a few lines of code. We can integrate the GUI directly into the Python notebook, or we can share the link with anyone."
      ]
    },
    {
      "cell_type": "code",
      "execution_count": null,
      "metadata": {
        "colab": {
          "base_uri": "https://localhost:8080/"
        },
        "id": "wl0ngdnKjKHH",
        "outputId": "c6a253e7-f63e-49df-9bb7-6d3ff4264ecb"
      },
      "outputs": [
        {
          "name": "stdout",
          "output_type": "stream",
          "text": [
            "\u001b[2K     \u001b[90m━━━━━━━━━━━━━━━━━━━━━━━━━━━━━━━━━━━━━━━━\u001b[0m \u001b[32m50.4/50.4 kB\u001b[0m \u001b[31m3.8 MB/s\u001b[0m eta \u001b[36m0:00:00\u001b[0m\n",
            "\u001b[2K   \u001b[90m━━━━━━━━━━━━━━━━━━━━━━━━━━━━━━━━━━━━━━━━\u001b[0m \u001b[32m16.8/16.8 MB\u001b[0m \u001b[31m67.2 MB/s\u001b[0m eta \u001b[36m0:00:00\u001b[0m\n",
            "\u001b[2K   \u001b[90m━━━━━━━━━━━━━━━━━━━━━━━━━━━━━━━━━━━━━━━━\u001b[0m \u001b[32m318.7/318.7 kB\u001b[0m \u001b[31m23.9 MB/s\u001b[0m eta \u001b[36m0:00:00\u001b[0m\n",
            "\u001b[2K   \u001b[90m━━━━━━━━━━━━━━━━━━━━━━━━━━━━━━━━━━━━━━━━\u001b[0m \u001b[32m75.6/75.6 kB\u001b[0m \u001b[31m7.0 MB/s\u001b[0m eta \u001b[36m0:00:00\u001b[0m\n",
            "\u001b[2K   \u001b[90m━━━━━━━━━━━━━━━━━━━━━━━━━━━━━━━━━━━━━━━━\u001b[0m \u001b[32m77.9/77.9 kB\u001b[0m \u001b[31m6.9 MB/s\u001b[0m eta \u001b[36m0:00:00\u001b[0m\n",
            "\u001b[2K   \u001b[90m━━━━━━━━━━━━━━━━━━━━━━━━━━━━━━━━━━━━━━━━\u001b[0m \u001b[32m141.9/141.9 kB\u001b[0m \u001b[31m13.6 MB/s\u001b[0m eta \u001b[36m0:00:00\u001b[0m\n",
            "\u001b[2K   \u001b[90m━━━━━━━━━━━━━━━━━━━━━━━━━━━━━━━━━━━━━━━━\u001b[0m \u001b[32m10.3/10.3 MB\u001b[0m \u001b[31m107.8 MB/s\u001b[0m eta \u001b[36m0:00:00\u001b[0m\n",
            "\u001b[2K   \u001b[90m━━━━━━━━━━━━━━━━━━━━━━━━━━━━━━━━━━━━━━━━\u001b[0m \u001b[32m62.8/62.8 kB\u001b[0m \u001b[31m5.8 MB/s\u001b[0m eta \u001b[36m0:00:00\u001b[0m\n",
            "\u001b[2K   \u001b[90m━━━━━━━━━━━━━━━━━━━━━━━━━━━━━━━━━━━━━━━━\u001b[0m \u001b[32m93.2/93.2 kB\u001b[0m \u001b[31m8.7 MB/s\u001b[0m eta \u001b[36m0:00:00\u001b[0m\n",
            "\u001b[2K   \u001b[90m━━━━━━━━━━━━━━━━━━━━━━━━━━━━━━━━━━━━━━━━\u001b[0m \u001b[32m58.3/58.3 kB\u001b[0m \u001b[31m5.7 MB/s\u001b[0m eta \u001b[36m0:00:00\u001b[0m\n",
            "\u001b[2K   \u001b[90m━━━━━━━━━━━━━━━━━━━━━━━━━━━━━━━━━━━━━━━━\u001b[0m \u001b[32m72.0/72.0 kB\u001b[0m \u001b[31m6.8 MB/s\u001b[0m eta \u001b[36m0:00:00\u001b[0m\n",
            "\u001b[2K   \u001b[90m━━━━━━━━━━━━━━━━━━━━━━━━━━━━━━━━━━━━━━━━\u001b[0m \u001b[32m130.2/130.2 kB\u001b[0m \u001b[31m12.9 MB/s\u001b[0m eta \u001b[36m0:00:00\u001b[0m\n",
            "\u001b[?25h"
          ]
        }
      ],
      "source": [
        "!pip -qq install gradio"
      ]
    },
    {
      "cell_type": "code",
      "execution_count": null,
      "metadata": {
        "id": "3XwCJSdDDVVU"
      },
      "outputs": [],
      "source": [
        "import gradio"
      ]
    },
    {
      "cell_type": "code",
      "execution_count": null,
      "metadata": {
        "colab": {
          "base_uri": "https://localhost:8080/",
          "height": 145
        },
        "id": "iJeqlBj8aSVc",
        "outputId": "8f0c4fdc-54ef-4a8b-9fc0-b9ab20628808"
      },
      "outputs": [
        {
          "data": {
            "application/vnd.google.colaboratory.intrinsic+json": {
              "type": "string"
            },
            "text/plain": [
              "'admitting diagnoses left renal cell carcinoma left renal cystdischarge diagnosis left renal cell carcinoma left renal cystsecondary diagnoses chronic obstructive pulmonary disease coronary artery diseaseprocedures roboticassisted laparoscopic left renal cyst decortication cystoscopyhistory present illness mr abc yearold male diagnosed left renal cell carcinoma multiple renal cysts undergone mri abdomen june revealing enhancing mass upper pole left kidney consistent history renal cell carcinoma note enhancing solid masses seen mri discussion multiple management strategies patient including left partial nephrectomy left radical nephrectomy left renal cyst decortication patient likely undergo latter procedurehospital course patient admitted undergo left renal cyst decortication well cystoscopy intraoperatively approximately four enlarged renal cysts six smaller renal cysts initially removed contents aspirated careful dissection cyst wall performed multiple specimens cyst wall sent pathology approximately one liter cystic fluid drained procedure renal bed inspected hemostasis appear adequate complications procedure single jp drain left place additionally patient underwent flexible cystoscopy revealed gross strictures abnormalities penile prostatic urethra furthermore gross lesions encountered bladder patient left transfer pacu subsequently hospital floorthe patients postoperative course relatively uneventful diet activity gradually advanced without complication postoperative day passing flatus bowel movements jacksonpratt drain discontinued postoperative day day discharge foley catheter removed morning discharge patient subsequently passed voiding trial without difficultly time discharge afebrile vital signs indicated hemodynamic stability evidence infection patient instructed follow dr xyz pm given prescription pain medications well laxativedisposition homedischarge condition goodmedications please see attached medication listinstructions patient instructed contact dr xyzs office fever greater intractable pain nausea vomiting concernsfollowup patient follow dr xyz postoperative check pm made aware appointment'"
            ]
          },
          "execution_count": 109,
          "metadata": {},
          "output_type": "execute_result"
        }
      ],
      "source": [
        "# Input sample\n",
        "x_tr_sen.iloc[1]"
      ]
    },
    {
      "cell_type": "code",
      "execution_count": null,
      "metadata": {
        "colab": {
          "base_uri": "https://localhost:8080/",
          "height": 614
        },
        "id": "Uu3aNCCXQEy2",
        "outputId": "eea8a908-39f0-4510-ff04-7c79f71fbfb9"
      },
      "outputs": [
        {
          "name": "stdout",
          "output_type": "stream",
          "text": [
            "Colab notebook detected. To show errors in colab notebook, set debug=True in launch()\n",
            "Running on public URL: https://f6a0145fc2b5e44792.gradio.live\n",
            "\n",
            "This share link expires in 72 hours. For free permanent hosting and GPU upgrades, run `gradio deploy` from Terminal to deploy to Spaces (https://huggingface.co/spaces)\n"
          ]
        },
        {
          "data": {
            "text/html": [
              "<div><iframe src=\"https://f6a0145fc2b5e44792.gradio.live\" width=\"100%\" height=\"500\" allow=\"autoplay; camera; microphone; clipboard-read; clipboard-write;\" frameborder=\"0\" allowfullscreen></iframe></div>"
            ],
            "text/plain": [
              "<IPython.core.display.HTML object>"
            ]
          },
          "metadata": {},
          "output_type": "display_data"
        },
        {
          "data": {
            "text/plain": []
          },
          "execution_count": 110,
          "metadata": {},
          "output_type": "execute_result"
        }
      ],
      "source": [
        "# Input from user\n",
        "in_transcript = gradio.Textbox(lines=10, placeholder=None, value=\"transcription\", label='Enter Transcription Text')\n",
        "\n",
        "# Output prediction\n",
        "out_keywords = gradio.Textbox(type=\"text\", label='Extracted Keywords')\n",
        "\n",
        "\n",
        "# Gradio interface to generate UI\n",
        "iface = gradio.Interface(fn = extract_keywords,\n",
        "                         inputs = [in_transcript],\n",
        "                         outputs = [out_keywords],\n",
        "                         title = \"Keywords Extraction\",\n",
        "                         description = \"Using transformer model, trained from scratch\",\n",
        "                         allow_flagging = 'never')\n",
        "\n",
        "iface.launch(share = True)"
      ]
    },
    {
      "cell_type": "markdown",
      "metadata": {
        "id": "j2eQkcvnvntC"
      },
      "source": [
        "Click on the link generated above to access the UI."
      ]
    }
  ],
  "metadata": {
    "colab": {
      "provenance": []
    },
    "kernelspec": {
      "display_name": "Python 3",
      "name": "python3"
    },
    "language_info": {
      "codemirror_mode": {
        "name": "ipython",
        "version": 3
      },
      "file_extension": ".py",
      "mimetype": "text/x-python",
      "name": "python",
      "nbconvert_exporter": "python",
      "pygments_lexer": "ipython3",
      "version": "3.7.0"
    }
  },
  "nbformat": 4,
  "nbformat_minor": 0
}
